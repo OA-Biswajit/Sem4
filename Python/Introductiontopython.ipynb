{
  "nbformat": 4,
  "nbformat_minor": 0,
  "metadata": {
    "colab": {
      "provenance": []
    },
    "kernelspec": {
      "name": "python3",
      "display_name": "Python 3"
    },
    "language_info": {
      "name": "python"
    }
  },
  "cells": [
    {
      "cell_type": "markdown",
      "source": [
        "Datatype"
      ],
      "metadata": {
        "id": "Velr0tA2ZPUS"
      }
    },
    {
      "cell_type": "code",
      "source": [
        "'''none datatype'''\n",
        "var=None\n",
        "if var is None:\n",
        "  print('it is none')\n",
        "else:\n",
        "  print('it is not none')"
      ],
      "metadata": {
        "colab": {
          "base_uri": "https://localhost:8080/"
        },
        "id": "5nJnZLdtZEyP",
        "outputId": "a4224759-d302-4160-ac3a-9f5003a9dc88"
      },
      "execution_count": 3,
      "outputs": [
        {
          "output_type": "stream",
          "name": "stdout",
          "text": [
            "it is none\n"
          ]
        }
      ]
    },
    {
      "cell_type": "markdown",
      "source": [
        "#numeric"
      ],
      "metadata": {
        "id": "1RSDERWl3O5T"
      }
    },
    {
      "cell_type": "code",
      "source": [
        "#numeric\n",
        "a=5\n",
        "b=6.5\n",
        "c= int(b)\n",
        "f=float(a)\n",
        "d = complex(a,b)\n",
        "e=True\n",
        "print('type of a is')\n",
        "print(type(a))\n",
        "print('type of b is')\n",
        "print(type(b))\n",
        "print('type of c is')\n",
        "print(type(c))\n",
        "print('type of e is')\n",
        "print(type(e))\n",
        "print('Value of c is')\n",
        "print(c)\n",
        "print('Value of d is')\n",
        "print(d)\n",
        "print('Value of f is')\n",
        "print(f)"
      ],
      "metadata": {
        "colab": {
          "base_uri": "https://localhost:8080/"
        },
        "id": "Z91BOpW2ZEu4",
        "outputId": "c859197a-54ad-4a8f-dc71-3c7144cd9af4"
      },
      "execution_count": 15,
      "outputs": [
        {
          "output_type": "stream",
          "name": "stdout",
          "text": [
            "type of a is\n",
            "<class 'int'>\n",
            "type of b is\n",
            "<class 'float'>\n",
            "type of c is\n",
            "<class 'int'>\n",
            "type of e is\n",
            "<class 'bool'>\n",
            "Value of c is\n",
            "6\n",
            "Value of d is\n",
            "(5+6.5j)\n",
            "Value of f is\n",
            "5.0\n"
          ]
        }
      ]
    },
    {
      "cell_type": "code",
      "source": [
        "#list\n",
        "a=[1,2,3,4]"
      ],
      "metadata": {
        "id": "qneJZA09ZEsK"
      },
      "execution_count": 19,
      "outputs": []
    },
    {
      "cell_type": "code",
      "source": [
        "print(a[1])\n",
        "print(a[:2])\n",
        "print(a[2:])\n",
        "print(a[1:3])\n",
        "#mutable\n",
        "a[1]=5\n",
        "print(a)"
      ],
      "metadata": {
        "colab": {
          "base_uri": "https://localhost:8080/"
        },
        "id": "hGcG4RZ9ZEpO",
        "outputId": "0003dd5b-91fa-46d9-88bc-6655a690849f"
      },
      "execution_count": 18,
      "outputs": [
        {
          "output_type": "stream",
          "name": "stdout",
          "text": [
            "2\n",
            "[1, 2]\n",
            "[3, 4]\n",
            "[2, 3]\n",
            "[1, 5, 3, 4]\n"
          ]
        }
      ]
    },
    {
      "cell_type": "code",
      "source": [
        "#tupple\n",
        "a=(1,2,3)\n",
        "print(a[1])\n",
        "print(a)"
      ],
      "metadata": {
        "colab": {
          "base_uri": "https://localhost:8080/"
        },
        "id": "0hcr8Fg2ZEm1",
        "outputId": "842b05b6-d796-4f1d-a7ca-7f60cd8b9863"
      },
      "execution_count": 20,
      "outputs": [
        {
          "output_type": "stream",
          "name": "stdout",
          "text": [
            "2\n",
            "(1, 2, 3)\n"
          ]
        }
      ]
    },
    {
      "cell_type": "code",
      "source": [
        "#notmutable\n",
        "a[1]=5"
      ],
      "metadata": {
        "colab": {
          "base_uri": "https://localhost:8080/",
          "height": 158
        },
        "id": "B2FYuwxjZEkn",
        "outputId": "2f8b3595-665c-4ee4-8f78-287266862cf5"
      },
      "execution_count": 21,
      "outputs": [
        {
          "output_type": "error",
          "ename": "TypeError",
          "evalue": "'tuple' object does not support item assignment",
          "traceback": [
            "\u001b[0;31m---------------------------------------------------------------------------\u001b[0m",
            "\u001b[0;31mTypeError\u001b[0m                                 Traceback (most recent call last)",
            "\u001b[0;32m<ipython-input-21-0296985dd433>\u001b[0m in \u001b[0;36m<cell line: 2>\u001b[0;34m()\u001b[0m\n\u001b[1;32m      1\u001b[0m \u001b[0;31m#notmutable\u001b[0m\u001b[0;34m\u001b[0m\u001b[0;34m\u001b[0m\u001b[0m\n\u001b[0;32m----> 2\u001b[0;31m \u001b[0ma\u001b[0m\u001b[0;34m[\u001b[0m\u001b[0;36m1\u001b[0m\u001b[0;34m]\u001b[0m\u001b[0;34m=\u001b[0m\u001b[0;36m5\u001b[0m\u001b[0;34m\u001b[0m\u001b[0;34m\u001b[0m\u001b[0m\n\u001b[0m",
            "\u001b[0;31mTypeError\u001b[0m: 'tuple' object does not support item assignment"
          ]
        }
      ]
    },
    {
      "cell_type": "code",
      "source": [
        "# SET\n",
        "set1 = {1, 2, 3}\n",
        "set2 = {2, 7, 6}\n",
        "\n",
        "# Find the union of set1 and set2\n",
        "union_set = set1 | set2\n",
        "\n",
        "# Print the union set\n",
        "print(union_set)\n",
        "\n",
        "\n",
        "set1 = {1, 2, 3}\n",
        "set2 = {3, 4, 5}\n",
        "\n",
        "# Find the intersection of set1 and set2\n",
        "intersection_set = set1 & set2\n",
        "\n",
        "# Print the intersection set\n",
        "print(intersection_set)"
      ],
      "metadata": {
        "colab": {
          "base_uri": "https://localhost:8080/"
        },
        "id": "q0Nl3_YVZEh6",
        "outputId": "e659edfc-6571-4a5e-e9a6-680d1e272856"
      },
      "execution_count": 29,
      "outputs": [
        {
          "output_type": "stream",
          "name": "stdout",
          "text": [
            "{1, 2, 3, 6, 7}\n",
            "{3}\n"
          ]
        }
      ]
    },
    {
      "cell_type": "code",
      "source": [
        "fruits1=set([\"mango\",\"apple\",\"banana\"])\n",
        "fruits2=set([\"mango\",\"apple1\",\"banana2\"])\n",
        "fruit3 = fruits1 | fruits2\n",
        "print(fruit3)"
      ],
      "metadata": {
        "colab": {
          "base_uri": "https://localhost:8080/"
        },
        "id": "HoNKKM9JZEfI",
        "outputId": "6f28ef55-07eb-4d09-c19c-5dd501b49a8d"
      },
      "execution_count": 24,
      "outputs": [
        {
          "output_type": "stream",
          "name": "stdout",
          "text": [
            "{'mango', 'banana', 'apple', 'banana2', 'apple1'}\n"
          ]
        }
      ]
    },
    {
      "cell_type": "code",
      "source": [
        "#add in the list\n",
        "fruits1.add(\"jack\")\n",
        "print(fruits1)\n",
        "fruits2.discard(\"mango\")\n",
        "print(fruits2)"
      ],
      "metadata": {
        "colab": {
          "base_uri": "https://localhost:8080/"
        },
        "id": "372fGe02ZEca",
        "outputId": "24193df5-dad4-4fe2-e4a9-fd901a88ab28"
      },
      "execution_count": 28,
      "outputs": [
        {
          "output_type": "stream",
          "name": "stdout",
          "text": [
            "{'mango', 'banana', 'apple', 'jack'}\n",
            "{'apple1', 'banana2'}\n"
          ]
        }
      ]
    },
    {
      "cell_type": "code",
      "source": [
        "#dictonary in python\n",
        "thisdict = {\n",
        "  \"brand\": \"Ford\",\n",
        "  \"model\": \"Mustang\",\n",
        "  \"year\": 1964\n",
        "}\n",
        "print(thisdict)\n",
        "print(len(thisdict))\n",
        "print(thisdict[\"brand\"])\n",
        "print(type(thisdict))"
      ],
      "metadata": {
        "colab": {
          "base_uri": "https://localhost:8080/"
        },
        "id": "3PLmZHI5ZEZd",
        "outputId": "3b333adc-1a08-47ef-abc0-7067a37115c1"
      },
      "execution_count": 30,
      "outputs": [
        {
          "output_type": "stream",
          "name": "stdout",
          "text": [
            "{'brand': 'Ford', 'model': 'Mustang', 'year': 1964}\n",
            "3\n",
            "Ford\n",
            "<class 'dict'>\n"
          ]
        }
      ]
    },
    {
      "cell_type": "code",
      "source": [
        "#Strings\n",
        "a = 'Hello'\n",
        "b = \"world\"\n",
        "print(a)\n",
        "print(b)\n",
        "print(len(a))\n",
        "print(a[0])\n",
        "print(a.lower())\n",
        "print(a.upper())\n"
      ],
      "metadata": {
        "colab": {
          "base_uri": "https://localhost:8080/"
        },
        "id": "4uQqHsriZEWy",
        "outputId": "72bc2f3b-5214-47e1-b7b6-48c5288bdeed"
      },
      "execution_count": 32,
      "outputs": [
        {
          "output_type": "stream",
          "name": "stdout",
          "text": [
            "Hello\n",
            "world\n",
            "5\n",
            "H\n",
            "hello\n",
            "HELLO\n"
          ]
        }
      ]
    },
    {
      "cell_type": "code",
      "source": [
        "#concatenate\n",
        "c = a + b\n",
        "print(c)\n",
        "#replace\n",
        "c = a.replace('ello','ey')\n",
        "print(c)\n",
        "#slice\n",
        "d = c[1:5]\n",
        "print(d)\n",
        "#split\n",
        "f = c.split(' ')\n",
        "print(f)\n",
        "#join\n",
        "g=''.join(f)\n",
        "print(g)\n",
        "#reverse\n",
        "print(a[::-1])\n"
      ],
      "metadata": {
        "colab": {
          "base_uri": "https://localhost:8080/"
        },
        "id": "Bfgwu4QCZET5",
        "outputId": "cda0f677-c7cc-4d1d-eb61-7d5a0a7a071f"
      },
      "execution_count": 37,
      "outputs": [
        {
          "output_type": "stream",
          "name": "stdout",
          "text": [
            "Helloworld\n",
            "Hey\n",
            "ey\n",
            "['Hey']\n",
            "Hey\n",
            "olleH\n"
          ]
        }
      ]
    },
    {
      "cell_type": "code",
      "source": [
        "#flow control\n",
        "#if else\n",
        "var=10\n",
        "if var==10:\n",
        "  print('it is equal')\n",
        "else:\n",
        "  print('it is not equal')\n"
      ],
      "metadata": {
        "colab": {
          "base_uri": "https://localhost:8080/"
        },
        "id": "hjjdX9MhZEQ8",
        "outputId": "8b663ec3-120a-46e3-9a54-60c0cc7c7448"
      },
      "execution_count": 38,
      "outputs": [
        {
          "output_type": "stream",
          "name": "stdout",
          "text": [
            "it is equal\n"
          ]
        }
      ]
    },
    {
      "cell_type": "code",
      "source": [
        "#for loop\n",
        "arr=[1,2,3,4]\n",
        "for x in arr:\n",
        "  print(x)"
      ],
      "metadata": {
        "colab": {
          "base_uri": "https://localhost:8080/"
        },
        "id": "y-3Wu2_UZEOH",
        "outputId": "b8c8c5ca-2a35-4d36-b303-49f4167fb8aa"
      },
      "execution_count": 39,
      "outputs": [
        {
          "output_type": "stream",
          "name": "stdout",
          "text": [
            "1\n",
            "2\n",
            "3\n",
            "4\n"
          ]
        }
      ]
    },
    {
      "cell_type": "code",
      "source": [
        "for i in range(10):\n",
        "  print(i)"
      ],
      "metadata": {
        "colab": {
          "base_uri": "https://localhost:8080/"
        },
        "id": "DKXH86Y0ZELJ",
        "outputId": "3144873a-b0b9-4f36-9a1f-082820e5d9ec"
      },
      "execution_count": 40,
      "outputs": [
        {
          "output_type": "stream",
          "name": "stdout",
          "text": [
            "0\n",
            "1\n",
            "2\n",
            "3\n",
            "4\n",
            "5\n",
            "6\n",
            "7\n",
            "8\n",
            "9\n"
          ]
        }
      ]
    },
    {
      "cell_type": "code",
      "source": [
        "#while\n",
        "i=0\n",
        "while i<6:\n",
        "  print(i)\n",
        "  i=i+1"
      ],
      "metadata": {
        "colab": {
          "base_uri": "https://localhost:8080/"
        },
        "id": "8t3SrqbFZEIW",
        "outputId": "f7c531ed-a319-43dd-fd64-14e19c3781b4"
      },
      "execution_count": 46,
      "outputs": [
        {
          "output_type": "stream",
          "name": "stdout",
          "text": [
            "0\n",
            "1\n",
            "2\n",
            "3\n",
            "4\n",
            "5\n"
          ]
        }
      ]
    },
    {
      "cell_type": "code",
      "source": [
        "#function\n",
        "def add(a,b):\n",
        "  c = a + b\n",
        "  return c\n",
        "d = add(5,6)\n",
        "print(d)"
      ],
      "metadata": {
        "colab": {
          "base_uri": "https://localhost:8080/"
        },
        "id": "OaWi1OxgZEFg",
        "outputId": "c9bcf28b-6387-4e74-c535-5d5c3a5bfe93"
      },
      "execution_count": 47,
      "outputs": [
        {
          "output_type": "stream",
          "name": "stdout",
          "text": [
            "11\n"
          ]
        }
      ]
    },
    {
      "cell_type": "code",
      "source": [
        "#function example 2\n",
        "#to be done by students"
      ],
      "metadata": {
        "id": "3jZTdMiMZECx"
      },
      "execution_count": 48,
      "outputs": []
    },
    {
      "cell_type": "code",
      "source": [
        "#libraries\n",
        "import math\n",
        "from math import pi\n",
        "r=5\n",
        "a = r*r*pi\n",
        "print('area of circle is',a)"
      ],
      "metadata": {
        "colab": {
          "base_uri": "https://localhost:8080/"
        },
        "id": "vLMEPY_KZD_-",
        "outputId": "93726030-7576-49f1-fc08-d44e617196ac"
      },
      "execution_count": 52,
      "outputs": [
        {
          "output_type": "stream",
          "name": "stdout",
          "text": [
            "area of circle is 78.53981633974483\n"
          ]
        }
      ]
    },
    {
      "cell_type": "code",
      "source": [
        "##class\n",
        "#example 1 to be done by students"
      ],
      "metadata": {
        "id": "SXEzoWvSZCqY"
      },
      "execution_count": null,
      "outputs": []
    },
    {
      "cell_type": "code",
      "execution_count": 12,
      "metadata": {
        "id": "cJsnHBIdtofq"
      },
      "outputs": [],
      "source": [
        "class ml:\n",
        "  '''this is doc'''\n",
        "  var =1\n",
        "  def printfhello():\n",
        "    print('hello world')"
      ]
    },
    {
      "cell_type": "code",
      "source": [
        "print(ml.var)"
      ],
      "metadata": {
        "colab": {
          "base_uri": "https://localhost:8080/"
        },
        "id": "azZydx7iueGj",
        "outputId": "38216e73-b3ef-4ad8-abfb-eb6a25420414"
      },
      "execution_count": 13,
      "outputs": [
        {
          "output_type": "stream",
          "name": "stdout",
          "text": [
            "1\n"
          ]
        }
      ]
    },
    {
      "cell_type": "code",
      "source": [
        "print(ml.__doc__)"
      ],
      "metadata": {
        "colab": {
          "base_uri": "https://localhost:8080/"
        },
        "id": "C-WUn9kOuhpI",
        "outputId": "85b939de-94d6-4bb5-b8d2-38238911cc36"
      },
      "execution_count": 14,
      "outputs": [
        {
          "output_type": "stream",
          "name": "stdout",
          "text": [
            "this is doc\n"
          ]
        }
      ]
    },
    {
      "cell_type": "code",
      "source": [
        "print(ml.printfhello)\n"
      ],
      "metadata": {
        "colab": {
          "base_uri": "https://localhost:8080/"
        },
        "id": "ywoyP211umbp",
        "outputId": "2c7ff8a1-d84f-4cce-bd95-416cc79850e2"
      },
      "execution_count": 15,
      "outputs": [
        {
          "output_type": "stream",
          "name": "stdout",
          "text": [
            "<function ml.printfhello at 0x7b04eb6d3640>\n"
          ]
        }
      ]
    },
    {
      "cell_type": "markdown",
      "source": [
        "#Constructor in python"
      ],
      "metadata": {
        "id": "qo3A_UikZMQO"
      }
    },
    {
      "cell_type": "code",
      "source": [
        "class Person:\n",
        "    def __init__(self, name, age):\n",
        "        self.name = name\n",
        "        self.age = age\n",
        "\n",
        "# Create a new Person object\n",
        "person = Person(\"Alice\", 25)\n",
        "\n",
        "# Print the person's name and age\n",
        "print(person.name)\n",
        "print(person.age)"
      ],
      "metadata": {
        "colab": {
          "base_uri": "https://localhost:8080/"
        },
        "id": "HhGn7qEJu2nq",
        "outputId": "d43b9a4f-aff6-4493-fca0-caef0b168dff"
      },
      "execution_count": 16,
      "outputs": [
        {
          "output_type": "stream",
          "name": "stdout",
          "text": [
            "Alice\n",
            "25\n"
          ]
        }
      ]
    },
    {
      "cell_type": "markdown",
      "source": [
        "#Exception handling"
      ],
      "metadata": {
        "id": "IzkPO6382BBI"
      }
    },
    {
      "cell_type": "code",
      "source": [
        "var = 10\n",
        "try:\n",
        "  print(var)\n",
        "except:\n",
        "  print('var is not defined')\n",
        "finally:\n",
        "  print('i am here')"
      ],
      "metadata": {
        "colab": {
          "base_uri": "https://localhost:8080/"
        },
        "id": "GPfodp-D2vSN",
        "outputId": "b63a84f4-1f55-4bbf-b652-cc2a5abaf442"
      },
      "execution_count": 59,
      "outputs": [
        {
          "output_type": "stream",
          "name": "stdout",
          "text": [
            "var is not defined\n",
            "i am here\n"
          ]
        }
      ]
    },
    {
      "cell_type": "code",
      "source": [
        "try:\n",
        "  print(var10)\n",
        "except:\n",
        "  print('var10 is not defined')\n",
        "finally:\n",
        "  print('i am here')"
      ],
      "metadata": {
        "colab": {
          "base_uri": "https://localhost:8080/"
        },
        "id": "JJosLHQZ2LpI",
        "outputId": "72961bf1-05fa-4d43-a0d5-7b4dd42a45ba"
      },
      "execution_count": 60,
      "outputs": [
        {
          "output_type": "stream",
          "name": "stdout",
          "text": [
            "var10 is not defined\n",
            "i am here\n"
          ]
        }
      ]
    },
    {
      "cell_type": "code",
      "source": [],
      "metadata": {
        "id": "YRoAaW7X2-8r"
      },
      "execution_count": null,
      "outputs": []
    }
  ]
}