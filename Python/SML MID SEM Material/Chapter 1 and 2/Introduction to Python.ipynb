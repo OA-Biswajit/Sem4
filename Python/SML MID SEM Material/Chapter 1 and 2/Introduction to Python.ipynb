{
 "cells": [
  {
   "cell_type": "code",
   "execution_count": 1,
   "id": "f0370ae4",
   "metadata": {},
   "outputs": [],
   "source": [
    "#data types "
   ]
  },
  {
   "cell_type": "code",
   "execution_count": 2,
   "id": "34bfcb0f",
   "metadata": {},
   "outputs": [
    {
     "name": "stdout",
     "output_type": "stream",
     "text": [
      "None\n"
     ]
    }
   ],
   "source": [
    "var = None \n",
    "print(var)"
   ]
  },
  {
   "cell_type": "code",
   "execution_count": 4,
   "id": "7d3206dd",
   "metadata": {},
   "outputs": [
    {
     "name": "stdout",
     "output_type": "stream",
     "text": [
      "<class 'NoneType'>\n"
     ]
    }
   ],
   "source": [
    "print(type(var))"
   ]
  },
  {
   "cell_type": "code",
   "execution_count": 11,
   "id": "42aad159",
   "metadata": {},
   "outputs": [
    {
     "data": {
      "text/plain": [
       "5"
      ]
     },
     "execution_count": 11,
     "metadata": {},
     "output_type": "execute_result"
    }
   ],
   "source": [
    "#numeric \n",
    "#int\n",
    "a=5\n",
    "a"
   ]
  },
  {
   "cell_type": "code",
   "execution_count": 12,
   "id": "75c5c21b",
   "metadata": {},
   "outputs": [
    {
     "name": "stdout",
     "output_type": "stream",
     "text": [
      "<class 'int'>\n"
     ]
    }
   ],
   "source": [
    "print(type(a))"
   ]
  },
  {
   "cell_type": "code",
   "execution_count": 13,
   "id": "0a276a46",
   "metadata": {},
   "outputs": [],
   "source": [
    "#float\n",
    "b=5.5"
   ]
  },
  {
   "cell_type": "code",
   "execution_count": 14,
   "id": "0ab891f6",
   "metadata": {},
   "outputs": [
    {
     "data": {
      "text/plain": [
       "5.5"
      ]
     },
     "execution_count": 14,
     "metadata": {},
     "output_type": "execute_result"
    }
   ],
   "source": [
    "b"
   ]
  },
  {
   "cell_type": "code",
   "execution_count": 15,
   "id": "921a66d2",
   "metadata": {},
   "outputs": [
    {
     "name": "stdout",
     "output_type": "stream",
     "text": [
      "<class 'float'>\n"
     ]
    }
   ],
   "source": [
    "print(type(b))"
   ]
  },
  {
   "cell_type": "code",
   "execution_count": 16,
   "id": "691ee8ff",
   "metadata": {},
   "outputs": [],
   "source": [
    "#complex\n",
    "c=complex(a,b)"
   ]
  },
  {
   "cell_type": "code",
   "execution_count": 18,
   "id": "cc2ff483",
   "metadata": {},
   "outputs": [
    {
     "data": {
      "text/plain": [
       "complex"
      ]
     },
     "execution_count": 18,
     "metadata": {},
     "output_type": "execute_result"
    }
   ],
   "source": [
    "type(c)"
   ]
  },
  {
   "cell_type": "code",
   "execution_count": 19,
   "id": "2e2d7274",
   "metadata": {},
   "outputs": [
    {
     "data": {
      "text/plain": [
       "True"
      ]
     },
     "execution_count": 19,
     "metadata": {},
     "output_type": "execute_result"
    }
   ],
   "source": [
    "#bool\n",
    "a=True\n",
    "a"
   ]
  },
  {
   "cell_type": "code",
   "execution_count": 20,
   "id": "d488bd06",
   "metadata": {},
   "outputs": [
    {
     "data": {
      "text/plain": [
       "bool"
      ]
     },
     "execution_count": 20,
     "metadata": {},
     "output_type": "execute_result"
    }
   ],
   "source": [
    "type(a)"
   ]
  },
  {
   "cell_type": "code",
   "execution_count": 24,
   "id": "61a93dac",
   "metadata": {},
   "outputs": [],
   "source": [
    "b=int(b)"
   ]
  },
  {
   "cell_type": "code",
   "execution_count": 26,
   "id": "e2cb7ba0",
   "metadata": {},
   "outputs": [
    {
     "data": {
      "text/plain": [
       "int"
      ]
     },
     "execution_count": 26,
     "metadata": {},
     "output_type": "execute_result"
    }
   ],
   "source": [
    "type(b)"
   ]
  },
  {
   "cell_type": "code",
   "execution_count": 27,
   "id": "0f7cd710",
   "metadata": {},
   "outputs": [],
   "source": [
    "#list-square bracket"
   ]
  },
  {
   "cell_type": "code",
   "execution_count": 38,
   "id": "417ee60c",
   "metadata": {},
   "outputs": [],
   "source": [
    "a=[1,2,3,333, 'shiva', 2.2, True]"
   ]
  },
  {
   "cell_type": "code",
   "execution_count": 39,
   "id": "aec1e422",
   "metadata": {},
   "outputs": [
    {
     "data": {
      "text/plain": [
       "[1, 2, 3, 333, 'shiva', 2.2, True]"
      ]
     },
     "execution_count": 39,
     "metadata": {},
     "output_type": "execute_result"
    }
   ],
   "source": [
    "a"
   ]
  },
  {
   "cell_type": "code",
   "execution_count": 43,
   "id": "9e702433",
   "metadata": {},
   "outputs": [
    {
     "data": {
      "text/plain": [
       "[1, 23]"
      ]
     },
     "execution_count": 43,
     "metadata": {},
     "output_type": "execute_result"
    }
   ],
   "source": [
    "a[:2]"
   ]
  },
  {
   "cell_type": "code",
   "execution_count": 44,
   "id": "3066157e",
   "metadata": {},
   "outputs": [
    {
     "data": {
      "text/plain": [
       "[3, 333, 'shiva', 2.2, True]"
      ]
     },
     "execution_count": 44,
     "metadata": {},
     "output_type": "execute_result"
    }
   ],
   "source": [
    "a[2:]"
   ]
  },
  {
   "cell_type": "code",
   "execution_count": 45,
   "id": "b8485245",
   "metadata": {},
   "outputs": [
    {
     "data": {
      "text/plain": [
       "23"
      ]
     },
     "execution_count": 45,
     "metadata": {},
     "output_type": "execute_result"
    }
   ],
   "source": [
    "a[1]"
   ]
  },
  {
   "cell_type": "code",
   "execution_count": 46,
   "id": "25b5b5ee",
   "metadata": {},
   "outputs": [
    {
     "data": {
      "text/plain": [
       "[23, 3, 333]"
      ]
     },
     "execution_count": 46,
     "metadata": {},
     "output_type": "execute_result"
    }
   ],
   "source": [
    "a[1:4]"
   ]
  },
  {
   "cell_type": "code",
   "execution_count": 47,
   "id": "89bc81e8",
   "metadata": {},
   "outputs": [],
   "source": [
    "#mutable\n",
    "a[1]=23"
   ]
  },
  {
   "cell_type": "code",
   "execution_count": 48,
   "id": "49b267b9",
   "metadata": {},
   "outputs": [
    {
     "data": {
      "text/plain": [
       "[1, 23, 3, 333, 'shiva', 2.2, True]"
      ]
     },
     "execution_count": 48,
     "metadata": {},
     "output_type": "execute_result"
    }
   ],
   "source": [
    "a"
   ]
  },
  {
   "cell_type": "code",
   "execution_count": 49,
   "id": "2bc58749",
   "metadata": {},
   "outputs": [],
   "source": [
    "#tupple - round bracket\n",
    "a=(1,2,3,333, 'shiva', 2.2, True)"
   ]
  },
  {
   "cell_type": "code",
   "execution_count": 50,
   "id": "7f421302",
   "metadata": {},
   "outputs": [
    {
     "ename": "TypeError",
     "evalue": "'tuple' object does not support item assignment",
     "output_type": "error",
     "traceback": [
      "\u001b[1;31m---------------------------------------------------------------------------\u001b[0m",
      "\u001b[1;31mTypeError\u001b[0m                                 Traceback (most recent call last)",
      "Input \u001b[1;32mIn [50]\u001b[0m, in \u001b[0;36m<cell line: 1>\u001b[1;34m()\u001b[0m\n\u001b[1;32m----> 1\u001b[0m a[\u001b[38;5;241m1\u001b[39m]\u001b[38;5;241m=\u001b[39m\u001b[38;5;241m2\u001b[39m\n",
      "\u001b[1;31mTypeError\u001b[0m: 'tuple' object does not support item assignment"
     ]
    }
   ],
   "source": [
    "#not mutable\n",
    "a[1]=2"
   ]
  },
  {
   "cell_type": "code",
   "execution_count": 51,
   "id": "516b1e30",
   "metadata": {},
   "outputs": [
    {
     "data": {
      "text/plain": [
       "{1, 2, 3, 4, 5}"
      ]
     },
     "execution_count": 51,
     "metadata": {},
     "output_type": "execute_result"
    }
   ],
   "source": [
    "#set - curly bracket - it contains unique elements and automatically discard similar elements \n",
    "a={1,2,3}\n",
    "b={3,4,5}\n",
    "#union\n",
    "c=a|b\n",
    "c"
   ]
  },
  {
   "cell_type": "code",
   "execution_count": 52,
   "id": "315e49ef",
   "metadata": {},
   "outputs": [
    {
     "data": {
      "text/plain": [
       "{3}"
      ]
     },
     "execution_count": 52,
     "metadata": {},
     "output_type": "execute_result"
    }
   ],
   "source": [
    "#intersection\n",
    "c=a&b\n",
    "c"
   ]
  },
  {
   "cell_type": "code",
   "execution_count": 53,
   "id": "ddcebfab",
   "metadata": {},
   "outputs": [
    {
     "data": {
      "text/plain": [
       "{'brand': ['bitania', 'sunfeast', 'ashirwad'],\n",
       " 'year': [1000, 2000, 3000],\n",
       " 'price': [10, 20, 30]}"
      ]
     },
     "execution_count": 53,
     "metadata": {},
     "output_type": "execute_result"
    }
   ],
   "source": [
    "#dictionary \n",
    "dict = {\n",
    "    'brand': ['bitania', 'sunfeast', 'ashirwad'],\n",
    "    'year': [1000,2000,3000],\n",
    "    'price': [10,20,30]\n",
    "}\n",
    "dict\n",
    "\n",
    "\n",
    "\n"
   ]
  },
  {
   "cell_type": "code",
   "execution_count": 55,
   "id": "deabae94",
   "metadata": {},
   "outputs": [
    {
     "data": {
      "text/plain": [
       "3"
      ]
     },
     "execution_count": 55,
     "metadata": {},
     "output_type": "execute_result"
    }
   ],
   "source": [
    "len(dict)"
   ]
  },
  {
   "cell_type": "code",
   "execution_count": 56,
   "id": "9adb08ce",
   "metadata": {},
   "outputs": [
    {
     "data": {
      "text/plain": [
       "['bitania', 'sunfeast', 'ashirwad']"
      ]
     },
     "execution_count": 56,
     "metadata": {},
     "output_type": "execute_result"
    }
   ],
   "source": [
    "dict['brand']"
   ]
  },
  {
   "cell_type": "code",
   "execution_count": 58,
   "id": "3802b97a",
   "metadata": {},
   "outputs": [
    {
     "data": {
      "text/plain": [
       "dict"
      ]
     },
     "execution_count": 58,
     "metadata": {},
     "output_type": "execute_result"
    }
   ],
   "source": [
    "type(dict)"
   ]
  },
  {
   "cell_type": "code",
   "execution_count": 60,
   "id": "0b3c8301",
   "metadata": {},
   "outputs": [
    {
     "data": {
      "text/plain": [
       "'agarwal'"
      ]
     },
     "execution_count": 60,
     "metadata": {},
     "output_type": "execute_result"
    }
   ],
   "source": [
    "#strings '' \"\"\n",
    "a= 'shiva'\n",
    "b= 'agarwal'\n"
   ]
  },
  {
   "cell_type": "code",
   "execution_count": 64,
   "id": "cd4dc5d0",
   "metadata": {},
   "outputs": [
    {
     "data": {
      "text/plain": [
       "'SHIVA'"
      ]
     },
     "execution_count": 64,
     "metadata": {},
     "output_type": "execute_result"
    }
   ],
   "source": [
    "a.upper()"
   ]
  },
  {
   "cell_type": "code",
   "execution_count": 66,
   "id": "49175c7b",
   "metadata": {},
   "outputs": [
    {
     "data": {
      "text/plain": [
       "'shiva'"
      ]
     },
     "execution_count": 66,
     "metadata": {},
     "output_type": "execute_result"
    }
   ],
   "source": [
    "a.lower()"
   ]
  },
  {
   "cell_type": "code",
   "execution_count": 73,
   "id": "3ae152b6",
   "metadata": {},
   "outputs": [],
   "source": [
    "#concatinate \n",
    "c = a +' '+ b"
   ]
  },
  {
   "cell_type": "code",
   "execution_count": 74,
   "id": "f7535bf9",
   "metadata": {},
   "outputs": [
    {
     "data": {
      "text/plain": [
       "'shiva agarwal'"
      ]
     },
     "execution_count": 74,
     "metadata": {},
     "output_type": "execute_result"
    }
   ],
   "source": [
    "c"
   ]
  },
  {
   "cell_type": "code",
   "execution_count": 77,
   "id": "35a837aa",
   "metadata": {},
   "outputs": [
    {
     "data": {
      "text/plain": [
       "'shivaa aagaarwaal'"
      ]
     },
     "execution_count": 77,
     "metadata": {},
     "output_type": "execute_result"
    }
   ],
   "source": [
    "#replace\n",
    "c = c.replace('a','aa')\n",
    "c"
   ]
  },
  {
   "cell_type": "code",
   "execution_count": 78,
   "id": "d047e08a",
   "metadata": {},
   "outputs": [
    {
     "data": {
      "text/plain": [
       "'shiva agarwal'"
      ]
     },
     "execution_count": 78,
     "metadata": {},
     "output_type": "execute_result"
    }
   ],
   "source": [
    "c = c.replace('aa','a')\n",
    "c"
   ]
  },
  {
   "cell_type": "code",
   "execution_count": 85,
   "id": "c279737a",
   "metadata": {},
   "outputs": [],
   "source": [
    "#split\n",
    "d= c.split(' ')"
   ]
  },
  {
   "cell_type": "code",
   "execution_count": 86,
   "id": "977b3fab",
   "metadata": {},
   "outputs": [
    {
     "data": {
      "text/plain": [
       "['shiva', 'agarwal']"
      ]
     },
     "execution_count": 86,
     "metadata": {},
     "output_type": "execute_result"
    }
   ],
   "source": [
    "d"
   ]
  },
  {
   "cell_type": "code",
   "execution_count": 81,
   "id": "abafc8a6",
   "metadata": {},
   "outputs": [
    {
     "data": {
      "text/plain": [
       "['shiva aga', 'wal']"
      ]
     },
     "execution_count": 81,
     "metadata": {},
     "output_type": "execute_result"
    }
   ],
   "source": [
    "#split\n",
    "f= c.split('r')\n",
    "f"
   ]
  },
  {
   "cell_type": "code",
   "execution_count": 83,
   "id": "3be8cf6e",
   "metadata": {},
   "outputs": [
    {
     "data": {
      "text/plain": [
       "'shiva agarwal'"
      ]
     },
     "execution_count": 83,
     "metadata": {},
     "output_type": "execute_result"
    }
   ],
   "source": [
    "#join\n",
    "f='r'.join(f)\n",
    "f"
   ]
  },
  {
   "cell_type": "code",
   "execution_count": 87,
   "id": "47ce89d2",
   "metadata": {},
   "outputs": [
    {
     "data": {
      "text/plain": [
       "'shiva agarwal'"
      ]
     },
     "execution_count": 87,
     "metadata": {},
     "output_type": "execute_result"
    }
   ],
   "source": [
    "d=' '.join(d)\n",
    "d"
   ]
  },
  {
   "cell_type": "code",
   "execution_count": 88,
   "id": "ae0befa8",
   "metadata": {},
   "outputs": [
    {
     "data": {
      "text/plain": [
       "'lawraga avihs'"
      ]
     },
     "execution_count": 88,
     "metadata": {},
     "output_type": "execute_result"
    }
   ],
   "source": [
    "#reverse\n",
    "d[::-1]"
   ]
  },
  {
   "cell_type": "code",
   "execution_count": 89,
   "id": "7482c1cb",
   "metadata": {},
   "outputs": [
    {
     "data": {
      "text/plain": [
       "'shiva agarwal'"
      ]
     },
     "execution_count": 89,
     "metadata": {},
     "output_type": "execute_result"
    }
   ],
   "source": [
    "d"
   ]
  },
  {
   "cell_type": "code",
   "execution_count": 90,
   "id": "25995118",
   "metadata": {},
   "outputs": [
    {
     "name": "stdout",
     "output_type": "stream",
     "text": [
      "shiva\n"
     ]
    }
   ],
   "source": [
    "#flow control \n",
    "#if else\n",
    "var =10\n",
    "if var == 10:\n",
    "    print('shiva')\n",
    "else:\n",
    "    print('agarwal')"
   ]
  },
  {
   "cell_type": "code",
   "execution_count": 92,
   "id": "2289c5b4",
   "metadata": {},
   "outputs": [
    {
     "name": "stdout",
     "output_type": "stream",
     "text": [
      "1\n",
      "2\n",
      "3\n",
      "4\n",
      "44\n"
     ]
    }
   ],
   "source": [
    "#for loop \n",
    "a=[1,2,3,4,44]\n",
    "for x in a:\n",
    "    print(x)\n"
   ]
  },
  {
   "cell_type": "code",
   "execution_count": 93,
   "id": "e704c5f1",
   "metadata": {},
   "outputs": [
    {
     "name": "stdout",
     "output_type": "stream",
     "text": [
      "2\n",
      "5\n",
      "8\n",
      "11\n"
     ]
    }
   ],
   "source": [
    "#for loop #range(start,end, incre)\n",
    "for i in range(2,12,3):\n",
    "    print(i)"
   ]
  },
  {
   "cell_type": "code",
   "execution_count": 95,
   "id": "b5bb9b0b",
   "metadata": {},
   "outputs": [
    {
     "name": "stdout",
     "output_type": "stream",
     "text": [
      "shiva\n",
      "shiva\n",
      "shiva\n",
      "shiva\n",
      "shiva\n",
      "shiva\n",
      "shiva\n",
      "shiva\n",
      "shiva\n",
      "shiva\n"
     ]
    }
   ],
   "source": [
    "z=0\n",
    "while z<10:\n",
    "    z+=1\n",
    "    print('shiva')"
   ]
  },
  {
   "cell_type": "code",
   "execution_count": 96,
   "id": "9414c211",
   "metadata": {},
   "outputs": [
    {
     "name": "stdout",
     "output_type": "stream",
     "text": [
      "30\n"
     ]
    }
   ],
   "source": [
    "#function -- def \n",
    "def add(a,b):\n",
    "    c=a+b\n",
    "    return c\n",
    "e=10\n",
    "f=20\n",
    "print(add(e,f))"
   ]
  },
  {
   "cell_type": "code",
   "execution_count": 102,
   "id": "fa133691",
   "metadata": {},
   "outputs": [
    {
     "name": "stdout",
     "output_type": "stream",
     "text": [
      "78.53981633974483\n"
     ]
    }
   ],
   "source": [
    "#libraries installed by pip install library_name, import library_name as keyword\n",
    "from math import pi as pie\n",
    "r=5\n",
    "a = r*r*pie\n",
    "print(a)"
   ]
  },
  {
   "cell_type": "code",
   "execution_count": 103,
   "id": "cf423426",
   "metadata": {},
   "outputs": [],
   "source": [
    "#class class class_name\n",
    "class ml:\n",
    "    '''this is just a print of hello'''\n",
    "    var=10\n",
    "    def print():\n",
    "        print('hello')"
   ]
  },
  {
   "cell_type": "code",
   "execution_count": 104,
   "id": "cc81a88b",
   "metadata": {},
   "outputs": [
    {
     "data": {
      "text/plain": [
       "'this is just a print of hello'"
      ]
     },
     "execution_count": 104,
     "metadata": {},
     "output_type": "execute_result"
    }
   ],
   "source": [
    "ml.__doc__"
   ]
  },
  {
   "cell_type": "code",
   "execution_count": 106,
   "id": "0ac53beb",
   "metadata": {},
   "outputs": [
    {
     "name": "stdout",
     "output_type": "stream",
     "text": [
      "<function ml.print at 0x0000025F56BE0790>\n"
     ]
    }
   ],
   "source": [
    "print(ml.print)"
   ]
  },
  {
   "cell_type": "code",
   "execution_count": 107,
   "id": "662eed79",
   "metadata": {},
   "outputs": [
    {
     "data": {
      "text/plain": [
       "10"
      ]
     },
     "execution_count": 107,
     "metadata": {},
     "output_type": "execute_result"
    }
   ],
   "source": [
    "ml.var"
   ]
  },
  {
   "cell_type": "code",
   "execution_count": null,
   "id": "5299e5c2",
   "metadata": {},
   "outputs": [],
   "source": [
    "#contructor def __init__"
   ]
  },
  {
   "cell_type": "code",
   "execution_count": 108,
   "id": "7e1dd8ff",
   "metadata": {},
   "outputs": [],
   "source": [
    "class ml:\n",
    "    '''this is just a print of hello'''\n",
    "    var=10\n",
    "    def __init__(self,name,address):\n",
    "        self.name=name\n",
    "        self.address=address"
   ]
  },
  {
   "cell_type": "code",
   "execution_count": 109,
   "id": "21fe7b53",
   "metadata": {},
   "outputs": [],
   "source": [
    "person = ml('shiva','IIT KGP')"
   ]
  },
  {
   "cell_type": "code",
   "execution_count": 111,
   "id": "ce58fe59",
   "metadata": {},
   "outputs": [
    {
     "data": {
      "text/plain": [
       "'IIT KGP'"
      ]
     },
     "execution_count": 111,
     "metadata": {},
     "output_type": "execute_result"
    }
   ],
   "source": [
    "person.address"
   ]
  },
  {
   "cell_type": "code",
   "execution_count": 116,
   "id": "bdd4f17f",
   "metadata": {},
   "outputs": [],
   "source": [
    "a=10"
   ]
  },
  {
   "cell_type": "code",
   "execution_count": 117,
   "id": "c4e5b9b6",
   "metadata": {},
   "outputs": [
    {
     "data": {
      "text/plain": [
       "'agarwal'"
      ]
     },
     "execution_count": 117,
     "metadata": {},
     "output_type": "execute_result"
    }
   ],
   "source": [
    "b"
   ]
  },
  {
   "cell_type": "code",
   "execution_count": 118,
   "id": "3dbd0d35",
   "metadata": {},
   "outputs": [
    {
     "data": {
      "text/plain": [
       "'shiva agarwal'"
      ]
     },
     "execution_count": 118,
     "metadata": {},
     "output_type": "execute_result"
    }
   ],
   "source": [
    "c"
   ]
  },
  {
   "cell_type": "code",
   "execution_count": 119,
   "id": "dfd68cbe",
   "metadata": {},
   "outputs": [
    {
     "name": "stdout",
     "output_type": "stream",
     "text": [
      "not able to add\n"
     ]
    }
   ],
   "source": [
    "#exceptional handling\n",
    "try:\n",
    "    c=a+b\n",
    "    print(c)\n",
    "except:\n",
    "    c=b+a\n",
    "    print(c)\n"
   ]
  },
  {
   "cell_type": "code",
   "execution_count": null,
   "id": "74a20962",
   "metadata": {},
   "outputs": [],
   "source": []
  },
  {
   "cell_type": "code",
   "execution_count": null,
   "id": "6a991b2c",
   "metadata": {},
   "outputs": [],
   "source": []
  },
  {
   "cell_type": "code",
   "execution_count": null,
   "id": "cae10a1a",
   "metadata": {},
   "outputs": [],
   "source": []
  },
  {
   "cell_type": "code",
   "execution_count": null,
   "id": "5a6c4576",
   "metadata": {},
   "outputs": [],
   "source": []
  },
  {
   "cell_type": "code",
   "execution_count": null,
   "id": "f2dc0c2f",
   "metadata": {},
   "outputs": [],
   "source": []
  },
  {
   "cell_type": "code",
   "execution_count": null,
   "id": "3ed7c6a1",
   "metadata": {},
   "outputs": [],
   "source": []
  },
  {
   "cell_type": "code",
   "execution_count": null,
   "id": "653d82b1",
   "metadata": {},
   "outputs": [],
   "source": []
  },
  {
   "cell_type": "code",
   "execution_count": null,
   "id": "285a498a",
   "metadata": {},
   "outputs": [],
   "source": []
  },
  {
   "cell_type": "code",
   "execution_count": null,
   "id": "f4db22a9",
   "metadata": {},
   "outputs": [],
   "source": []
  },
  {
   "cell_type": "code",
   "execution_count": null,
   "id": "fdf3225c",
   "metadata": {},
   "outputs": [],
   "source": []
  },
  {
   "cell_type": "code",
   "execution_count": null,
   "id": "0e0fd070",
   "metadata": {},
   "outputs": [],
   "source": []
  }
 ],
 "metadata": {
  "kernelspec": {
   "display_name": "Python 3 (ipykernel)",
   "language": "python",
   "name": "python3"
  },
  "language_info": {
   "codemirror_mode": {
    "name": "ipython",
    "version": 3
   },
   "file_extension": ".py",
   "mimetype": "text/x-python",
   "name": "python",
   "nbconvert_exporter": "python",
   "pygments_lexer": "ipython3",
   "version": "3.10.10"
  }
 },
 "nbformat": 4,
 "nbformat_minor": 5
}
