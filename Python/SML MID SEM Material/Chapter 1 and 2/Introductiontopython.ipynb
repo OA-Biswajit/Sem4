{
 "cells": [
  {
   "cell_type": "markdown",
   "metadata": {
    "id": "Velr0tA2ZPUS"
   },
   "source": [
    "Datatype"
   ]
  },
  {
   "cell_type": "code",
   "execution_count": 1,
   "metadata": {
    "colab": {
     "base_uri": "https://localhost:8080/"
    },
    "id": "5nJnZLdtZEyP",
    "outputId": "a4224759-d302-4160-ac3a-9f5003a9dc88"
   },
   "outputs": [
    {
     "name": "stdout",
     "output_type": "stream",
     "text": [
      "it is none\n"
     ]
    }
   ],
   "source": [
    "'''none datatype'''\n",
    "var=None\n",
    "if var is None:\n",
    "  print('it is none')\n",
    "else:\n",
    "  print('it is not none')"
   ]
  },
  {
   "cell_type": "markdown",
   "metadata": {
    "id": "1RSDERWl3O5T"
   },
   "source": [
    "#numeric"
   ]
  },
  {
   "cell_type": "code",
   "execution_count": 2,
   "metadata": {
    "colab": {
     "base_uri": "https://localhost:8080/"
    },
    "id": "Z91BOpW2ZEu4",
    "outputId": "c859197a-54ad-4a8f-dc71-3c7144cd9af4"
   },
   "outputs": [
    {
     "name": "stdout",
     "output_type": "stream",
     "text": [
      "type of a is\n",
      "<class 'int'>\n",
      "type of b is\n",
      "<class 'float'>\n",
      "type of c is\n",
      "<class 'int'>\n",
      "type of e is\n",
      "<class 'bool'>\n",
      "Value of c is\n",
      "6\n",
      "Value of d is\n",
      "(5+6.5j)\n",
      "Value of f is\n",
      "5.0\n"
     ]
    }
   ],
   "source": [
    "#numeric\n",
    "a=5\n",
    "b=6.5\n",
    "c= int(b)\n",
    "f=float(a)\n",
    "d = complex(a,b)\n",
    "e=True\n",
    "print('type of a is')\n",
    "print(type(a))\n",
    "print('type of b is')\n",
    "print(type(b))\n",
    "print('type of c is')\n",
    "print(type(c))\n",
    "print('type of e is')\n",
    "print(type(e))\n",
    "print('Value of c is')\n",
    "print(c)\n",
    "print('Value of d is')\n",
    "print(d)\n",
    "print('Value of f is')\n",
    "print(f)"
   ]
  },
  {
   "cell_type": "code",
   "execution_count": 3,
   "metadata": {
    "id": "qneJZA09ZEsK"
   },
   "outputs": [],
   "source": [
    "#list\n",
    "a=[1,2,3,4]"
   ]
  },
  {
   "cell_type": "code",
   "execution_count": 4,
   "metadata": {
    "colab": {
     "base_uri": "https://localhost:8080/"
    },
    "id": "hGcG4RZ9ZEpO",
    "outputId": "0003dd5b-91fa-46d9-88bc-6655a690849f"
   },
   "outputs": [
    {
     "name": "stdout",
     "output_type": "stream",
     "text": [
      "2\n",
      "[1, 2]\n",
      "[3, 4]\n",
      "[2, 3]\n",
      "[1, 5, 3, 4]\n"
     ]
    }
   ],
   "source": [
    "print(a[1])\n",
    "print(a[:2])\n",
    "print(a[2:])\n",
    "print(a[1:3])\n",
    "#mutable\n",
    "a[1]=5\n",
    "print(a)"
   ]
  },
  {
   "cell_type": "code",
   "execution_count": 5,
   "metadata": {
    "colab": {
     "base_uri": "https://localhost:8080/"
    },
    "id": "0hcr8Fg2ZEm1",
    "outputId": "842b05b6-d796-4f1d-a7ca-7f60cd8b9863"
   },
   "outputs": [
    {
     "name": "stdout",
     "output_type": "stream",
     "text": [
      "2\n",
      "(1, 2, 3)\n"
     ]
    }
   ],
   "source": [
    "#tupple\n",
    "a=(1,2,3)\n",
    "print(a[1])\n",
    "print(a)"
   ]
  },
  {
   "cell_type": "code",
   "execution_count": 6,
   "metadata": {
    "colab": {
     "base_uri": "https://localhost:8080/",
     "height": 158
    },
    "id": "B2FYuwxjZEkn",
    "outputId": "2f8b3595-665c-4ee4-8f78-287266862cf5"
   },
   "outputs": [
    {
     "ename": "TypeError",
     "evalue": "'tuple' object does not support item assignment",
     "output_type": "error",
     "traceback": [
      "\u001b[1;31m---------------------------------------------------------------------------\u001b[0m",
      "\u001b[1;31mTypeError\u001b[0m                                 Traceback (most recent call last)",
      "Input \u001b[1;32mIn [6]\u001b[0m, in \u001b[0;36m<cell line: 2>\u001b[1;34m()\u001b[0m\n\u001b[0;32m      1\u001b[0m \u001b[38;5;66;03m#notmutable\u001b[39;00m\n\u001b[1;32m----> 2\u001b[0m a[\u001b[38;5;241m1\u001b[39m]\u001b[38;5;241m=\u001b[39m\u001b[38;5;241m5\u001b[39m\n",
      "\u001b[1;31mTypeError\u001b[0m: 'tuple' object does not support item assignment"
     ]
    }
   ],
   "source": [
    "#notmutable\n",
    "a[1]=5"
   ]
  },
  {
   "cell_type": "code",
   "execution_count": 7,
   "metadata": {
    "colab": {
     "base_uri": "https://localhost:8080/"
    },
    "id": "q0Nl3_YVZEh6",
    "outputId": "e659edfc-6571-4a5e-e9a6-680d1e272856"
   },
   "outputs": [
    {
     "name": "stdout",
     "output_type": "stream",
     "text": [
      "{1, 2, 3, 6, 7}\n",
      "{3}\n"
     ]
    }
   ],
   "source": [
    "# SET\n",
    "set1 = {1, 2, 3}\n",
    "set2 = {2, 7, 6}\n",
    "\n",
    "# Find the union of set1 and set2\n",
    "union_set = set1 | set2\n",
    "\n",
    "# Print the union set\n",
    "print(union_set)\n",
    "\n",
    "\n",
    "set1 = {1, 2, 3}\n",
    "set2 = {3, 4, 5}\n",
    "\n",
    "# Find the intersection of set1 and set2\n",
    "intersection_set = set1 & set2\n",
    "\n",
    "# Print the intersection set\n",
    "print(intersection_set)"
   ]
  },
  {
   "cell_type": "code",
   "execution_count": 8,
   "metadata": {
    "colab": {
     "base_uri": "https://localhost:8080/"
    },
    "id": "HoNKKM9JZEfI",
    "outputId": "6f28ef55-07eb-4d09-c19c-5dd501b49a8d"
   },
   "outputs": [
    {
     "name": "stdout",
     "output_type": "stream",
     "text": [
      "{'apple', 'banana', 'mango', 'apple1', 'banana2'}\n"
     ]
    }
   ],
   "source": [
    "fruits1=set([\"mango\",\"apple\",\"banana\"])\n",
    "fruits2=set([\"mango\",\"apple1\",\"banana2\"])\n",
    "fruit3 = fruits1 | fruits2\n",
    "print(fruit3)"
   ]
  },
  {
   "cell_type": "code",
   "execution_count": 9,
   "metadata": {
    "colab": {
     "base_uri": "https://localhost:8080/"
    },
    "id": "372fGe02ZEca",
    "outputId": "24193df5-dad4-4fe2-e4a9-fd901a88ab28"
   },
   "outputs": [
    {
     "name": "stdout",
     "output_type": "stream",
     "text": [
      "{'mango', 'jack', 'apple', 'banana'}\n",
      "{'apple1', 'banana2'}\n"
     ]
    }
   ],
   "source": [
    "#add in the list\n",
    "fruits1.add(\"jack\")\n",
    "print(fruits1)\n",
    "fruits2.discard(\"mango\")\n",
    "print(fruits2)"
   ]
  },
  {
   "cell_type": "code",
   "execution_count": 10,
   "metadata": {
    "colab": {
     "base_uri": "https://localhost:8080/"
    },
    "id": "3PLmZHI5ZEZd",
    "outputId": "3b333adc-1a08-47ef-abc0-7067a37115c1"
   },
   "outputs": [
    {
     "name": "stdout",
     "output_type": "stream",
     "text": [
      "{'brand': 'Ford', 'model': 'Mustang', 'year': 1964}\n",
      "3\n",
      "Ford\n",
      "<class 'dict'>\n"
     ]
    }
   ],
   "source": [
    "#dictonary in python\n",
    "thisdict = {\n",
    "  \"brand\": \"Ford\",\n",
    "  \"model\": \"Mustang\",\n",
    "  \"year\": 1964\n",
    "}\n",
    "print(thisdict)\n",
    "print(len(thisdict))\n",
    "print(thisdict[\"brand\"])\n",
    "print(type(thisdict))"
   ]
  },
  {
   "cell_type": "code",
   "execution_count": 11,
   "metadata": {
    "colab": {
     "base_uri": "https://localhost:8080/"
    },
    "id": "4uQqHsriZEWy",
    "outputId": "72bc2f3b-5214-47e1-b7b6-48c5288bdeed"
   },
   "outputs": [
    {
     "name": "stdout",
     "output_type": "stream",
     "text": [
      "Hello\n",
      "world\n",
      "5\n",
      "H\n",
      "hello\n",
      "HELLO\n"
     ]
    }
   ],
   "source": [
    "#Strings\n",
    "a = 'Hello'\n",
    "b = \"world\"\n",
    "print(a)\n",
    "print(b)\n",
    "print(len(a))\n",
    "print(a[0])\n",
    "print(a.lower())\n",
    "print(a.upper())\n"
   ]
  },
  {
   "cell_type": "code",
   "execution_count": 17,
   "metadata": {
    "colab": {
     "base_uri": "https://localhost:8080/"
    },
    "id": "Bfgwu4QCZET5",
    "outputId": "cda0f677-c7cc-4d1d-eb61-7d5a0a7a071f"
   },
   "outputs": [
    {
     "name": "stdout",
     "output_type": "stream",
     "text": [
      "Helloworld\n"
     ]
    }
   ],
   "source": [
    "#concatenate\n",
    "c = a + b\n",
    "print(c)\n",
    "c = 'hello world'"
   ]
  },
  {
   "cell_type": "code",
   "execution_count": 18,
   "metadata": {},
   "outputs": [
    {
     "name": "stdout",
     "output_type": "stream",
     "text": [
      "hey world\n"
     ]
    }
   ],
   "source": [
    "#replace\n",
    "c = c.replace('ello','ey')\n",
    "print(c)"
   ]
  },
  {
   "cell_type": "code",
   "execution_count": 19,
   "metadata": {},
   "outputs": [
    {
     "name": "stdout",
     "output_type": "stream",
     "text": [
      "hey \n"
     ]
    }
   ],
   "source": [
    "#slice\n",
    "d = c[0:4]\n",
    "print(d)"
   ]
  },
  {
   "cell_type": "code",
   "execution_count": 20,
   "metadata": {},
   "outputs": [
    {
     "name": "stdout",
     "output_type": "stream",
     "text": [
      "['hey', 'world']\n"
     ]
    }
   ],
   "source": [
    "#split\n",
    "f = c.split(' ')\n",
    "print(f)\n"
   ]
  },
  {
   "cell_type": "code",
   "execution_count": 22,
   "metadata": {},
   "outputs": [
    {
     "name": "stdout",
     "output_type": "stream",
     "text": [
      "hey world\n"
     ]
    }
   ],
   "source": [
    "#join\n",
    "g=' '.join(f)\n",
    "print(g)"
   ]
  },
  {
   "cell_type": "code",
   "execution_count": 23,
   "metadata": {},
   "outputs": [
    {
     "name": "stdout",
     "output_type": "stream",
     "text": [
      "olleH\n"
     ]
    }
   ],
   "source": [
    "#reverse\n",
    "print(a[::-1])"
   ]
  },
  {
   "cell_type": "code",
   "execution_count": null,
   "metadata": {},
   "outputs": [],
   "source": []
  },
  {
   "cell_type": "code",
   "execution_count": 26,
   "metadata": {
    "colab": {
     "base_uri": "https://localhost:8080/"
    },
    "id": "hjjdX9MhZEQ8",
    "outputId": "8b663ec3-120a-46e3-9a54-60c0cc7c7448"
   },
   "outputs": [
    {
     "name": "stdout",
     "output_type": "stream",
     "text": [
      "it is equal\n"
     ]
    }
   ],
   "source": [
    "#flow control\n",
    "#if else\n",
    "var=10\n",
    "if var==10:\n",
    "  print('it is equal')\n",
    "else:\n",
    "  print('it is not equal')"
   ]
  },
  {
   "cell_type": "code",
   "execution_count": 27,
   "metadata": {
    "colab": {
     "base_uri": "https://localhost:8080/"
    },
    "id": "y-3Wu2_UZEOH",
    "outputId": "b8c8c5ca-2a35-4d36-b303-49f4167fb8aa"
   },
   "outputs": [
    {
     "name": "stdout",
     "output_type": "stream",
     "text": [
      "1\n",
      "2\n",
      "3\n",
      "4\n"
     ]
    }
   ],
   "source": [
    "#for loop\n",
    "arr=[1,2,3,4]\n",
    "for x in arr:\n",
    "  print(x)"
   ]
  },
  {
   "cell_type": "code",
   "execution_count": 28,
   "metadata": {
    "colab": {
     "base_uri": "https://localhost:8080/"
    },
    "id": "DKXH86Y0ZELJ",
    "outputId": "3144873a-b0b9-4f36-9a1f-082820e5d9ec"
   },
   "outputs": [
    {
     "name": "stdout",
     "output_type": "stream",
     "text": [
      "0\n",
      "1\n",
      "2\n",
      "3\n",
      "4\n",
      "5\n",
      "6\n",
      "7\n",
      "8\n",
      "9\n"
     ]
    }
   ],
   "source": [
    "for i in range(10):\n",
    "  print(i)"
   ]
  },
  {
   "cell_type": "code",
   "execution_count": 29,
   "metadata": {
    "colab": {
     "base_uri": "https://localhost:8080/"
    },
    "id": "8t3SrqbFZEIW",
    "outputId": "f7c531ed-a319-43dd-fd64-14e19c3781b4"
   },
   "outputs": [
    {
     "name": "stdout",
     "output_type": "stream",
     "text": [
      "0\n",
      "1\n",
      "2\n",
      "3\n",
      "4\n",
      "5\n"
     ]
    }
   ],
   "source": [
    "#while\n",
    "i=0\n",
    "while i<6:\n",
    "  print(i)\n",
    "  i=i+1"
   ]
  },
  {
   "cell_type": "code",
   "execution_count": 30,
   "metadata": {
    "colab": {
     "base_uri": "https://localhost:8080/"
    },
    "id": "OaWi1OxgZEFg",
    "outputId": "c9bcf28b-6387-4e74-c535-5d5c3a5bfe93"
   },
   "outputs": [
    {
     "name": "stdout",
     "output_type": "stream",
     "text": [
      "11\n"
     ]
    }
   ],
   "source": [
    "#function\n",
    "def add(a,b):\n",
    "  c = a + b\n",
    "  return c\n",
    "d = add(5,6)\n",
    "print(d)"
   ]
  },
  {
   "cell_type": "code",
   "execution_count": 31,
   "metadata": {
    "id": "3jZTdMiMZECx"
   },
   "outputs": [],
   "source": [
    "#function example 2\n",
    "#to be done by students"
   ]
  },
  {
   "cell_type": "code",
   "execution_count": 32,
   "metadata": {
    "colab": {
     "base_uri": "https://localhost:8080/"
    },
    "id": "vLMEPY_KZD_-",
    "outputId": "93726030-7576-49f1-fc08-d44e617196ac"
   },
   "outputs": [
    {
     "name": "stdout",
     "output_type": "stream",
     "text": [
      "area of circle is 78.53981633974483\n"
     ]
    }
   ],
   "source": [
    "#libraries\n",
    "import math\n",
    "from math import pi\n",
    "r=5\n",
    "a = r*r*pi\n",
    "print('area of circle is',a)"
   ]
  },
  {
   "cell_type": "code",
   "execution_count": null,
   "metadata": {
    "id": "SXEzoWvSZCqY"
   },
   "outputs": [],
   "source": [
    "##class\n",
    "#example 1 to be done by students"
   ]
  },
  {
   "cell_type": "code",
   "execution_count": 33,
   "metadata": {
    "id": "cJsnHBIdtofq"
   },
   "outputs": [],
   "source": [
    "class ml:\n",
    "  '''this is doc'''\n",
    "  var =1\n",
    "  def printfhello():\n",
    "    print('hello world')"
   ]
  },
  {
   "cell_type": "code",
   "execution_count": 34,
   "metadata": {
    "colab": {
     "base_uri": "https://localhost:8080/"
    },
    "id": "azZydx7iueGj",
    "outputId": "38216e73-b3ef-4ad8-abfb-eb6a25420414"
   },
   "outputs": [
    {
     "name": "stdout",
     "output_type": "stream",
     "text": [
      "1\n"
     ]
    }
   ],
   "source": [
    "print(ml.var)"
   ]
  },
  {
   "cell_type": "code",
   "execution_count": 35,
   "metadata": {
    "colab": {
     "base_uri": "https://localhost:8080/"
    },
    "id": "C-WUn9kOuhpI",
    "outputId": "85b939de-94d6-4bb5-b8d2-38238911cc36"
   },
   "outputs": [
    {
     "name": "stdout",
     "output_type": "stream",
     "text": [
      "this is doc\n"
     ]
    }
   ],
   "source": [
    "print(ml.__doc__)"
   ]
  },
  {
   "cell_type": "code",
   "execution_count": 36,
   "metadata": {
    "colab": {
     "base_uri": "https://localhost:8080/"
    },
    "id": "ywoyP211umbp",
    "outputId": "2c7ff8a1-d84f-4cce-bd95-416cc79850e2"
   },
   "outputs": [
    {
     "name": "stdout",
     "output_type": "stream",
     "text": [
      "<function ml.printfhello at 0x000001B2DF9C3910>\n"
     ]
    }
   ],
   "source": [
    "print(ml.printfhello)"
   ]
  },
  {
   "cell_type": "markdown",
   "metadata": {
    "id": "qo3A_UikZMQO"
   },
   "source": [
    "#Constructor in python"
   ]
  },
  {
   "cell_type": "code",
   "execution_count": 37,
   "metadata": {
    "colab": {
     "base_uri": "https://localhost:8080/"
    },
    "id": "HhGn7qEJu2nq",
    "outputId": "d43b9a4f-aff6-4493-fca0-caef0b168dff"
   },
   "outputs": [
    {
     "name": "stdout",
     "output_type": "stream",
     "text": [
      "Alice\n",
      "25\n"
     ]
    }
   ],
   "source": [
    "class Person:\n",
    "    def __init__(self, name, age):\n",
    "        self.name = name\n",
    "        self.age = age\n",
    "\n",
    "# Create a new Person object\n",
    "person = Person(\"Alice\", 25)\n",
    "\n",
    "# Print the person's name and age\n",
    "print(person.name)\n",
    "print(person.age)"
   ]
  },
  {
   "cell_type": "markdown",
   "metadata": {
    "id": "IzkPO6382BBI"
   },
   "source": [
    "Exception handling"
   ]
  },
  {
   "cell_type": "code",
   "execution_count": 38,
   "metadata": {
    "colab": {
     "base_uri": "https://localhost:8080/"
    },
    "id": "GPfodp-D2vSN",
    "outputId": "b63a84f4-1f55-4bbf-b652-cc2a5abaf442"
   },
   "outputs": [
    {
     "name": "stdout",
     "output_type": "stream",
     "text": [
      "10\n",
      "i am here\n"
     ]
    }
   ],
   "source": [
    "var = 10\n",
    "try:\n",
    "  print(var)\n",
    "except:\n",
    "  print('var is not defined')\n",
    "finally:\n",
    "  print('i am here')"
   ]
  },
  {
   "cell_type": "code",
   "execution_count": 40,
   "metadata": {
    "colab": {
     "base_uri": "https://localhost:8080/"
    },
    "id": "JJosLHQZ2LpI",
    "outputId": "72961bf1-05fa-4d43-a0d5-7b4dd42a45ba"
   },
   "outputs": [
    {
     "name": "stdout",
     "output_type": "stream",
     "text": [
      "var10 is not defined\n",
      "i am here\n"
     ]
    }
   ],
   "source": [
    "try:\n",
    "  print(var10)\n",
    "except:\n",
    "  print('var10 is not defined')\n",
    "finally:\n",
    "  print('i am here')"
   ]
  },
  {
   "cell_type": "markdown",
   "metadata": {},
   "source": [
    "Assignment 1"
   ]
  },
  {
   "cell_type": "code",
   "execution_count": 41,
   "metadata": {
    "id": "YRoAaW7X2-8r"
   },
   "outputs": [
    {
     "name": "stdout",
     "output_type": "stream",
     "text": [
      "Sum of all elements in the list: 15\n"
     ]
    }
   ],
   "source": [
    "def sum(lst):\n",
    "    total = 0\n",
    "    for num in lst:\n",
    "        total += num\n",
    "    return total\n",
    "\n",
    "m = [1, 2, 3, 4, 5]\n",
    "print(\"Sum of all elements in the list:\", sum(m))"
   ]
  },
  {
   "cell_type": "code",
   "execution_count": 43,
   "metadata": {},
   "outputs": [
    {
     "name": "stdout",
     "output_type": "stream",
     "text": [
      "The gcd of 60 and 48 is : \n",
      "12\n"
     ]
    }
   ],
   "source": [
    "def hcf(a, b):\n",
    "    if(b == 0):\n",
    "        return a\n",
    "    else:\n",
    "        return hcf(b, a % b)\n",
    " \n",
    "a = 60\n",
    "b = 48\n",
    " \n",
    "# prints 12\n",
    "print(\"The gcd of 60 and 48 is : \")\n",
    "print(hcf(60, 48))"
   ]
  },
  {
   "cell_type": "code",
   "execution_count": 48,
   "metadata": {},
   "outputs": [
    {
     "name": "stdout",
     "output_type": "stream",
     "text": [
      "Enter the first number: 10\n",
      "Enter the second number: 20\n",
      "Enter the third number: 30\n",
      "The maximum of the three numbers is: 30.0\n"
     ]
    }
   ],
   "source": [
    "def maximum(num1, num2, num3):\n",
    "    max=0.0\n",
    "    if(num1>num2):\n",
    "        if(num1>num3):\n",
    "            max=num1\n",
    "        else:\n",
    "            max=num3\n",
    "    else:\n",
    "        if(num2>num3):\n",
    "            max=num2\n",
    "        else:\n",
    "            max=num3\n",
    "    \n",
    "    return max\n",
    "\n",
    "# Example usage:\n",
    "number1 = float(input(\"Enter the first number: \"))\n",
    "number2 = float(input(\"Enter the second number: \"))\n",
    "number3 = float(input(\"Enter the third number: \"))\n",
    "\n",
    "max1 = maximum(number1, number2, number3)\n",
    "print(\"The maximum of the three numbers is:\", max1)"
   ]
  },
  {
   "cell_type": "code",
   "execution_count": 50,
   "metadata": {},
   "outputs": [
    {
     "name": "stdout",
     "output_type": "stream",
     "text": [
      "Enter the first number: 10\n",
      "Enter the second number: 20\n",
      "Enter the third number: 30\n",
      "The maximum of the three numbers is: 30.0\n"
     ]
    }
   ],
   "source": [
    "def find_maximum_of_three(num1, num2, num3):\n",
    "    #nested functions \n",
    "    def find_maximum(x, y):\n",
    "        return x if x > y else y\n",
    "\n",
    "    max_of_first_two = find_maximum(num1, num2)\n",
    "    overall_max = find_maximum(max_of_first_two, num3)\n",
    "    return overall_max\n",
    "\n",
    "# Example usage:\n",
    "number1 = float(input(\"Enter the first number: \"))\n",
    "number2 = float(input(\"Enter the second number: \"))\n",
    "number3 = float(input(\"Enter the third number: \"))\n",
    "\n",
    "maximum = find_maximum_of_three(number1, number2, number3)\n",
    "print(\"The maximum of the three numbers is:\", maximum)\n"
   ]
  },
  {
   "cell_type": "code",
   "execution_count": 62,
   "metadata": {},
   "outputs": [
    {
     "name": "stdout",
     "output_type": "stream",
     "text": [
      "11\n"
     ]
    }
   ],
   "source": [
    "a=[11,2,3,4,5]\n",
    "max=a[0]\n",
    "for i in range(len(a)):\n",
    "    if(max<a[i]):\n",
    "        max=a[i]\n",
    "print(max) "
   ]
  },
  {
   "cell_type": "code",
   "execution_count": 67,
   "metadata": {},
   "outputs": [
    {
     "name": "stdout",
     "output_type": "stream",
     "text": [
      "enter the number900000\n",
      "numer is divisible\n"
     ]
    }
   ],
   "source": [
    "num=int(input('enter the number'))\n",
    "sum=0\n",
    "while(num!=0):\n",
    "    sum=sum + int(num%10)\n",
    "    num=int(num/10)\n",
    "if(sum%9==0):\n",
    "    print('numer is divisible')\n",
    "else:\n",
    "    print('numer is not divisible')"
   ]
  },
  {
   "cell_type": "code",
   "execution_count": 68,
   "metadata": {},
   "outputs": [
    {
     "name": "stdout",
     "output_type": "stream",
     "text": [
      "enter the number749\n",
      "20\n"
     ]
    }
   ],
   "source": [
    "num=int(input('enter the number'))\n",
    "sum=0\n",
    "while(num!=0):\n",
    "    sum=sum + int(num%10)\n",
    "    num=int(num/10)\n",
    "print(sum)"
   ]
  },
  {
   "cell_type": "code",
   "execution_count": 69,
   "metadata": {},
   "outputs": [
    {
     "name": "stdout",
     "output_type": "stream",
     "text": [
      "Enter the first number: 5\n",
      "Enter the second number: 15\n",
      "Prime numbers between 5 and 15 are:\n",
      "5 7 11 13 "
     ]
    }
   ],
   "source": [
    "def is_prime(n):\n",
    "    if n <= 1:\n",
    "        return False\n",
    "    elif n <= 3:\n",
    "        return True\n",
    "    elif n % 2 == 0 or n % 3 == 0:\n",
    "        return False\n",
    "    i = 5\n",
    "    while i * i <= n:\n",
    "        if n % i == 0 or n % (i + 2) == 0:\n",
    "            return False\n",
    "        i += 6\n",
    "    return True\n",
    "\n",
    "def display_prime_numbers(start, end):\n",
    "    print(\"Prime numbers between\", start, \"and\", end, \"are:\")\n",
    "    for num in range(start, end + 1):\n",
    "        if is_prime(num):\n",
    "            print(num, end=\" \")\n",
    "\n",
    "# Taking input from the user\n",
    "first_number = int(input(\"Enter the first number: \"))\n",
    "second_number = int(input(\"Enter the second number: \"))\n",
    "\n",
    "# Displaying prime numbers between the given range\n",
    "display_prime_numbers(first_number, second_number)\n"
   ]
  },
  {
   "cell_type": "code",
   "execution_count": 91,
   "metadata": {},
   "outputs": [
    {
     "name": "stdout",
     "output_type": "stream",
     "text": [
      "<class 'NoneType'>\n"
     ]
    }
   ],
   "source": [
    "var = None\n",
    "print(type(var))"
   ]
  },
  {
   "cell_type": "code",
   "execution_count": 99,
   "metadata": {},
   "outputs": [
    {
     "name": "stdout",
     "output_type": "stream",
     "text": [
      "10.0\n",
      "<class 'float'>\n",
      "<class 'int'>\n"
     ]
    }
   ],
   "source": [
    "a=10\n",
    "d=float(a)\n",
    "print(d)\n",
    "print(type(d))\n",
    "print(type(a))"
   ]
  },
  {
   "cell_type": "code",
   "execution_count": 94,
   "metadata": {},
   "outputs": [
    {
     "name": "stdout",
     "output_type": "stream",
     "text": [
      "<class 'float'>\n"
     ]
    }
   ],
   "source": [
    "b=20.3\n",
    "print(type(b))"
   ]
  },
  {
   "cell_type": "code",
   "execution_count": 96,
   "metadata": {},
   "outputs": [
    {
     "name": "stdout",
     "output_type": "stream",
     "text": [
      "(10+20.3j)\n",
      "<class 'complex'>\n"
     ]
    }
   ],
   "source": [
    "c=complex(a,b)\n",
    "print(c)\n",
    "print(type(c))"
   ]
  },
  {
   "cell_type": "code",
   "execution_count": 97,
   "metadata": {},
   "outputs": [
    {
     "name": "stdout",
     "output_type": "stream",
     "text": [
      "True\n"
     ]
    }
   ],
   "source": [
    "e=True\n",
    "print(e)"
   ]
  },
  {
   "cell_type": "code",
   "execution_count": 98,
   "metadata": {},
   "outputs": [
    {
     "name": "stdout",
     "output_type": "stream",
     "text": [
      "<class 'bool'>\n"
     ]
    }
   ],
   "source": [
    "print(type(e))"
   ]
  },
  {
   "cell_type": "code",
   "execution_count": null,
   "metadata": {},
   "outputs": [],
   "source": [
    "#list"
   ]
  },
  {
   "cell_type": "code",
   "execution_count": 101,
   "metadata": {},
   "outputs": [],
   "source": [
    "a=[1,'shiva',1.1,True,complex(5,8)]"
   ]
  },
  {
   "cell_type": "code",
   "execution_count": 103,
   "metadata": {},
   "outputs": [],
   "source": [
    "#tupple"
   ]
  },
  {
   "cell_type": "code",
   "execution_count": 105,
   "metadata": {},
   "outputs": [],
   "source": [
    "a=(1,'shiva',1.1)"
   ]
  },
  {
   "cell_type": "code",
   "execution_count": 106,
   "metadata": {},
   "outputs": [
    {
     "data": {
      "text/plain": [
       "(1, 'shiva', 1.1)"
      ]
     },
     "execution_count": 106,
     "metadata": {},
     "output_type": "execute_result"
    }
   ],
   "source": [
    "a"
   ]
  },
  {
   "cell_type": "code",
   "execution_count": 109,
   "metadata": {},
   "outputs": [
    {
     "name": "stdout",
     "output_type": "stream",
     "text": [
      "{'mango', 'cake', 'apple'}\n"
     ]
    }
   ],
   "source": [
    "#sets\n",
    "fruit={\"apple\",\"mango\",\"cake\"}\n",
    "print(fruit)"
   ]
  },
  {
   "cell_type": "code",
   "execution_count": 113,
   "metadata": {},
   "outputs": [],
   "source": [
    "fruit1=set([\"apple\",\"mango\",\"cake\"])"
   ]
  },
  {
   "cell_type": "code",
   "execution_count": 116,
   "metadata": {},
   "outputs": [],
   "source": [
    "fruit2=set([\"apple\",\"mango\",\"cake\"])"
   ]
  },
  {
   "cell_type": "code",
   "execution_count": 114,
   "metadata": {},
   "outputs": [],
   "source": [
    "fruit1.add('jack')"
   ]
  },
  {
   "cell_type": "code",
   "execution_count": 115,
   "metadata": {},
   "outputs": [
    {
     "name": "stdout",
     "output_type": "stream",
     "text": [
      "{'jack', 'mango', 'cake', 'apple'}\n"
     ]
    }
   ],
   "source": [
    "print(fruit1)"
   ]
  },
  {
   "cell_type": "code",
   "execution_count": 117,
   "metadata": {},
   "outputs": [],
   "source": [
    "#union\n",
    "f=fruit1|fruit2"
   ]
  },
  {
   "cell_type": "code",
   "execution_count": 118,
   "metadata": {},
   "outputs": [
    {
     "data": {
      "text/plain": [
       "{'apple', 'cake', 'jack', 'mango'}"
      ]
     },
     "execution_count": 118,
     "metadata": {},
     "output_type": "execute_result"
    }
   ],
   "source": [
    "f"
   ]
  },
  {
   "cell_type": "code",
   "execution_count": 119,
   "metadata": {},
   "outputs": [],
   "source": [
    "f=fruit1&fruit2"
   ]
  },
  {
   "cell_type": "code",
   "execution_count": 120,
   "metadata": {},
   "outputs": [
    {
     "data": {
      "text/plain": [
       "{'apple', 'cake', 'mango'}"
      ]
     },
     "execution_count": 120,
     "metadata": {},
     "output_type": "execute_result"
    }
   ],
   "source": [
    "f"
   ]
  },
  {
   "cell_type": "code",
   "execution_count": null,
   "metadata": {},
   "outputs": [],
   "source": []
  },
  {
   "cell_type": "code",
   "execution_count": null,
   "metadata": {},
   "outputs": [],
   "source": []
  },
  {
   "cell_type": "code",
   "execution_count": null,
   "metadata": {},
   "outputs": [],
   "source": []
  },
  {
   "cell_type": "code",
   "execution_count": null,
   "metadata": {},
   "outputs": [],
   "source": []
  },
  {
   "cell_type": "code",
   "execution_count": null,
   "metadata": {},
   "outputs": [],
   "source": []
  },
  {
   "cell_type": "code",
   "execution_count": 1,
   "metadata": {},
   "outputs": [],
   "source": [
    "#Python for Machine learing"
   ]
  },
  {
   "cell_type": "code",
   "execution_count": 2,
   "metadata": {},
   "outputs": [
    {
     "name": "stdout",
     "output_type": "stream",
     "text": [
      "Requirement already satisfied: pandas in c:\\users\\administrator\\appdata\\local\\programs\\python\\python310\\lib\\site-packages (1.4.1)\n",
      "Requirement already satisfied: python-dateutil>=2.8.1 in c:\\users\\administrator\\appdata\\local\\programs\\python\\python310\\lib\\site-packages (from pandas) (2.8.2)\n",
      "Requirement already satisfied: numpy>=1.21.0 in c:\\users\\administrator\\appdata\\local\\programs\\python\\python310\\lib\\site-packages (from pandas) (1.24.1)\n",
      "Requirement already satisfied: pytz>=2020.1 in c:\\users\\administrator\\appdata\\local\\programs\\python\\python310\\lib\\site-packages (from pandas) (2021.3)\n",
      "Requirement already satisfied: six>=1.5 in c:\\users\\administrator\\appdata\\local\\programs\\python\\python310\\lib\\site-packages (from python-dateutil>=2.8.1->pandas) (1.16.0)\n",
      "Note: you may need to restart the kernel to use updated packages.\n"
     ]
    },
    {
     "name": "stderr",
     "output_type": "stream",
     "text": [
      "\n",
      "[notice] A new release of pip is available: 23.0.1 -> 24.0\n",
      "[notice] To update, run: python.exe -m pip install --upgrade pip\n"
     ]
    }
   ],
   "source": [
    "pip install pandas"
   ]
  },
  {
   "cell_type": "code",
   "execution_count": 14,
   "metadata": {},
   "outputs": [
    {
     "name": "stdout",
     "output_type": "stream",
     "text": [
      "   fruits vegetables cereals  price\n",
      "0   apple     carrot    corn    900\n",
      "1  orange     potato   wheat    700\n",
      "2   mango      onion  barley    100\n",
      "3  banana     Tomato    rice     60\n"
     ]
    }
   ],
   "source": [
    "#pandas with self defined index like 0,1,2,3\n",
    "import pandas as pd \n",
    "df_dic={\n",
    "    \"fruits\": [\"apple\",\"orange\",\"mango\",\"banana\"],\n",
    "    \"vegetables\": [\"carrot\",\"potato\",\"onion\",\"Tomato\"],\n",
    "    \"cereals\": [\"corn\",\"wheat\",\"barley\",\"rice\"],\n",
    "    \"price\": [900,700,100,60]\n",
    "}\n",
    "import pandas as pd\n",
    "groceries=pd.DataFrame(df_dic)\n",
    "print(groceries)"
   ]
  },
  {
   "cell_type": "code",
   "execution_count": 15,
   "metadata": {},
   "outputs": [
    {
     "name": "stdout",
     "output_type": "stream",
     "text": [
      "    fruits vegetables cereals  price\n",
      "f1   apple     carrot    corn    900\n",
      "f2  orange     potato   wheat    700\n",
      "f3   mango      onion  barley    100\n",
      "f4  banana     Tomato    rice     60\n"
     ]
    }
   ],
   "source": [
    "#pandas with your indexes\n",
    "import pandas as pd \n",
    "df_dic={\n",
    "    \"fruits\": [\"apple\",\"orange\",\"mango\",\"banana\"],\n",
    "    \"vegetables\": [\"carrot\",\"potato\",\"onion\",\"Tomato\"],\n",
    "    \"cereals\": [\"corn\",\"wheat\",\"barley\",\"rice\"],\n",
    "    \"price\": [900,700,100,60]\n",
    "}\n",
    "import pandas as pd\n",
    "groceries=pd.DataFrame(df_dic)\n",
    "groceries.index=[\"f1\",\"f2\",\"f3\",\"f4\"]\n",
    "print(groceries)"
   ]
  },
  {
   "cell_type": "code",
   "execution_count": 17,
   "metadata": {},
   "outputs": [],
   "source": [
    "#storing the CSV file\n",
    "groceries.to_csv('dict.csv')"
   ]
  },
  {
   "cell_type": "code",
   "execution_count": 18,
   "metadata": {},
   "outputs": [
    {
     "name": "stdout",
     "output_type": "stream",
     "text": [
      "  Unnamed: 0  fruits vegetables cereals  price\n",
      "0         f1   apple     carrot    corn    900\n",
      "1         f2  orange     potato   wheat    700\n",
      "2         f3   mango      onion  barley    100\n",
      "3         f4  banana     Tomato    rice     60\n"
     ]
    }
   ],
   "source": [
    "#Reading the CSV file \n",
    "g1 = pd.read_csv('dict.csv')\n",
    "print(g1)"
   ]
  },
  {
   "cell_type": "code",
   "execution_count": 25,
   "metadata": {},
   "outputs": [],
   "source": [
    "g1=g1.drop(columns=[\"Unnamed: 0\"], axis=1)"
   ]
  },
  {
   "cell_type": "code",
   "execution_count": 26,
   "metadata": {},
   "outputs": [
    {
     "name": "stdout",
     "output_type": "stream",
     "text": [
      "   fruits vegetables cereals  price\n",
      "0   apple     carrot    corn    900\n",
      "1  orange     potato   wheat    700\n",
      "2   mango      onion  barley    100\n",
      "3  banana     Tomato    rice     60\n"
     ]
    }
   ],
   "source": [
    "print(g1)"
   ]
  },
  {
   "cell_type": "code",
   "execution_count": 27,
   "metadata": {},
   "outputs": [],
   "source": [
    "g1.to_csv('dict.csv')"
   ]
  },
  {
   "cell_type": "code",
   "execution_count": 30,
   "metadata": {},
   "outputs": [],
   "source": [
    "g1=g1.drop(g1.index[3])"
   ]
  },
  {
   "cell_type": "code",
   "execution_count": 31,
   "metadata": {},
   "outputs": [
    {
     "name": "stdout",
     "output_type": "stream",
     "text": [
      "   fruits vegetables cereals  price\n",
      "0   apple     carrot    corn    900\n",
      "1  orange     potato   wheat    700\n",
      "2   mango      onion  barley    100\n"
     ]
    }
   ],
   "source": [
    "print(g1)"
   ]
  },
  {
   "cell_type": "code",
   "execution_count": 34,
   "metadata": {},
   "outputs": [
    {
     "name": "stdout",
     "output_type": "stream",
     "text": [
      "0    carrot\n",
      "1    potato\n",
      "2     onion\n",
      "3    Tomato\n",
      "Name: vegetables, dtype: object\n"
     ]
    }
   ],
   "source": [
    "import pandas as pd\n",
    "df = pd.read_csv('dict.csv')\n",
    "print(df.vegetables)"
   ]
  },
  {
   "cell_type": "code",
   "execution_count": 35,
   "metadata": {},
   "outputs": [
    {
     "name": "stdout",
     "output_type": "stream",
     "text": [
      "0    carrot\n",
      "1    potato\n",
      "2     onion\n",
      "3    Tomato\n",
      "Name: vegetables, dtype: object\n"
     ]
    }
   ],
   "source": [
    "#Print the Vegetables column as pandas Series\n",
    "print(df['vegetables'])"
   ]
  },
  {
   "cell_type": "code",
   "execution_count": 36,
   "metadata": {},
   "outputs": [
    {
     "name": "stdout",
     "output_type": "stream",
     "text": [
      "  vegetables\n",
      "0     carrot\n",
      "1     potato\n",
      "2      onion\n",
      "3     Tomato\n"
     ]
    }
   ],
   "source": [
    "#Print the Vegetables column as pandas DataFrame\n",
    "print(df[['vegetables']])"
   ]
  },
  {
   "cell_type": "code",
   "execution_count": 37,
   "metadata": {},
   "outputs": [
    {
     "name": "stdout",
     "output_type": "stream",
     "text": [
      "  cereals vegetables\n",
      "0    corn     carrot\n",
      "1   wheat     potato\n",
      "2  barley      onion\n",
      "3    rice     Tomato\n"
     ]
    }
   ],
   "source": [
    "#Index both Cereals and Vegetables column as DataFrame\n",
    "print(df[['cereals', 'vegetables']])"
   ]
  },
  {
   "cell_type": "code",
   "execution_count": 38,
   "metadata": {},
   "outputs": [
    {
     "name": "stdout",
     "output_type": "stream",
     "text": [
      "The first element of column Cereal is \n",
      "corn\n"
     ]
    }
   ],
   "source": [
    "print(\"The first element of column Cereal is \")\n",
    "#Index the first observation of a column\n",
    "print(df['cereals'][0])"
   ]
  },
  {
   "cell_type": "code",
   "execution_count": 52,
   "metadata": {},
   "outputs": [
    {
     "data": {
      "text/html": [
       "<div>\n",
       "<style scoped>\n",
       "    .dataframe tbody tr th:only-of-type {\n",
       "        vertical-align: middle;\n",
       "    }\n",
       "\n",
       "    .dataframe tbody tr th {\n",
       "        vertical-align: top;\n",
       "    }\n",
       "\n",
       "    .dataframe thead th {\n",
       "        text-align: right;\n",
       "    }\n",
       "</style>\n",
       "<table border=\"1\" class=\"dataframe\">\n",
       "  <thead>\n",
       "    <tr style=\"text-align: right;\">\n",
       "      <th></th>\n",
       "      <th>Unnamed: 0</th>\n",
       "      <th>fruits</th>\n",
       "      <th>vegetables</th>\n",
       "      <th>cereals</th>\n",
       "      <th>price</th>\n",
       "    </tr>\n",
       "  </thead>\n",
       "  <tbody>\n",
       "    <tr>\n",
       "      <th>0</th>\n",
       "      <td>0</td>\n",
       "      <td>apple</td>\n",
       "      <td>carrot</td>\n",
       "      <td>corn</td>\n",
       "      <td>900</td>\n",
       "    </tr>\n",
       "    <tr>\n",
       "      <th>1</th>\n",
       "      <td>1</td>\n",
       "      <td>orange</td>\n",
       "      <td>potato</td>\n",
       "      <td>wheat</td>\n",
       "      <td>700</td>\n",
       "    </tr>\n",
       "    <tr>\n",
       "      <th>2</th>\n",
       "      <td>2</td>\n",
       "      <td>mango</td>\n",
       "      <td>onion</td>\n",
       "      <td>barley</td>\n",
       "      <td>100</td>\n",
       "    </tr>\n",
       "    <tr>\n",
       "      <th>3</th>\n",
       "      <td>3</td>\n",
       "      <td>banana</td>\n",
       "      <td>Tomato</td>\n",
       "      <td>rice</td>\n",
       "      <td>60</td>\n",
       "    </tr>\n",
       "  </tbody>\n",
       "</table>\n",
       "</div>"
      ],
      "text/plain": [
       "   Unnamed: 0  fruits vegetables cereals  price\n",
       "0           0   apple     carrot    corn    900\n",
       "1           1  orange     potato   wheat    700\n",
       "2           2   mango      onion  barley    100\n",
       "3           3  banana     Tomato    rice     60"
      ]
     },
     "execution_count": 52,
     "metadata": {},
     "output_type": "execute_result"
    }
   ],
   "source": [
    "import pandas as pd\n",
    "df = pd.read_csv('dict.csv')\n",
    "df.head()"
   ]
  },
  {
   "cell_type": "code",
   "execution_count": 53,
   "metadata": {},
   "outputs": [
    {
     "data": {
      "text/html": [
       "<div>\n",
       "<style scoped>\n",
       "    .dataframe tbody tr th:only-of-type {\n",
       "        vertical-align: middle;\n",
       "    }\n",
       "\n",
       "    .dataframe tbody tr th {\n",
       "        vertical-align: top;\n",
       "    }\n",
       "\n",
       "    .dataframe thead th {\n",
       "        text-align: right;\n",
       "    }\n",
       "</style>\n",
       "<table border=\"1\" class=\"dataframe\">\n",
       "  <thead>\n",
       "    <tr style=\"text-align: right;\">\n",
       "      <th></th>\n",
       "      <th>fruits</th>\n",
       "      <th>vegetables</th>\n",
       "      <th>cereals</th>\n",
       "      <th>price</th>\n",
       "    </tr>\n",
       "  </thead>\n",
       "  <tbody>\n",
       "    <tr>\n",
       "      <th>0</th>\n",
       "      <td>apple</td>\n",
       "      <td>carrot</td>\n",
       "      <td>corn</td>\n",
       "      <td>900</td>\n",
       "    </tr>\n",
       "    <tr>\n",
       "      <th>1</th>\n",
       "      <td>orange</td>\n",
       "      <td>potato</td>\n",
       "      <td>wheat</td>\n",
       "      <td>700</td>\n",
       "    </tr>\n",
       "    <tr>\n",
       "      <th>2</th>\n",
       "      <td>mango</td>\n",
       "      <td>onion</td>\n",
       "      <td>barley</td>\n",
       "      <td>100</td>\n",
       "    </tr>\n",
       "    <tr>\n",
       "      <th>3</th>\n",
       "      <td>banana</td>\n",
       "      <td>Tomato</td>\n",
       "      <td>rice</td>\n",
       "      <td>60</td>\n",
       "    </tr>\n",
       "  </tbody>\n",
       "</table>\n",
       "</div>"
      ],
      "text/plain": [
       "   fruits vegetables cereals  price\n",
       "0   apple     carrot    corn    900\n",
       "1  orange     potato   wheat    700\n",
       "2   mango      onion  barley    100\n",
       "3  banana     Tomato    rice     60"
      ]
     },
     "execution_count": 53,
     "metadata": {},
     "output_type": "execute_result"
    }
   ],
   "source": [
    "df=df.drop(columns=[\"Unnamed: 0\"], axis=1)\n",
    "df.index = ['0', '1', '2','3']\n",
    "df.head()"
   ]
  },
  {
   "cell_type": "code",
   "execution_count": 54,
   "metadata": {},
   "outputs": [
    {
     "name": "stdout",
     "output_type": "stream",
     "text": [
      "  fruits vegetables cereals  price\n",
      "0  apple     carrot    corn    900\n"
     ]
    }
   ],
   "source": [
    "#Indexing the first row\n",
    "print(df.loc[['0']])"
   ]
  },
  {
   "cell_type": "code",
   "execution_count": 57,
   "metadata": {},
   "outputs": [
    {
     "name": "stdout",
     "output_type": "stream",
     "text": [
      "fruits         apple\n",
      "vegetables    carrot\n",
      "Name: 0, dtype: object\n"
     ]
    }
   ],
   "source": [
    "#Indexing the first two row elements using iloc\n",
    "print(df.iloc[0][0:2])"
   ]
  },
  {
   "cell_type": "code",
   "execution_count": 59,
   "metadata": {},
   "outputs": [
    {
     "name": "stdout",
     "output_type": "stream",
     "text": [
      "Requirement already satisfied: numpy in c:\\users\\administrator\\appdata\\local\\programs\\python\\python310\\lib\\site-packages (1.24.1)Note: you may need to restart the kernel to use updated packages.\n",
      "\n"
     ]
    },
    {
     "name": "stderr",
     "output_type": "stream",
     "text": [
      "\n",
      "[notice] A new release of pip is available: 23.0.1 -> 24.0\n",
      "[notice] To update, run: python.exe -m pip install --upgrade pip\n"
     ]
    }
   ],
   "source": [
    "pip install numpy"
   ]
  },
  {
   "cell_type": "code",
   "execution_count": 60,
   "metadata": {},
   "outputs": [
    {
     "name": "stdout",
     "output_type": "stream",
     "text": [
      "[20 60 90 40 50]\n",
      "<class 'numpy.ndarray'>\n"
     ]
    }
   ],
   "source": [
    "import numpy as np\n",
    "#Create lists in python\n",
    "fruit_cost = [20, 60, 90, 40, 50]\n",
    "vegetable_cost = [10, 20, 30, 40, 50]\n",
    "#Convert the lists into numpy arrays\n",
    "fruit_np = np.array(fruit_cost)\n",
    "vegetable_np = np.array(vegetable_cost)\n",
    "#Print the array type of the object\n",
    "print(fruit_np)\n",
    "print(type(fruit_np))"
   ]
  },
  {
   "cell_type": "code",
   "execution_count": 61,
   "metadata": {},
   "outputs": [
    {
     "name": "stdout",
     "output_type": "stream",
     "text": [
      "[ 6  7  8  9 10]\n"
     ]
    }
   ],
   "source": [
    "import numpy as np\n",
    "arr = np.array([1,2,3,4,5,6,7,8,9,10])\n",
    "#Subset the elements greater then 5\n",
    "print(arr[arr > 5])"
   ]
  },
  {
   "cell_type": "code",
   "execution_count": 62,
   "metadata": {},
   "outputs": [
    {
     "name": "stdout",
     "output_type": "stream",
     "text": [
      "Requirement already satisfied: scipy in c:\\users\\administrator\\appdata\\local\\programs\\python\\python310\\lib\\site-packages (1.8.0)\n",
      "Requirement already satisfied: numpy<1.25.0,>=1.17.3 in c:\\users\\administrator\\appdata\\local\\programs\\python\\python310\\lib\\site-packages (from scipy) (1.24.1)\n",
      "Note: you may need to restart the kernel to use updated packages.\n"
     ]
    },
    {
     "name": "stderr",
     "output_type": "stream",
     "text": [
      "\n",
      "[notice] A new release of pip is available: 23.0.1 -> 24.0\n",
      "[notice] To update, run: python.exe -m pip install --upgrade pip\n"
     ]
    }
   ],
   "source": [
    "pip install scipy"
   ]
  },
  {
   "cell_type": "code",
   "execution_count": 1,
   "metadata": {},
   "outputs": [
    {
     "name": "stdout",
     "output_type": "stream",
     "text": [
      "[1.e+05 1.e+10]\n"
     ]
    }
   ],
   "source": [
    "from scipy.special import exp10\n",
    "val = exp10([5,10])\n",
    "#Output : [1.e+01 1.e+10]\n",
    "print(val)"
   ]
  },
  {
   "cell_type": "code",
   "execution_count": 64,
   "metadata": {},
   "outputs": [
    {
     "name": "stdout",
     "output_type": "stream",
     "text": [
      "3.0\n"
     ]
    }
   ],
   "source": [
    "from scipy.special import cbrt\n",
    "num = cbrt(27)\n",
    "#Output : 3.0\n",
    "print(num)"
   ]
  },
  {
   "cell_type": "code",
   "execution_count": 65,
   "metadata": {},
   "outputs": [
    {
     "name": "stdout",
     "output_type": "stream",
     "text": [
      "12.0\n"
     ]
    }
   ],
   "source": [
    "from scipy.special import perm\n",
    "permutation = perm(4,2)\n",
    "#Output: 12.0\n",
    "print(permutation)"
   ]
  },
  {
   "cell_type": "code",
   "execution_count": 66,
   "metadata": {},
   "outputs": [
    {
     "name": "stdout",
     "output_type": "stream",
     "text": [
      "6.0\n"
     ]
    }
   ],
   "source": [
    "from scipy.special import comb\n",
    "combination = comb(4,2)\n",
    "#Output: 6.0\n",
    "print(combination)"
   ]
  },
  {
   "cell_type": "code",
   "execution_count": 69,
   "metadata": {},
   "outputs": [
    {
     "name": "stdout",
     "output_type": "stream",
     "text": [
      "-2.0\n"
     ]
    }
   ],
   "source": [
    "from scipy import linalg\n",
    "import numpy as np\n",
    "#define square matrix\n",
    "arr = np.array([ [1,2], [3,4] ])\n",
    "#calculate the determinant\n",
    "determinant = linalg.det(arr)\n",
    "#Output: -2.0\n",
    "print(determinant)"
   ]
  },
  {
   "cell_type": "code",
   "execution_count": 68,
   "metadata": {},
   "outputs": [
    {
     "name": "stdout",
     "output_type": "stream",
     "text": [
      "[[ 2.5 -3.5]\n",
      " [-2.   3. ]]\n"
     ]
    }
   ],
   "source": [
    "#Calculating the inverse of a 2-D matrix:\n",
    "from scipy import linalg\n",
    "import numpy as np\n",
    "#define square matrix\n",
    "arr = np.array([ [6,7], [4,5] ])\n",
    "#calculate the inverse\n",
    "inverse = linalg.inv(arr)\n",
    "#Output: [[ 2.5 -3.5]\n",
    "# [-2. 3. ]]\n",
    "print(inverse)"
   ]
  },
  {
   "cell_type": "code",
   "execution_count": 70,
   "metadata": {},
   "outputs": [
    {
     "name": "stdout",
     "output_type": "stream",
     "text": [
      "Requirement already satisfied: matplotlib in c:\\users\\administrator\\appdata\\local\\programs\\python\\python310\\lib\\site-packages (3.5.1)\n",
      "Requirement already satisfied: pillow>=6.2.0 in c:\\users\\administrator\\appdata\\local\\programs\\python\\python310\\lib\\site-packages (from matplotlib) (9.0.1)\n",
      "Requirement already satisfied: numpy>=1.17 in c:\\users\\administrator\\appdata\\local\\programs\\python\\python310\\lib\\site-packages (from matplotlib) (1.24.1)\n",
      "Requirement already satisfied: python-dateutil>=2.7 in c:\\users\\administrator\\appdata\\local\\programs\\python\\python310\\lib\\site-packages (from matplotlib) (2.8.2)\n",
      "Requirement already satisfied: kiwisolver>=1.0.1 in c:\\users\\administrator\\appdata\\local\\programs\\python\\python310\\lib\\site-packages (from matplotlib) (1.4.0)\n",
      "Requirement already satisfied: fonttools>=4.22.0 in c:\\users\\administrator\\appdata\\local\\programs\\python\\python310\\lib\\site-packages (from matplotlib) (4.30.0)\n",
      "Requirement already satisfied: cycler>=0.10 in c:\\users\\administrator\\appdata\\local\\programs\\python\\python310\\lib\\site-packages (from matplotlib) (0.11.0)\n",
      "Requirement already satisfied: packaging>=20.0 in c:\\users\\administrator\\appdata\\local\\programs\\python\\python310\\lib\\site-packages (from matplotlib) (23.1)\n",
      "Requirement already satisfied: pyparsing>=2.2.1 in c:\\users\\administrator\\appdata\\local\\programs\\python\\python310\\lib\\site-packages (from matplotlib) (3.0.7)\n",
      "Requirement already satisfied: six>=1.5 in c:\\users\\administrator\\appdata\\local\\programs\\python\\python310\\lib\\site-packages (from python-dateutil>=2.7->matplotlib) (1.16.0)\n",
      "Note: you may need to restart the kernel to use updated packages.\n"
     ]
    },
    {
     "name": "stderr",
     "output_type": "stream",
     "text": [
      "\n",
      "[notice] A new release of pip is available: 23.0.1 -> 24.0\n",
      "[notice] To update, run: python.exe -m pip install --upgrade pip\n"
     ]
    }
   ],
   "source": [
    "pip install matplotlib"
   ]
  },
  {
   "cell_type": "code",
   "execution_count": 71,
   "metadata": {},
   "outputs": [
    {
     "data": {
      "image/png": "[encoded data removed]",
      "text/plain": [
       "<Figure size 432x288 with 1 Axes>"
      ]
     },
     "metadata": {
      "needs_background": "light"
     },
     "output_type": "display_data"
    }
   ],
   "source": [
    "from matplotlib import pyplot as plt\n",
    "#Creating the plot\n",
    "plt.plot([1,2,3],[4,5,6])\n",
    "#Printing the created plot\n",
    "plt.show()"
   ]
  },
  {
   "cell_type": "code",
   "execution_count": 90,
   "metadata": {},
   "outputs": [
    {
     "data": {
      "image/png": "[encoded data removed]",
      "text/plain": [
       "<Figure size 432x288 with 1 Axes>"
      ]
     },
     "metadata": {
      "needs_background": "light"
     },
     "output_type": "display_data"
    }
   ],
   "source": [
    "from matplotlib import pyplot as plt\n",
    "plt.bar([0.5,1.0,1.5,2.0],[10,30,60,90],\n",
    "label=\"Mango\",width=.5)\n",
    "plt.bar([0.5,1.0,1.5,2.0],[60,30,10,40],\n",
    "label=\"Apple\", color='r',width=.2)\n",
    "plt.legend()\n",
    "plt.xlabel('Season')\n",
    "plt.ylabel('Price')\n",
    "plt.title('Fruit Season')\n",
    "plt.show()"
   ]
  },
  {
   "cell_type": "code",
   "execution_count": 80,
   "metadata": {},
   "outputs": [
    {
     "data": {
      "image/png": "[encoded data removed]",
      "text/plain": [
       "<Figure size 432x288 with 1 Axes>"
      ]
     },
     "metadata": {
      "needs_background": "light"
     },
     "output_type": "display_data"
    }
   ],
   "source": [
    "from matplotlib import pyplot as plt\n",
    "price_season = [1,10,2,20,3,30,4,45,5,65,43,54,57,87,65,34,85,37,56,75,98,99,26,29,35,42,46,53,67,68]\n",
    "bins = [0,10,20,30,40,50,60,70,80,90,100]\n",
    "plt.hist(price_season, bins, histtype='bar', rwidth=0.7)\n",
    "plt.xlabel('price groups')\n",
    "plt.ylabel('price of fruits')\n",
    "plt.title('example histogram')\n",
    "plt.show()"
   ]
  },
  {
   "cell_type": "code",
   "execution_count": 81,
   "metadata": {},
   "outputs": [
    {
     "data": {
      "image/png": "[encoded data removed]",
      "text/plain": [
       "<Figure size 432x288 with 1 Axes>"
      ]
     },
     "metadata": {
      "needs_background": "light"
     },
     "output_type": "display_data"
    }
   ],
   "source": [
    "import matplotlib.pyplot as plt\n",
    "x = [2,1,3,4,2,5,4,3,6,2]\n",
    "y = [6,5,6.5,3,7,8.5,9,3.5,4.3,8.1]\n",
    "x1=[8,2.5,7,9.5,11,10.2,13]\n",
    "y1=[3,2.4,3.6,5,4.4,6,5.3]\n",
    "plt.scatter(x,y, label='example 1',color='g')\n",
    "plt.scatter(x1,y1,label='example2',color='b')\n",
    "plt.xlabel('example1')\n",
    "plt.ylabel('example2')\n",
    "plt.title('Scatter Plot')\n",
    "plt.legend()\n",
    "plt.show()"
   ]
  },
  {
   "cell_type": "code",
   "execution_count": 88,
   "metadata": {},
   "outputs": [
    {
     "data": {
      "image/png": "[encoded data removed]",
      "text/plain": [
       "<Figure size 432x288 with 1 Axes>"
      ]
     },
     "metadata": {},
     "output_type": "display_data"
    }
   ],
   "source": [
    "import matplotlib.pyplot as plt\n",
    "breakfast = [1,2,3,4,5]\n",
    "Fruits = [6,13,8,12,9]\n",
    "Cereal = [1,4,5,2,6]\n",
    "Meat =[6,10,8,4,3]\n",
    "Eggs = [3,7,2,6,12]\n",
    "slices = [6,3,4,12]\n",
    "breakast_options = ['Fruits','Cereal','Meat','Eggs']\n",
    "cols = ['c','m','r','b']\n",
    "plt.pie(slices,\n",
    "labels=breakast_options,\n",
    "colors=cols,\n",
    "startangle=90,\n",
    "shadow= True,\n",
    "explode=(0,0.1,0,0),\n",
    "autopct='%1.1f%%')\n",
    "plt.title('Breakfast Preferences')\n",
    "plt.show()"
   ]
  },
  {
   "cell_type": "code",
   "execution_count": null,
   "metadata": {},
   "outputs": [],
   "source": []
  }
 ],
 "metadata": {
  "colab": {
   "provenance": []
  },
  "kernelspec": {
   "display_name": "Python 3 (ipykernel)",
   "language": "python",
   "name": "python3"
  },
  "language_info": {
   "codemirror_mode": {
    "name": "ipython",
    "version": 3
   },
   "file_extension": ".py",
   "mimetype": "text/x-python",
   "name": "python",
   "nbconvert_exporter": "python",
   "pygments_lexer": "ipython3",
   "version": "3.10.10"
  }
 },
 "nbformat": 4,
 "nbformat_minor": 1
}
