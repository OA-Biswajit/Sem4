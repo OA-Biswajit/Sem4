{
 "cells": [
  {
   "cell_type": "code",
   "execution_count": 1,
   "id": "c2433aa0",
   "metadata": {},
   "outputs": [],
   "source": [
    "from sklearn.decomposition import PCA"
   ]
  },
  {
   "cell_type": "code",
   "execution_count": 2,
   "id": "0022a2fc",
   "metadata": {},
   "outputs": [],
   "source": [
    "import pandas as pd"
   ]
  },
  {
   "cell_type": "code",
   "execution_count": 3,
   "id": "2cb747be",
   "metadata": {},
   "outputs": [],
   "source": [
    "df = pd.read_csv('pca.csv')"
   ]
  },
  {
   "cell_type": "code",
   "execution_count": 4,
   "id": "15e2871b",
   "metadata": {},
   "outputs": [
    {
     "name": "stdout",
     "output_type": "stream",
     "text": [
      "    x   y\n",
      "0   4  11\n",
      "1   8   4\n",
      "2  13   5\n",
      "3   7  14\n"
     ]
    }
   ],
   "source": [
    "print(df)"
   ]
  },
  {
   "cell_type": "code",
   "execution_count": 5,
   "id": "57d60833",
   "metadata": {},
   "outputs": [
    {
     "data": {
      "text/html": [
       "<div>\n",
       "<style scoped>\n",
       "    .dataframe tbody tr th:only-of-type {\n",
       "        vertical-align: middle;\n",
       "    }\n",
       "\n",
       "    .dataframe tbody tr th {\n",
       "        vertical-align: top;\n",
       "    }\n",
       "\n",
       "    .dataframe thead th {\n",
       "        text-align: right;\n",
       "    }\n",
       "</style>\n",
       "<table border=\"1\" class=\"dataframe\">\n",
       "  <thead>\n",
       "    <tr style=\"text-align: right;\">\n",
       "      <th></th>\n",
       "      <th>x</th>\n",
       "      <th>y</th>\n",
       "    </tr>\n",
       "  </thead>\n",
       "  <tbody>\n",
       "    <tr>\n",
       "      <th>0</th>\n",
       "      <td>4</td>\n",
       "      <td>11</td>\n",
       "    </tr>\n",
       "    <tr>\n",
       "      <th>1</th>\n",
       "      <td>8</td>\n",
       "      <td>4</td>\n",
       "    </tr>\n",
       "    <tr>\n",
       "      <th>2</th>\n",
       "      <td>13</td>\n",
       "      <td>5</td>\n",
       "    </tr>\n",
       "    <tr>\n",
       "      <th>3</th>\n",
       "      <td>7</td>\n",
       "      <td>14</td>\n",
       "    </tr>\n",
       "  </tbody>\n",
       "</table>\n",
       "</div>"
      ],
      "text/plain": [
       "    x   y\n",
       "0   4  11\n",
       "1   8   4\n",
       "2  13   5\n",
       "3   7  14"
      ]
     },
     "execution_count": 5,
     "metadata": {},
     "output_type": "execute_result"
    }
   ],
   "source": [
    "df.tail()"
   ]
  },
  {
   "cell_type": "code",
   "execution_count": 33,
   "id": "8743ad0f",
   "metadata": {},
   "outputs": [],
   "source": [
    "#SVD - Singular Value Decomposition\n",
    "random_pca = PCA(n_components=2,svd_solver='randomized')"
   ]
  },
  {
   "cell_type": "code",
   "execution_count": 34,
   "id": "e5ec49db",
   "metadata": {},
   "outputs": [],
   "source": [
    "#Randomized PCA performs better when there are more number of dimensions\n",
    "rpca_model = random_pca.fit_transform(df)"
   ]
  },
  {
   "cell_type": "code",
   "execution_count": 35,
   "id": "16463174",
   "metadata": {},
   "outputs": [
    {
     "name": "stdout",
     "output_type": "stream",
     "text": [
      "[[-4.30518692  1.92752836]\n",
      " [ 3.73612869  2.50825486]\n",
      " [ 5.69282771 -2.20038921]\n",
      " [-5.12376947 -2.23539401]]\n"
     ]
    }
   ],
   "source": [
    "print(rpca_model)"
   ]
  },
  {
   "cell_type": "code",
   "execution_count": 36,
   "id": "e8a1420f",
   "metadata": {},
   "outputs": [],
   "source": [
    "# Comparing with a regular PCA\n",
    "pca = PCA(n_components=2)"
   ]
  },
  {
   "cell_type": "code",
   "execution_count": null,
   "id": "0f7b5ed5",
   "metadata": {},
   "outputs": [],
   "source": []
  },
  {
   "cell_type": "code",
   "execution_count": 37,
   "id": "5dbf7632",
   "metadata": {},
   "outputs": [],
   "source": [
    "# Fit-transform will transform the data to the model\n",
    "pca_model = pca.fit_transform(df)"
   ]
  },
  {
   "cell_type": "code",
   "execution_count": 38,
   "id": "c62e9a01",
   "metadata": {},
   "outputs": [
    {
     "name": "stdout",
     "output_type": "stream",
     "text": [
      "[[-4.30518692  1.92752836]\n",
      " [ 3.73612869  2.50825486]\n",
      " [ 5.69282771 -2.20038921]\n",
      " [-5.12376947 -2.23539401]]\n"
     ]
    }
   ],
   "source": [
    "# Printing the randomized and normal pca data\n",
    "print(pca_model)"
   ]
  },
  {
   "cell_type": "code",
   "execution_count": 39,
   "id": "54f7fc07",
   "metadata": {},
   "outputs": [],
   "source": [
    "list1 = pca_model"
   ]
  },
  {
   "cell_type": "code",
   "execution_count": 44,
   "id": "95b21bbc",
   "metadata": {},
   "outputs": [
    {
     "data": {
      "text/plain": [
       "array([[-4.30518692,  1.92752836],\n",
       "       [ 3.73612869,  2.50825486],\n",
       "       [ 5.69282771, -2.20038921],\n",
       "       [-5.12376947, -2.23539401]])"
      ]
     },
     "execution_count": 44,
     "metadata": {},
     "output_type": "execute_result"
    }
   ],
   "source": [
    "list1"
   ]
  },
  {
   "cell_type": "code",
   "execution_count": 47,
   "id": "fb1cbf81",
   "metadata": {},
   "outputs": [],
   "source": [
    "import numpy as np"
   ]
  },
  {
   "cell_type": "code",
   "execution_count": 54,
   "id": "b62d4e67",
   "metadata": {},
   "outputs": [
    {
     "data": {
      "text/plain": [
       "-4.305186922674705"
      ]
     },
     "execution_count": 54,
     "metadata": {},
     "output_type": "execute_result"
    }
   ],
   "source": [
    "list1[0,0]"
   ]
  },
  {
   "cell_type": "code",
   "execution_count": 60,
   "id": "b63c716c",
   "metadata": {},
   "outputs": [],
   "source": [
    "list2=[]\n",
    "for i in range(list1.shape[0]):\n",
    "    list2.append(list1[i,0])"
   ]
  },
  {
   "cell_type": "code",
   "execution_count": 61,
   "id": "faa10cd4",
   "metadata": {},
   "outputs": [
    {
     "data": {
      "text/plain": [
       "[-4.305186922674705, 3.7361286866113286, 5.692827710560993, -5.123769474497616]"
      ]
     },
     "execution_count": 61,
     "metadata": {},
     "output_type": "execute_result"
    }
   ],
   "source": [
    "list2"
   ]
  },
  {
   "cell_type": "code",
   "execution_count": 65,
   "id": "af73215e",
   "metadata": {},
   "outputs": [],
   "source": [
    "list3=[]\n",
    "for i in range(list1.shape[0]):\n",
    "    list3.append(list1[i,1])"
   ]
  },
  {
   "cell_type": "code",
   "execution_count": 66,
   "id": "5f009384",
   "metadata": {},
   "outputs": [
    {
     "data": {
      "text/plain": [
       "[1.927528355389536,\n",
       " 2.508254858876963,\n",
       " -2.2003892059971726,\n",
       " -2.2353940082693264]"
      ]
     },
     "execution_count": 66,
     "metadata": {},
     "output_type": "execute_result"
    }
   ],
   "source": [
    "list3"
   ]
  },
  {
   "cell_type": "code",
   "execution_count": 85,
   "id": "a6fc4d32",
   "metadata": {},
   "outputs": [
    {
     "data": {
      "image/png": "[encoded data removed]",
      "text/plain": [
       "<Figure size 432x288 with 1 Axes>"
      ]
     },
     "metadata": {
      "needs_background": "light"
     },
     "output_type": "display_data"
    }
   ],
   "source": [
    "import matplotlib.pyplot as plt\n",
    "\n",
    "x = [8,8.5574]  # X-coordinates\n",
    "y = [8.5,7.6697]  # Y-coordinates\n",
    "\n",
    "# Create a line graph\n",
    "plt.plot(x, y)\n",
    "plt.scatter([4,8,13,7],[11,4,5,14])\n",
    "plt.show()"
   ]
  },
  {
   "cell_type": "code",
   "execution_count": 96,
   "id": "127332de",
   "metadata": {},
   "outputs": [
    {
     "data": {
      "image/png": "[encoded data removed]",
      "text/plain": [
       "<Figure size 432x288 with 1 Axes>"
      ]
     },
     "metadata": {
      "needs_background": "light"
     },
     "output_type": "display_data"
    }
   ],
   "source": [
    "import matplotlib.pyplot as plt\n",
    "\n",
    "# Given coordinates\n",
    "x1 = [8, 8.5574]\n",
    "y1 = [8.5, 7.6697]\n",
    "\n",
    "# Calculate the slope\n",
    "slope1 = (y1[1] - y1[0]) / (x1[1] - x1[0])\n",
    "\n",
    "# Extend the line to the edges of the plot\n",
    "x_extended1 = [0, 15]  # Assuming x-axis limits are from 0 to 15\n",
    "y_extended1 = [y1[0] - slope1 * (x1[0] - x_extended1[0]), y1[0] + slope1 * (x_extended1[1] - x1[0])]\n",
    "\n",
    "# Create a line graph\n",
    "plt.plot(x_extended1, y_extended1,color='r',label='e1')\n",
    "plt.plot([8,8],[8.5,20],color='g')\n",
    "plt.plot([8,14],[8.5,8.5],color='g')\n",
    "plt.scatter([4, 8, 13, 7], [11, 4, 5, 14])\n",
    "plt.legend()\n",
    "plt.show()"
   ]
  },
  {
   "cell_type": "code",
   "execution_count": 95,
   "id": "1f515071",
   "metadata": {},
   "outputs": [
    {
     "data": {
      "image/png": "[encoded data removed]",
      "text/plain": [
       "<Figure size 432x288 with 1 Axes>"
      ]
     },
     "metadata": {
      "needs_background": "light"
     },
     "output_type": "display_data"
    }
   ],
   "source": [
    "import matplotlib.pyplot as plt\n",
    "\n",
    "# Given coordinates\n",
    "x = [8, 8.8303]\n",
    "y = [8.5, 9.0574]\n",
    "\n",
    "# Calculate the slope\n",
    "slope = (y[1] - y[0]) / (x[1] - x[0])\n",
    "\n",
    "# Extend the line to the edges of the plot\n",
    "x_extended = [0, 15]  # Assuming x-axis limits are from 0 to 15\n",
    "y_extended = [y[0] - slope * (x[0] - x_extended[0]), y[0] + slope * (x_extended[1] - x[0])]\n",
    "\n",
    "# Create a line graph\n",
    "plt.plot(x_extended, y_extended,color='r',label='e2')\n",
    "plt.plot([8,8],[8.5,20],color='g')\n",
    "plt.plot([8,14],[8.5,8.5],color='g')\n",
    "plt.scatter([4, 8, 13, 7], [11, 4, 5, 14])\n",
    "plt.legend()\n",
    "plt.show()"
   ]
  },
  {
   "cell_type": "code",
   "execution_count": 97,
   "id": "d490b6d9",
   "metadata": {},
   "outputs": [
    {
     "data": {
      "image/png": "[encoded data removed]",
      "text/plain": [
       "<Figure size 432x288 with 1 Axes>"
      ]
     },
     "metadata": {
      "needs_background": "light"
     },
     "output_type": "display_data"
    }
   ],
   "source": [
    "import matplotlib.pyplot as plt\n",
    "\n",
    "# Given coordinates\n",
    "x1 = [8, 8.5574]\n",
    "y1 = [8.5, 7.6697]\n",
    "\n",
    "# Calculate the slope\n",
    "slope1 = (y1[1] - y1[0]) / (x1[1] - x1[0])\n",
    "\n",
    "# Extend the line to the edges of the plot\n",
    "x_extended1 = [0, 15]  # Assuming x-axis limits are from 0 to 15\n",
    "y_extended1 = [y1[0] - slope1 * (x1[0] - x_extended1[0]), y1[0] + slope1 * (x_extended1[1] - x1[0])]\n",
    "\n",
    "# Create a line graph\n",
    "plt.plot(x_extended1, y_extended1,color='r',label='e1')\n",
    "plt.plot([8,8],[8.5,20],color='g')\n",
    "plt.plot([8,14],[8.5,8.5],color='g')\n",
    "plt.scatter([4, 8, 13, 7], [11, 4, 5, 14])\n",
    "\n",
    "\n",
    "x = [8, 8.8303]\n",
    "y = [8.5, 9.0574]\n",
    "\n",
    "# Calculate the slope\n",
    "slope = (y[1] - y[0]) / (x[1] - x[0])\n",
    "\n",
    "# Extend the line to the edges of the plot\n",
    "x_extended = [0, 15]  # Assuming x-axis limits are from 0 to 15\n",
    "y_extended = [y[0] - slope * (x[0] - x_extended[0]), y[0] + slope * (x_extended[1] - x[0])]\n",
    "\n",
    "# Create a line graph\n",
    "plt.plot(x_extended, y_extended,color='r',label='e2')\n",
    "plt.plot([8,8],[8.5,20],color='g')\n",
    "plt.plot([8,14],[8.5,8.5],color='g')\n",
    "\n",
    "plt.legend()\n",
    "plt.show()"
   ]
  },
  {
   "cell_type": "code",
   "execution_count": null,
   "id": "be6be69a",
   "metadata": {},
   "outputs": [],
   "source": []
  },
  {
   "cell_type": "code",
   "execution_count": 101,
   "id": "16b7ec22",
   "metadata": {},
   "outputs": [
    {
     "data": {
      "image/png": "[encoded data removed]",
      "text/plain": [
       "<Figure size 432x288 with 1 Axes>"
      ]
     },
     "metadata": {
      "needs_background": "light"
     },
     "output_type": "display_data"
    }
   ],
   "source": [
    "import matplotlib.pyplot as plt\n",
    "import numpy as np\n",
    "\n",
    "# Given coordinates\n",
    "x1 = [8, 8.5574]\n",
    "y1 = [8.5, 7.6697]\n",
    "\n",
    "# Calculate the slope of line e1\n",
    "slope1 = (y1[1] - y1[0]) / (x1[1] - x1[0])\n",
    "\n",
    "# Extend the line to the edges of the plot\n",
    "x_extended1 = [0, 15]  # Assuming x-axis limits are from 0 to 15\n",
    "y_extended1 = [y1[0] - slope1 * (x1[0] - x_extended1[0]), y1[0] + slope1 * (x_extended1[1] - x1[0])]\n",
    "\n",
    "# Scatter points\n",
    "scatter_points = [(4, 11), (8, 4), (13, 5), (7, 14)]\n",
    "\n",
    "# Plot the line e1\n",
    "plt.plot(x_extended1, y_extended1, color='r', label='e1')\n",
    "\n",
    "# Plot the scatter points\n",
    "for point in scatter_points:\n",
    "    plt.scatter(point[0], point[1], color='b')\n",
    "\n",
    "# Calculate and plot perpendicular lines\n",
    "for point in scatter_points:\n",
    "    x2, y2 = point\n",
    "    slope2 = -1 / slope1  # Slope of perpendicular line\n",
    "    intercept = y2 - slope2 * x2\n",
    "    x_perpendicular = np.linspace(0, 15, 100)\n",
    "    y_perpendicular = slope2 * x_perpendicular + intercept\n",
    "    plt.plot(x_perpendicular, y_perpendicular, '--', color='g')\n",
    "plt.plot([8,8],[8.5,20],color='b')\n",
    "plt.plot([8,14],[8.5,8.5],color='b')\n",
    "plt.legend()\n",
    "plt.show()\n"
   ]
  },
  {
   "cell_type": "code",
   "execution_count": null,
   "id": "cdf85d87",
   "metadata": {},
   "outputs": [],
   "source": [
    "plt.scatter([-4.305186922674705, 3.7361286866113286, 5.692827710560993, -5.123769474497616])"
   ]
  },
  {
   "cell_type": "code",
   "execution_count": 102,
   "id": "32e50c2d",
   "metadata": {},
   "outputs": [
    {
     "data": {
      "text/plain": [
       "[1.927528355389536,\n",
       " 2.508254858876963,\n",
       " -2.2003892059971726,\n",
       " -2.2353940082693264]"
      ]
     },
     "execution_count": 102,
     "metadata": {},
     "output_type": "execute_result"
    }
   ],
   "source": [
    "list3"
   ]
  },
  {
   "cell_type": "code",
   "execution_count": 106,
   "id": "8aadda5b",
   "metadata": {},
   "outputs": [],
   "source": [
    "from sklearn import datasets\n",
    "from sklearn.decomposition import PCA\n",
    "digits = datasets.load_digits()\n"
   ]
  },
  {
   "cell_type": "code",
   "execution_count": 1,
   "id": "77596b06",
   "metadata": {},
   "outputs": [
    {
     "ename": "NameError",
     "evalue": "name 'digits' is not defined",
     "output_type": "error",
     "traceback": [
      "\u001b[1;31m---------------------------------------------------------------------------\u001b[0m",
      "\u001b[1;31mNameError\u001b[0m                                 Traceback (most recent call last)",
      "Input \u001b[1;32mIn [1]\u001b[0m, in \u001b[0;36m<cell line: 1>\u001b[1;34m()\u001b[0m\n\u001b[1;32m----> 1\u001b[0m \u001b[38;5;28mtype\u001b[39m(\u001b[43mdigits\u001b[49m)\n",
      "\u001b[1;31mNameError\u001b[0m: name 'digits' is not defined"
     ]
    }
   ],
   "source": [
    "digits"
   ]
  },
  {
   "cell_type": "code",
   "execution_count": null,
   "id": "f485b3ca",
   "metadata": {},
   "outputs": [],
   "source": [
    "random_pca = PCA(n_components=2,svd_solver='randomized')\n",
    "#Randomized PCA performs better when there are more number ofdimensions\n",
    "rpca_model = random_pca.fit_transform(digits.data)\n",
    "# Comparing with a regular PCA\n",
    "pca = PCA(n_components=2)\n",
    "# Fit-transform will transform the data to the model\n",
    "pca_model = pca.fit_transform(digits.data)\n",
    "# Printing the randomized and normal pca data\n",
    "print(rpca_model)\n",
    "print(pca_model)"
   ]
  }
 ],
 "metadata": {
  "kernelspec": {
   "display_name": "Python 3 (ipykernel)",
   "language": "python",
   "name": "python3"
  },
  "language_info": {
   "codemirror_mode": {
    "name": "ipython",
    "version": 3
   },
   "file_extension": ".py",
   "mimetype": "text/x-python",
   "name": "python",
   "nbconvert_exporter": "python",
   "pygments_lexer": "ipython3",
   "version": "3.10.10"
  }
 },
 "nbformat": 4,
 "nbformat_minor": 5
}
