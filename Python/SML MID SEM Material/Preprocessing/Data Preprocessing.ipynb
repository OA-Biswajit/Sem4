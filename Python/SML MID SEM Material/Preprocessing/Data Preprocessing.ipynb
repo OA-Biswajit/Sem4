{
 "cells": [
  {
   "cell_type": "markdown",
   "id": "f93547fe",
   "metadata": {},
   "source": [
    "<h1>Label Binarizer</h1>"
   ]
  },
  {
   "cell_type": "code",
   "execution_count": 23,
   "id": "7a655057",
   "metadata": {},
   "outputs": [],
   "source": [
    "from sklearn.preprocessing import LabelBinarizer"
   ]
  },
  {
   "cell_type": "code",
   "execution_count": 5,
   "id": "3a1bc17a",
   "metadata": {},
   "outputs": [],
   "source": [
    "from sklearn.preprocessing import LabelBinarizer\n",
    "lb = LabelBinarizer()\n",
    "ll=lb.fit_transform([1, 2, 3, 1, 1])"
   ]
  },
  {
   "cell_type": "code",
   "execution_count": 6,
   "id": "65646173",
   "metadata": {},
   "outputs": [
    {
     "name": "stdout",
     "output_type": "stream",
     "text": [
      "[[1 0 0]\n",
      " [0 1 0]\n",
      " [0 0 1]\n",
      " [1 0 0]\n",
      " [1 0 0]]\n"
     ]
    }
   ],
   "source": [
    "print(ll)"
   ]
  },
  {
   "cell_type": "code",
   "execution_count": 26,
   "id": "544a2534",
   "metadata": {},
   "outputs": [
    {
     "data": {
      "text/plain": [
       "array([[0, 0, 0, 1],\n",
       "       [0, 0, 1, 0],\n",
       "       [1, 0, 0, 0],\n",
       "       [0, 1, 0, 0]])"
      ]
     },
     "execution_count": 26,
     "metadata": {},
     "output_type": "execute_result"
    }
   ],
   "source": [
    "label = LabelBinarizer().fit_transform(label)\n",
    "label"
   ]
  },
  {
   "cell_type": "code",
   "execution_count": 27,
   "id": "9c2b47ea",
   "metadata": {},
   "outputs": [
    {
     "name": "stdout",
     "output_type": "stream",
     "text": [
      "[[0 0 0 1]\n",
      " [0 0 1 0]\n",
      " [1 0 0 0]\n",
      " [0 1 0 0]]\n"
     ]
    }
   ],
   "source": [
    "print(label)"
   ]
  },
  {
   "cell_type": "markdown",
   "id": "3de8d912",
   "metadata": {},
   "source": [
    "<h1>Label Encoder</h1>"
   ]
  },
  {
   "cell_type": "code",
   "execution_count": 29,
   "id": "ed35614b",
   "metadata": {},
   "outputs": [
    {
     "name": "stdout",
     "output_type": "stream",
     "text": [
      "[3 0 2 1]\n",
      "[1 0 1 0]\n"
     ]
    }
   ],
   "source": [
    "from sklearn.preprocessing import LabelEncoder\n",
    "#Define some data with labels\n",
    "data = ['shiva','agarwal','calculator','bed']\n",
    "label = ['T','F','T','F']\n",
    "encode=LabelEncoder()\n",
    "data_e=encode.fit_transform(data)\n",
    "label_e=encode.fit_transform(label)\n",
    "print(data_e)\n",
    "print(label_e)"
   ]
  },
  {
   "cell_type": "code",
   "execution_count": null,
   "id": "791e1a2f",
   "metadata": {},
   "outputs": [],
   "source": []
  }
 ],
 "metadata": {
  "kernelspec": {
   "display_name": "Python 3 (ipykernel)",
   "language": "python",
   "name": "python3"
  },
  "language_info": {
   "codemirror_mode": {
    "name": "ipython",
    "version": 3
   },
   "file_extension": ".py",
   "mimetype": "text/x-python",
   "name": "python",
   "nbconvert_exporter": "python",
   "pygments_lexer": "ipython3",
   "version": "3.10.10"
  }
 },
 "nbformat": 4,
 "nbformat_minor": 5
}
