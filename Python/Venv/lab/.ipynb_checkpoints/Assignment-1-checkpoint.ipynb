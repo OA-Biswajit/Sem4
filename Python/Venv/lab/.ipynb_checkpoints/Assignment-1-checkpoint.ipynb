{
 "cells": [
  {
   "cell_type": "markdown",
   "id": "6bf34323-169e-4040-9f25-85009d31b0be",
   "metadata": {},
   "source": [
    "# Question4"
   ]
  },
  {
   "cell_type": "code",
   "execution_count": 7,
   "id": "689392f5-296b-4b0e-8933-91c2a323ca67",
   "metadata": {},
   "outputs": [
    {
     "name": "stdout",
     "output_type": "stream",
     "text": [
      "Sum of all elements in the list: 15\n"
     ]
    }
   ],
   "source": [
    "def sum(lst):\n",
    "    total = 0\n",
    "    for num in lst:\n",
    "        total += num\n",
    "    return total\n",
    "\n",
    "m = [1, 2, 3, 4, 5]\n",
    "print(\"Sum of all elements in the list:\", sum(m))"
   ]
  },
  {
   "cell_type": "markdown",
   "id": "f2190141-fc00-4b28-9718-a27797965ead",
   "metadata": {},
   "source": [
    "# Question 5"
   ]
  },
  {
   "cell_type": "code",
   "execution_count": 8,
   "id": "89e70965-ec24-4654-a8f7-6a128f9badb0",
   "metadata": {},
   "outputs": [
    {
     "name": "stdout",
     "output_type": "stream",
     "text": [
      "The gcd of 60 and 48 is : \n",
      "12\n"
     ]
    }
   ],
   "source": [
    "def hcf(a, b):\n",
    "    if(b == 0):\n",
    "        return a\n",
    "    else:\n",
    "        return hcf(b, a % b)\n",
    " \n",
    "a = 60\n",
    "b = 48\n",
    " \n",
    "# prints 12\n",
    "print(\"The gcd of 60 and 48 is : \")\n",
    "print(hcf(60, 48))\n"
   ]
  },
  {
   "cell_type": "markdown",
   "id": "0a1c01d9-35c3-430b-b64f-e496a700825a",
   "metadata": {},
   "source": [
    "# Question 6"
   ]
  },
  {
   "cell_type": "code",
   "execution_count": null,
   "id": "f8b5d557-3bc8-42dc-9a0b-91ebd5e5f5e6",
   "metadata": {},
   "outputs": [],
   "source": [
    "def maximum(num1, num2, num3):\r\n",
    "    max=0.0\r\n",
    "    if(num1>num2):\r\n",
    "        if(num1>num3):\r\n",
    "            max=num1\r\n",
    "        else:\r\n",
    "            max=num3\r\n",
    "    else:\r\n",
    "        if(num2>num3):\r\n",
    "            max=num2\r\n",
    "        else:\r\n",
    "            max=num3\r\n",
    "    \r\n",
    "    return max\r\n",
    "\r\n",
    "# Example usage:\r\n",
    "number1 = float(input(\"Enter the first number: \"))\r\n",
    "number2 = float(input(\"Enter the second number: \"))\r\n",
    "number3 = float(input(\"Enter the third number: \"))\r\n",
    "\r\n",
    "max1 = maximum(number1, number2, number3)\r\n",
    "print(\"The maximum of the thre numbers is:\", max1)\r\n"
   ]
  },
  {
   "cell_type": "markdown",
   "id": "2a20327c-8fdd-43f0-bfd0-0809d31bf1a3",
   "metadata": {},
   "source": [
    "# Question 7"
   ]
  },
  {
   "cell_type": "code",
   "execution_count": null,
   "id": "f7a31632-7073-4ef6-b7f8-f6ebacff23f7",
   "metadata": {},
   "outputs": [],
   "source": [
    "a=[11,2,3,4,5]\n",
    "max=a[0]\n",
    "for i in range(len(a)):\n",
    "    if(max<a[i]):\n",
    "        max=a[i]\n",
    "print(max) \n"
   ]
  },
  {
   "cell_type": "markdown",
   "id": "719db3c7-4d2a-41d9-83c3-a191cef87ea5",
   "metadata": {},
   "source": [
    "# Question 8"
   ]
  },
  {
   "cell_type": "code",
   "execution_count": null,
   "id": "682dbc54-4e8e-4c1c-b6e7-5dad37a05dea",
   "metadata": {},
   "outputs": [],
   "source": [
    "num=int(input('enter the number'))\n",
    "sum=0\n",
    "while(num!=0):\n",
    "    sum=sum + int(num%10)\n",
    "    num=int(num/10)\n",
    "if(sum%9==0):\n",
    "    print('numer is divisible')\n",
    "else:\n",
    "    print('numer is not divisible') \n"
   ]
  },
  {
   "cell_type": "markdown",
   "id": "640f7069-3fed-4c2c-840b-95283ef95288",
   "metadata": {},
   "source": [
    "# Question 9"
   ]
  },
  {
   "cell_type": "code",
   "execution_count": null,
   "id": "5cad555a-2799-42cc-b132-85c8d1d11c79",
   "metadata": {},
   "outputs": [],
   "source": [
    "num=int(input('enter the number'))\n",
    "sum=0\n",
    "while(num<1000):\n",
    "    sum=sum + int(num%10)\n",
    "    num=int(num/10)\n",
    "print(sum) \n"
   ]
  },
  {
   "cell_type": "markdown",
   "id": "317a8017-baa8-40a0-8a9a-20fc62c89fa6",
   "metadata": {},
   "source": [
    "# Question 10"
   ]
  },
  {
   "cell_type": "code",
   "execution_count": null,
   "id": "fe409de9-4e9e-4bce-9cf4-0f6858e04150",
   "metadata": {},
   "outputs": [],
   "source": [
    "def is_prime(n):\n",
    "    if n <= 1:\n",
    "        return False\n",
    "    elif n <= 3:\n",
    "        return True\n",
    "    elif n % 2 == 0 or n % 3 == 0:\n",
    "        return False\n",
    "    i = 5\n",
    "    while i * i <= n:\n",
    "        if n % i == 0 or n % (i + 2) == 0:\n",
    "            return False\n",
    "        i += 6\n",
    "    return True\n",
    "\n",
    "def display_prime_numbers(start, end):\n",
    "    print(\"Prime numbers between\", start, \"and\", end, \"are:\")\n",
    "    for num in range(start, end + 1):\n",
    "        if is_prime(num):\n",
    "            print(num, end=\" \")\n",
    "\n",
    "# Taking input from the user\n",
    "first_number = int(input(\"Enter the first number: \"))\n",
    "second_number = int(input(\"Enter the second number: \"))\n",
    "\n",
    "# Displaying prime numbers between the given range\n",
    "display_prime_numbers(first_number, second_number)"
   ]
  }
 ],
 "metadata": {
  "kernelspec": {
   "display_name": "Python 3 (ipykernel)",
   "language": "python",
   "name": "python3"
  },
  "language_info": {
   "codemirror_mode": {
    "name": "ipython",
    "version": 3
   },
   "file_extension": ".py",
   "mimetype": "text/x-python",
   "name": "python",
   "nbconvert_exporter": "python",
   "pygments_lexer": "ipython3",
   "version": "3.11.4"
  }
 },
 "nbformat": 4,
 "nbformat_minor": 5
}
