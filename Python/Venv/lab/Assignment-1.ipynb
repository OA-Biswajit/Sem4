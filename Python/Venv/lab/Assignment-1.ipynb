{
 "cells": [
  {
   "cell_type": "markdown",
   "id": "6bf34323-169e-4040-9f25-85009d31b0be",
   "metadata": {},
   "source": [
    "# Question4"
   ]
  },
  {
   "cell_type": "code",
   "execution_count": 1,
   "id": "689392f5-296b-4b0e-8933-91c2a323ca67",
   "metadata": {},
   "outputs": [
    {
     "name": "stdout",
     "output_type": "stream",
     "text": [
      "Sum of all elements in the list: 15\n"
     ]
    }
   ],
   "source": [
    "def sum(lst):\n",
    "    total = 0\n",
    "    for num in lst:\n",
    "        total += num\n",
    "    return total\n",
    "\n",
    "m = [1, 2, 3, 4, 5]\n",
    "print(\"Sum of all elements in the list:\", sum(m))"
   ]
  },
  {
   "cell_type": "markdown",
   "id": "f2190141-fc00-4b28-9718-a27797965ead",
   "metadata": {},
   "source": [
    "# Question 5"
   ]
  },
  {
   "cell_type": "code",
   "execution_count": 2,
   "id": "89e70965-ec24-4654-a8f7-6a128f9badb0",
   "metadata": {},
   "outputs": [
    {
     "name": "stdout",
     "output_type": "stream",
     "text": [
      "The gcd of 60 and 48 is : \n",
      "12\n"
     ]
    }
   ],
   "source": [
    "def hcf(a, b):\n",
    "    if(b == 0):\n",
    "        return a\n",
    "    else:\n",
    "        return hcf(b, a % b)\n",
    " \n",
    "a = 60\n",
    "b = 48\n",
    " \n",
    "# prints 12\n",
    "print(\"The gcd of 60 and 48 is : \")\n",
    "print(hcf(60, 48))\n"
   ]
  },
  {
   "cell_type": "markdown",
   "id": "0a1c01d9-35c3-430b-b64f-e496a700825a",
   "metadata": {},
   "source": [
    "# Question 6"
   ]
  },
  {
   "cell_type": "code",
   "execution_count": 3,
   "id": "f8b5d557-3bc8-42dc-9a0b-91ebd5e5f5e6",
   "metadata": {},
   "outputs": [
    {
     "name": "stdin",
     "output_type": "stream",
     "text": [
      "Enter the first number:  10\n",
      "Enter the second number:  20\n",
      "Enter the third number:  30\n"
     ]
    },
    {
     "name": "stdout",
     "output_type": "stream",
     "text": [
      "The maximum of the thre numbers is: 30.0\n"
     ]
    }
   ],
   "source": [
    "def maximum(num1, num2, num3):\r\n",
    "    max=0.0\r\n",
    "    if(num1>num2):\r\n",
    "        if(num1>num3):\r\n",
    "            max=num1\r\n",
    "        else:\r\n",
    "            max=num3\r\n",
    "    else:\r\n",
    "        if(num2>num3):\r\n",
    "            max=num2\r\n",
    "        else:\r\n",
    "            max=num3\r\n",
    "    \r\n",
    "    return max\r\n",
    "\r\n",
    "# Example usage:\r\n",
    "number1 = float(input(\"Enter the first number: \"))\r\n",
    "number2 = float(input(\"Enter the second number: \"))\r\n",
    "number3 = float(input(\"Enter the third number: \"))\r\n",
    "\r\n",
    "max1 = maximum(number1, number2, number3)\r\n",
    "print(\"The maximum of the thre numbers is:\", max1)\r\n"
   ]
  },
  {
   "cell_type": "code",
   "execution_count": 1,
   "id": "d1a1b773-c739-4606-a0a7-c6f7fb8b49d4",
   "metadata": {},
   "outputs": [
    {
     "name": "stdin",
     "output_type": "stream",
     "text": [
      "Enter the first number:  10\n",
      "Enter the second number:  20\n",
      "Enter the third number:  30\n"
     ]
    },
    {
     "name": "stdout",
     "output_type": "stream",
     "text": [
      "The maximum of the three numbers is: 30.0\n"
     ]
    }
   ],
   "source": [
    "# Code with nested function:\n",
    "def find_maximum_of_three(num1, num2, num3):\n",
    "    #nested functions \n",
    "    def find_maximum(x, y):\n",
    "        return x if x > y else y\n",
    "\n",
    "    max_of_first_two = find_maximum(num1, num2)\n",
    "    overall_max = find_maximum(max_of_first_two, num3)\n",
    "    return overall_max\n",
    "\n",
    "# Example usage:\n",
    "number1 = float(input(\"Enter the first number: \"))\n",
    "number2 = float(input(\"Enter the second number: \"))\n",
    "number3 = float(input(\"Enter the third number: \"))\n",
    "\n",
    "maximum = find_maximum_of_three(number1, number2, number3)\n",
    "print(\"The maximum of the three numbers is:\", maximum)\n"
   ]
  },
  {
   "cell_type": "markdown",
   "id": "2a20327c-8fdd-43f0-bfd0-0809d31bf1a3",
   "metadata": {},
   "source": [
    "# Question 7"
   ]
  },
  {
   "cell_type": "code",
   "execution_count": 4,
   "id": "f7a31632-7073-4ef6-b7f8-f6ebacff23f7",
   "metadata": {},
   "outputs": [
    {
     "name": "stdout",
     "output_type": "stream",
     "text": [
      "11\n"
     ]
    }
   ],
   "source": [
    "a=[11,2,3,4,5]\n",
    "max=a[0]\n",
    "for i in range(len(a)):\n",
    "    if(max<a[i]):\n",
    "        max=a[i]\n",
    "print(max) \n"
   ]
  },
  {
   "cell_type": "markdown",
   "id": "719db3c7-4d2a-41d9-83c3-a191cef87ea5",
   "metadata": {},
   "source": [
    "# Question 8"
   ]
  },
  {
   "cell_type": "code",
   "execution_count": 5,
   "id": "682dbc54-4e8e-4c1c-b6e7-5dad37a05dea",
   "metadata": {},
   "outputs": [
    {
     "name": "stdin",
     "output_type": "stream",
     "text": [
      "enter the number 900000\n"
     ]
    },
    {
     "name": "stdout",
     "output_type": "stream",
     "text": [
      "numer is divisible\n"
     ]
    }
   ],
   "source": [
    "num=int(input('enter the number'))\n",
    "sum=0\n",
    "while(num!=0):\n",
    "    sum=sum + int(num%10)\n",
    "    num=int(num/10)\n",
    "if(sum%9==0):\n",
    "    print('numer is divisible')\n",
    "else:\n",
    "    print('numer is not divisible') \n"
   ]
  },
  {
   "cell_type": "markdown",
   "id": "640f7069-3fed-4c2c-840b-95283ef95288",
   "metadata": {},
   "source": [
    "# Question 9"
   ]
  },
  {
   "cell_type": "code",
   "execution_count": 1,
   "id": "9700c988-88f6-49fe-ad49-17670065215b",
   "metadata": {},
   "outputs": [
    {
     "name": "stdin",
     "output_type": "stream",
     "text": [
      "enter the number 749\n"
     ]
    },
    {
     "name": "stdout",
     "output_type": "stream",
     "text": [
      "20\n"
     ]
    }
   ],
   "source": [
    "num=int(input('enter the number'))\n",
    "sum=0\n",
    "while(num!=0):\n",
    "    sum=sum + int(num%10)\n",
    "    num=int(num/10)\n",
    "print(sum)"
   ]
  },
  {
   "cell_type": "markdown",
   "id": "317a8017-baa8-40a0-8a9a-20fc62c89fa6",
   "metadata": {},
   "source": [
    "# Question 10"
   ]
  },
  {
   "cell_type": "code",
   "execution_count": 2,
   "id": "fe409de9-4e9e-4bce-9cf4-0f6858e04150",
   "metadata": {},
   "outputs": [
    {
     "name": "stdin",
     "output_type": "stream",
     "text": [
      "Enter the first number:  5 \n",
      "Enter the second number:  15\n"
     ]
    },
    {
     "name": "stdout",
     "output_type": "stream",
     "text": [
      "Prime numbers between 5 and 15 are:\n",
      "5 7 11 13 "
     ]
    }
   ],
   "source": [
    "def is_prime(n):\n",
    "    if n <= 1:\n",
    "        return False\n",
    "    elif n <= 3:\n",
    "        return True\n",
    "    elif n % 2 == 0 or n % 3 == 0:\n",
    "        return False\n",
    "    i = 5\n",
    "    while i * i <= n:\n",
    "        if n % i == 0 or n % (i + 2) == 0:\n",
    "            return False\n",
    "        i += 6\n",
    "    return True\n",
    "\n",
    "def display_prime_numbers(start, end):\n",
    "    print(\"Prime numbers between\", start, \"and\", end, \"are:\")\n",
    "    for num in range(start, end + 1):\n",
    "        if is_prime(num):\n",
    "            print(num, end=\" \")\n",
    "\n",
    "# Taking input from the user\n",
    "first_number = int(input(\"Enter the first number: \"))\n",
    "second_number = int(input(\"Enter the second number: \"))\n",
    "\n",
    "# Displaying prime numbers between the given range\n",
    "display_prime_numbers(first_number, second_number)"
   ]
  },
  {
   "cell_type": "markdown",
   "id": "ca4a2468-2c9b-4652-9920-412c84346464",
   "metadata": {},
   "source": [
    "# Lab Assignment to be done by students:"
   ]
  },
  {
   "cell_type": "markdown",
   "id": "78bcc081-4dfe-4248-98e5-37a7a523b534",
   "metadata": {},
   "source": [
    "Question 1:\r\n",
    "Write a Python program that takes a point's x – y coordinates in the Cartesian plane and prints a message telling either an axis on which the point lies or the quadrant in which it is found\r",
    "\r\n",
    " Here is the sample outpu: \r\n",
    "\r\n",
    "(-1.0, -2.5) is in quadrantIII \r\n",
    "\r\n",
    "(0.0, 4.8) is on the -axis.\r\n"
   ]
  },
  {
   "cell_type": "code",
   "execution_count": 9,
   "id": "9e9dcdc2-4721-41d3-98c8-c385d6e9a811",
   "metadata": {},
   "outputs": [
    {
     "name": "stdin",
     "output_type": "stream",
     "text": [
      "Enter the x coordinate 6\n",
      "Enter the y coordinate 6\n"
     ]
    },
    {
     "name": "stdout",
     "output_type": "stream",
     "text": [
      "( 6.0 , 6.0 )is in Quadrant I\n"
     ]
    }
   ],
   "source": [
    "def identify_position(x, y):\n",
    "    if x > 0 and y > 0:\n",
    "        return \"Quadrant I\"\n",
    "    elif x < 0 and y > 0:\n",
    "        return \"Quadrant II\"\n",
    "    elif x < 0 and y < 0:\n",
    "        return \"Quadrant III\"\n",
    "    elif x > 0 and y < 0:\n",
    "        return \"Quadrant IV\"\n",
    "    elif x == 0 and y != 0:\n",
    "        return \"y-axis\"\n",
    "    elif y == 0 and x != 0:\n",
    "        return \"x-axis\"\n",
    "    else:\n",
    "        return \"Origin\"\n",
    "     \n",
    "     \n",
    "x= float(input(\"Enter the x coordinate\"))\n",
    "y= float(input(\"Enter the y coordinate\"))\n",
    "print(\"(\",x , \",\", y,\")\" \"is in\",identify_position(x,y))"
   ]
  },
  {
   "cell_type": "markdown",
   "id": "ccc5311f-0094-4560-b0d2-637f6e267378",
   "metadata": {},
   "source": [
    "# Question 2"
   ]
  },
  {
   "cell_type": "code",
   "execution_count": 7,
   "id": "f05a4066-b24f-46d0-aa58-bbffe305d129",
   "metadata": {},
   "outputs": [
    {
     "name": "stdin",
     "output_type": "stream",
     "text": [
      "Enter the Number 6\n"
     ]
    },
    {
     "name": "stdout",
     "output_type": "stream",
     "text": [
      "It is a Perfect Number\n"
     ]
    }
   ],
   "source": [
    "num = int(input(\"Enter the Number\"))\n",
    "\n",
    "def checkPerfect(num):\n",
    "    sum = 0\n",
    "    for i in range(1, num-1 , 1):\n",
    "        if(num % i == 0):\n",
    "             sum += i\n",
    "           \n",
    "    if(num == sum):\n",
    "        return \"It is a Perfect Number\"\n",
    "    else:\n",
    "        return \"Not a Perect Number\"\n",
    "\n",
    "print(checkPerfect(num))"
   ]
  },
  {
   "cell_type": "code",
   "execution_count": null,
   "id": "2b98304b-82c3-480a-9c12-e5f42e4eb7fd",
   "metadata": {},
   "outputs": [],
   "source": [
    "# Question3"
   ]
  },
  {
   "cell_type": "code",
   "execution_count": 10,
   "id": "f69e64b6-57f1-488f-8104-99fe6b509e60",
   "metadata": {},
   "outputs": [
    {
     "name": "stdin",
     "output_type": "stream",
     "text": [
      "Enter the  Number 8\n"
     ]
    },
    {
     "name": "stdout",
     "output_type": "stream",
     "text": [
      "0 1 1 2 3 5 8 13 None\n"
     ]
    }
   ],
   "source": [
    "num = int(input(\"Enter the  Number\"))\n",
    "def printFibonacci(num):\n",
    "    a, b = 0, 1\n",
    "    for i in range(num):\n",
    "        print(a, end=' ')\n",
    "        a, b = b, a + b\n",
    "print(printFibonacci(num))      "
   ]
  },
  {
   "cell_type": "code",
   "execution_count": null,
   "id": "37e467d1-7caa-438e-b41f-392c0d00ea75",
   "metadata": {},
   "outputs": [],
   "source": [
    "# Question4"
   ]
  },
  {
   "cell_type": "code",
   "execution_count": 13,
   "id": "4eab8cad-1bf1-40ce-a55b-2c8afb3ccb9b",
   "metadata": {},
   "outputs": [
    {
     "name": "stdout",
     "output_type": "stream",
     "text": [
      "Yes\n"
     ]
    }
   ],
   "source": [
    "def isPalindrome(s):\n",
    "    return s == s[::-1]\n",
    "s = \"malayalam\"\n",
    "ans = isPalindrome(s)\n",
    " \n",
    "if ans:\n",
    "    print(\"Yes\")\n",
    "else:\n",
    "    print(\"No\")"
   ]
  }
 ],
 "metadata": {
  "kernelspec": {
   "display_name": "Python 3 (ipykernel)",
   "language": "python",
   "name": "python3"
  },
  "language_info": {
   "codemirror_mode": {
    "name": "ipython",
    "version": 3
   },
   "file_extension": ".py",
   "mimetype": "text/x-python",
   "name": "python",
   "nbconvert_exporter": "python",
   "pygments_lexer": "ipython3",
   "version": "3.11.4"
  }
 },
 "nbformat": 4,
 "nbformat_minor": 5
}
