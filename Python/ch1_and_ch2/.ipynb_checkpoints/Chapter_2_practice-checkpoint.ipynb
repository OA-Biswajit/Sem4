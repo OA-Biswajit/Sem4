{
 "cells": [
  {
   "cell_type": "code",
   "execution_count": 1,
   "id": "3f79b1cf",
   "metadata": {},
   "outputs": [],
   "source": [
    "#pandas Installation\n",
    "#data frame is just and row and column "
   ]
  },
  {
   "cell_type": "code",
   "execution_count": 2,
   "id": "058b9bf4",
   "metadata": {},
   "outputs": [],
   "source": [
    "# pip install pandas"
   ]
  },
  {
   "cell_type": "code",
   "execution_count": 3,
   "id": "edea9313",
   "metadata": {},
   "outputs": [
    {
     "data": {
      "text/plain": [
       "{'brand': ['Ford', 'tata', 'mahindra'],\n",
       " 'model': ['Mustang', 'nexon', 'scorpioa'],\n",
       " 'year': [1964, 2010, 2009]}"
      ]
     },
     "execution_count": 3,
     "metadata": {},
     "output_type": "execute_result"
    }
   ],
   "source": [
    "#import pandas \n",
    "import pandas as pd\n",
    "\n",
    "# Create a Data Frame using pandas for the following dictionary\n",
    "\n",
    "thisdict = {\n",
    "  \"brand\": [\"Ford\",\"tata\",\"mahindra\"],\n",
    "  \"model\": [\"Mustang\",\"nexon\", \"scorpioa\"],\n",
    "  \"year\": [1964,2010,2009]\n",
    "}\n",
    "thisdict"
   ]
  },
  {
   "cell_type": "code",
   "execution_count": 4,
   "id": "d5268d83",
   "metadata": {},
   "outputs": [],
   "source": [
    "df=pd.DataFrame(thisdict)"
   ]
  },
  {
   "cell_type": "code",
   "execution_count": 5,
   "id": "f0f0372a",
   "metadata": {},
   "outputs": [
    {
     "data": {
      "text/html": [
       "<div>\n",
       "<style scoped>\n",
       "    .dataframe tbody tr th:only-of-type {\n",
       "        vertical-align: middle;\n",
       "    }\n",
       "\n",
       "    .dataframe tbody tr th {\n",
       "        vertical-align: top;\n",
       "    }\n",
       "\n",
       "    .dataframe thead th {\n",
       "        text-align: right;\n",
       "    }\n",
       "</style>\n",
       "<table border=\"1\" class=\"dataframe\">\n",
       "  <thead>\n",
       "    <tr style=\"text-align: right;\">\n",
       "      <th></th>\n",
       "      <th>brand</th>\n",
       "      <th>model</th>\n",
       "      <th>year</th>\n",
       "    </tr>\n",
       "  </thead>\n",
       "  <tbody>\n",
       "    <tr>\n",
       "      <th>0</th>\n",
       "      <td>Ford</td>\n",
       "      <td>Mustang</td>\n",
       "      <td>1964</td>\n",
       "    </tr>\n",
       "    <tr>\n",
       "      <th>1</th>\n",
       "      <td>tata</td>\n",
       "      <td>nexon</td>\n",
       "      <td>2010</td>\n",
       "    </tr>\n",
       "    <tr>\n",
       "      <th>2</th>\n",
       "      <td>mahindra</td>\n",
       "      <td>scorpioa</td>\n",
       "      <td>2009</td>\n",
       "    </tr>\n",
       "  </tbody>\n",
       "</table>\n",
       "</div>"
      ],
      "text/plain": [
       "      brand     model  year\n",
       "0      Ford   Mustang  1964\n",
       "1      tata     nexon  2010\n",
       "2  mahindra  scorpioa  2009"
      ]
     },
     "execution_count": 5,
     "metadata": {},
     "output_type": "execute_result"
    }
   ],
   "source": [
    "df"
   ]
  },
  {
   "cell_type": "code",
   "execution_count": 6,
   "id": "91d0f8d6",
   "metadata": {},
   "outputs": [],
   "source": [
    "df.index=['m1','m2','m3']"
   ]
  },
  {
   "cell_type": "code",
   "execution_count": 7,
   "id": "d4b68027",
   "metadata": {},
   "outputs": [
    {
     "name": "stdout",
     "output_type": "stream",
     "text": [
      "       brand     model  year\n",
      "m1      Ford   Mustang  1964\n",
      "m2      tata     nexon  2010\n",
      "m3  mahindra  scorpioa  2009\n"
     ]
    }
   ],
   "source": [
    "print(df)"
   ]
  },
  {
   "cell_type": "code",
   "execution_count": 8,
   "id": "7d7aa931",
   "metadata": {},
   "outputs": [],
   "source": [
    "#csv file \n",
    "df.to_csv(\"data.csv\")"
   ]
  },
  {
   "cell_type": "code",
   "execution_count": 9,
   "id": "df3f49e0",
   "metadata": {},
   "outputs": [],
   "source": [
    "#insert evement in a row\n",
    "df.loc[len(df.index)]=['shiva','f1', 2023]"
   ]
  },
  {
   "cell_type": "code",
   "execution_count": 10,
   "id": "2baa869b",
   "metadata": {},
   "outputs": [
    {
     "data": {
      "text/html": [
       "<div>\n",
       "<style scoped>\n",
       "    .dataframe tbody tr th:only-of-type {\n",
       "        vertical-align: middle;\n",
       "    }\n",
       "\n",
       "    .dataframe tbody tr th {\n",
       "        vertical-align: top;\n",
       "    }\n",
       "\n",
       "    .dataframe thead th {\n",
       "        text-align: right;\n",
       "    }\n",
       "</style>\n",
       "<table border=\"1\" class=\"dataframe\">\n",
       "  <thead>\n",
       "    <tr style=\"text-align: right;\">\n",
       "      <th></th>\n",
       "      <th>brand</th>\n",
       "      <th>model</th>\n",
       "      <th>year</th>\n",
       "    </tr>\n",
       "  </thead>\n",
       "  <tbody>\n",
       "    <tr>\n",
       "      <th>m1</th>\n",
       "      <td>Ford</td>\n",
       "      <td>Mustang</td>\n",
       "      <td>1964</td>\n",
       "    </tr>\n",
       "    <tr>\n",
       "      <th>m2</th>\n",
       "      <td>tata</td>\n",
       "      <td>nexon</td>\n",
       "      <td>2010</td>\n",
       "    </tr>\n",
       "    <tr>\n",
       "      <th>m3</th>\n",
       "      <td>mahindra</td>\n",
       "      <td>scorpioa</td>\n",
       "      <td>2009</td>\n",
       "    </tr>\n",
       "    <tr>\n",
       "      <th>3</th>\n",
       "      <td>shiva</td>\n",
       "      <td>f1</td>\n",
       "      <td>2023</td>\n",
       "    </tr>\n",
       "  </tbody>\n",
       "</table>\n",
       "</div>"
      ],
      "text/plain": [
       "       brand     model  year\n",
       "m1      Ford   Mustang  1964\n",
       "m2      tata     nexon  2010\n",
       "m3  mahindra  scorpioa  2009\n",
       "3      shiva        f1  2023"
      ]
     },
     "execution_count": 10,
     "metadata": {},
     "output_type": "execute_result"
    }
   ],
   "source": [
    "df"
   ]
  },
  {
   "cell_type": "code",
   "execution_count": 11,
   "id": "b2213bfa",
   "metadata": {},
   "outputs": [],
   "source": [
    "#insert rows\n",
    "df.loc[len(df.index)]=['shiva','f1', 2023]\n",
    "df.loc[len(df.index)]=['shiva1','f1.1', 2023]\n",
    "df.loc[len(df.index)]=['shiva2','f1.2', 2023]\n",
    "df.loc[len(df.index)]=['shiva3','f1.3', 2023]"
   ]
  },
  {
   "cell_type": "code",
   "execution_count": 12,
   "id": "73b10dd9",
   "metadata": {},
   "outputs": [
    {
     "data": {
      "text/html": [
       "<div>\n",
       "<style scoped>\n",
       "    .dataframe tbody tr th:only-of-type {\n",
       "        vertical-align: middle;\n",
       "    }\n",
       "\n",
       "    .dataframe tbody tr th {\n",
       "        vertical-align: top;\n",
       "    }\n",
       "\n",
       "    .dataframe thead th {\n",
       "        text-align: right;\n",
       "    }\n",
       "</style>\n",
       "<table border=\"1\" class=\"dataframe\">\n",
       "  <thead>\n",
       "    <tr style=\"text-align: right;\">\n",
       "      <th></th>\n",
       "      <th>brand</th>\n",
       "      <th>model</th>\n",
       "      <th>year</th>\n",
       "    </tr>\n",
       "  </thead>\n",
       "  <tbody>\n",
       "    <tr>\n",
       "      <th>m1</th>\n",
       "      <td>Ford</td>\n",
       "      <td>Mustang</td>\n",
       "      <td>1964</td>\n",
       "    </tr>\n",
       "    <tr>\n",
       "      <th>m2</th>\n",
       "      <td>tata</td>\n",
       "      <td>nexon</td>\n",
       "      <td>2010</td>\n",
       "    </tr>\n",
       "    <tr>\n",
       "      <th>m3</th>\n",
       "      <td>mahindra</td>\n",
       "      <td>scorpioa</td>\n",
       "      <td>2009</td>\n",
       "    </tr>\n",
       "    <tr>\n",
       "      <th>3</th>\n",
       "      <td>shiva</td>\n",
       "      <td>f1</td>\n",
       "      <td>2023</td>\n",
       "    </tr>\n",
       "    <tr>\n",
       "      <th>4</th>\n",
       "      <td>shiva</td>\n",
       "      <td>f1</td>\n",
       "      <td>2023</td>\n",
       "    </tr>\n",
       "    <tr>\n",
       "      <th>5</th>\n",
       "      <td>shiva1</td>\n",
       "      <td>f1.1</td>\n",
       "      <td>2023</td>\n",
       "    </tr>\n",
       "    <tr>\n",
       "      <th>6</th>\n",
       "      <td>shiva2</td>\n",
       "      <td>f1.2</td>\n",
       "      <td>2023</td>\n",
       "    </tr>\n",
       "    <tr>\n",
       "      <th>7</th>\n",
       "      <td>shiva3</td>\n",
       "      <td>f1.3</td>\n",
       "      <td>2023</td>\n",
       "    </tr>\n",
       "  </tbody>\n",
       "</table>\n",
       "</div>"
      ],
      "text/plain": [
       "       brand     model  year\n",
       "m1      Ford   Mustang  1964\n",
       "m2      tata     nexon  2010\n",
       "m3  mahindra  scorpioa  2009\n",
       "3      shiva        f1  2023\n",
       "4      shiva        f1  2023\n",
       "5     shiva1      f1.1  2023\n",
       "6     shiva2      f1.2  2023\n",
       "7     shiva3      f1.3  2023"
      ]
     },
     "execution_count": 12,
     "metadata": {},
     "output_type": "execute_result"
    }
   ],
   "source": [
    "df"
   ]
  },
  {
   "cell_type": "code",
   "execution_count": 13,
   "id": "62058c09",
   "metadata": {},
   "outputs": [
    {
     "data": {
      "text/html": [
       "<div>\n",
       "<style scoped>\n",
       "    .dataframe tbody tr th:only-of-type {\n",
       "        vertical-align: middle;\n",
       "    }\n",
       "\n",
       "    .dataframe tbody tr th {\n",
       "        vertical-align: top;\n",
       "    }\n",
       "\n",
       "    .dataframe thead th {\n",
       "        text-align: right;\n",
       "    }\n",
       "</style>\n",
       "<table border=\"1\" class=\"dataframe\">\n",
       "  <thead>\n",
       "    <tr style=\"text-align: right;\">\n",
       "      <th></th>\n",
       "      <th>brand</th>\n",
       "      <th>model</th>\n",
       "      <th>year</th>\n",
       "    </tr>\n",
       "  </thead>\n",
       "  <tbody>\n",
       "    <tr>\n",
       "      <th>m3</th>\n",
       "      <td>mahindra</td>\n",
       "      <td>scorpioa</td>\n",
       "      <td>2009</td>\n",
       "    </tr>\n",
       "    <tr>\n",
       "      <th>3</th>\n",
       "      <td>shiva</td>\n",
       "      <td>f1</td>\n",
       "      <td>2023</td>\n",
       "    </tr>\n",
       "    <tr>\n",
       "      <th>4</th>\n",
       "      <td>shiva</td>\n",
       "      <td>f1</td>\n",
       "      <td>2023</td>\n",
       "    </tr>\n",
       "    <tr>\n",
       "      <th>5</th>\n",
       "      <td>shiva1</td>\n",
       "      <td>f1.1</td>\n",
       "      <td>2023</td>\n",
       "    </tr>\n",
       "    <tr>\n",
       "      <th>6</th>\n",
       "      <td>shiva2</td>\n",
       "      <td>f1.2</td>\n",
       "      <td>2023</td>\n",
       "    </tr>\n",
       "    <tr>\n",
       "      <th>7</th>\n",
       "      <td>shiva3</td>\n",
       "      <td>f1.3</td>\n",
       "      <td>2023</td>\n",
       "    </tr>\n",
       "  </tbody>\n",
       "</table>\n",
       "</div>"
      ],
      "text/plain": [
       "       brand     model  year\n",
       "m3  mahindra  scorpioa  2009\n",
       "3      shiva        f1  2023\n",
       "4      shiva        f1  2023\n",
       "5     shiva1      f1.1  2023\n",
       "6     shiva2      f1.2  2023\n",
       "7     shiva3      f1.3  2023"
      ]
     },
     "execution_count": 13,
     "metadata": {},
     "output_type": "execute_result"
    }
   ],
   "source": [
    "df.tail(6)"
   ]
  },
  {
   "cell_type": "code",
   "execution_count": 14,
   "id": "5c2eff44",
   "metadata": {},
   "outputs": [],
   "source": [
    "df.insert(1,\"xyz12\",[1,2,3,4,5,6,8,8])"
   ]
  },
  {
   "cell_type": "code",
   "execution_count": 15,
   "id": "7f2b0264",
   "metadata": {},
   "outputs": [
    {
     "data": {
      "text/html": [
       "<div>\n",
       "<style scoped>\n",
       "    .dataframe tbody tr th:only-of-type {\n",
       "        vertical-align: middle;\n",
       "    }\n",
       "\n",
       "    .dataframe tbody tr th {\n",
       "        vertical-align: top;\n",
       "    }\n",
       "\n",
       "    .dataframe thead th {\n",
       "        text-align: right;\n",
       "    }\n",
       "</style>\n",
       "<table border=\"1\" class=\"dataframe\">\n",
       "  <thead>\n",
       "    <tr style=\"text-align: right;\">\n",
       "      <th></th>\n",
       "      <th>brand</th>\n",
       "      <th>xyz12</th>\n",
       "      <th>model</th>\n",
       "      <th>year</th>\n",
       "    </tr>\n",
       "  </thead>\n",
       "  <tbody>\n",
       "    <tr>\n",
       "      <th>m1</th>\n",
       "      <td>Ford</td>\n",
       "      <td>1</td>\n",
       "      <td>Mustang</td>\n",
       "      <td>1964</td>\n",
       "    </tr>\n",
       "    <tr>\n",
       "      <th>m2</th>\n",
       "      <td>tata</td>\n",
       "      <td>2</td>\n",
       "      <td>nexon</td>\n",
       "      <td>2010</td>\n",
       "    </tr>\n",
       "    <tr>\n",
       "      <th>m3</th>\n",
       "      <td>mahindra</td>\n",
       "      <td>3</td>\n",
       "      <td>scorpioa</td>\n",
       "      <td>2009</td>\n",
       "    </tr>\n",
       "    <tr>\n",
       "      <th>3</th>\n",
       "      <td>shiva</td>\n",
       "      <td>4</td>\n",
       "      <td>f1</td>\n",
       "      <td>2023</td>\n",
       "    </tr>\n",
       "    <tr>\n",
       "      <th>4</th>\n",
       "      <td>shiva</td>\n",
       "      <td>5</td>\n",
       "      <td>f1</td>\n",
       "      <td>2023</td>\n",
       "    </tr>\n",
       "    <tr>\n",
       "      <th>5</th>\n",
       "      <td>shiva1</td>\n",
       "      <td>6</td>\n",
       "      <td>f1.1</td>\n",
       "      <td>2023</td>\n",
       "    </tr>\n",
       "    <tr>\n",
       "      <th>6</th>\n",
       "      <td>shiva2</td>\n",
       "      <td>8</td>\n",
       "      <td>f1.2</td>\n",
       "      <td>2023</td>\n",
       "    </tr>\n",
       "    <tr>\n",
       "      <th>7</th>\n",
       "      <td>shiva3</td>\n",
       "      <td>8</td>\n",
       "      <td>f1.3</td>\n",
       "      <td>2023</td>\n",
       "    </tr>\n",
       "  </tbody>\n",
       "</table>\n",
       "</div>"
      ],
      "text/plain": [
       "       brand  xyz12     model  year\n",
       "m1      Ford      1   Mustang  1964\n",
       "m2      tata      2     nexon  2010\n",
       "m3  mahindra      3  scorpioa  2009\n",
       "3      shiva      4        f1  2023\n",
       "4      shiva      5        f1  2023\n",
       "5     shiva1      6      f1.1  2023\n",
       "6     shiva2      8      f1.2  2023\n",
       "7     shiva3      8      f1.3  2023"
      ]
     },
     "execution_count": 15,
     "metadata": {},
     "output_type": "execute_result"
    }
   ],
   "source": [
    "df"
   ]
  },
  {
   "cell_type": "code",
   "execution_count": 16,
   "id": "a562e7d3",
   "metadata": {},
   "outputs": [],
   "source": [
    "df.loc[len(df.index)]=['shiva',2,'f1', 2023]"
   ]
  },
  {
   "cell_type": "code",
   "execution_count": 17,
   "id": "c64ecc4e",
   "metadata": {},
   "outputs": [
    {
     "data": {
      "text/html": [
       "<div>\n",
       "<style scoped>\n",
       "    .dataframe tbody tr th:only-of-type {\n",
       "        vertical-align: middle;\n",
       "    }\n",
       "\n",
       "    .dataframe tbody tr th {\n",
       "        vertical-align: top;\n",
       "    }\n",
       "\n",
       "    .dataframe thead th {\n",
       "        text-align: right;\n",
       "    }\n",
       "</style>\n",
       "<table border=\"1\" class=\"dataframe\">\n",
       "  <thead>\n",
       "    <tr style=\"text-align: right;\">\n",
       "      <th></th>\n",
       "      <th>brand</th>\n",
       "      <th>xyz12</th>\n",
       "      <th>model</th>\n",
       "      <th>year</th>\n",
       "    </tr>\n",
       "  </thead>\n",
       "  <tbody>\n",
       "    <tr>\n",
       "      <th>m1</th>\n",
       "      <td>Ford</td>\n",
       "      <td>1</td>\n",
       "      <td>Mustang</td>\n",
       "      <td>1964</td>\n",
       "    </tr>\n",
       "    <tr>\n",
       "      <th>m2</th>\n",
       "      <td>tata</td>\n",
       "      <td>2</td>\n",
       "      <td>nexon</td>\n",
       "      <td>2010</td>\n",
       "    </tr>\n",
       "    <tr>\n",
       "      <th>m3</th>\n",
       "      <td>mahindra</td>\n",
       "      <td>3</td>\n",
       "      <td>scorpioa</td>\n",
       "      <td>2009</td>\n",
       "    </tr>\n",
       "    <tr>\n",
       "      <th>3</th>\n",
       "      <td>shiva</td>\n",
       "      <td>4</td>\n",
       "      <td>f1</td>\n",
       "      <td>2023</td>\n",
       "    </tr>\n",
       "    <tr>\n",
       "      <th>4</th>\n",
       "      <td>shiva</td>\n",
       "      <td>5</td>\n",
       "      <td>f1</td>\n",
       "      <td>2023</td>\n",
       "    </tr>\n",
       "    <tr>\n",
       "      <th>5</th>\n",
       "      <td>shiva1</td>\n",
       "      <td>6</td>\n",
       "      <td>f1.1</td>\n",
       "      <td>2023</td>\n",
       "    </tr>\n",
       "    <tr>\n",
       "      <th>6</th>\n",
       "      <td>shiva2</td>\n",
       "      <td>8</td>\n",
       "      <td>f1.2</td>\n",
       "      <td>2023</td>\n",
       "    </tr>\n",
       "    <tr>\n",
       "      <th>7</th>\n",
       "      <td>shiva3</td>\n",
       "      <td>8</td>\n",
       "      <td>f1.3</td>\n",
       "      <td>2023</td>\n",
       "    </tr>\n",
       "    <tr>\n",
       "      <th>8</th>\n",
       "      <td>shiva</td>\n",
       "      <td>2</td>\n",
       "      <td>f1</td>\n",
       "      <td>2023</td>\n",
       "    </tr>\n",
       "  </tbody>\n",
       "</table>\n",
       "</div>"
      ],
      "text/plain": [
       "       brand  xyz12     model  year\n",
       "m1      Ford      1   Mustang  1964\n",
       "m2      tata      2     nexon  2010\n",
       "m3  mahindra      3  scorpioa  2009\n",
       "3      shiva      4        f1  2023\n",
       "4      shiva      5        f1  2023\n",
       "5     shiva1      6      f1.1  2023\n",
       "6     shiva2      8      f1.2  2023\n",
       "7     shiva3      8      f1.3  2023\n",
       "8      shiva      2        f1  2023"
      ]
     },
     "execution_count": 17,
     "metadata": {},
     "output_type": "execute_result"
    }
   ],
   "source": [
    "df"
   ]
  },
  {
   "cell_type": "code",
   "execution_count": 18,
   "id": "aac5bbd7",
   "metadata": {},
   "outputs": [],
   "source": [
    "df=df.drop(columns=['xyz12'])"
   ]
  },
  {
   "cell_type": "code",
   "execution_count": 19,
   "id": "f8dd61fd",
   "metadata": {},
   "outputs": [
    {
     "data": {
      "text/html": [
       "<div>\n",
       "<style scoped>\n",
       "    .dataframe tbody tr th:only-of-type {\n",
       "        vertical-align: middle;\n",
       "    }\n",
       "\n",
       "    .dataframe tbody tr th {\n",
       "        vertical-align: top;\n",
       "    }\n",
       "\n",
       "    .dataframe thead th {\n",
       "        text-align: right;\n",
       "    }\n",
       "</style>\n",
       "<table border=\"1\" class=\"dataframe\">\n",
       "  <thead>\n",
       "    <tr style=\"text-align: right;\">\n",
       "      <th></th>\n",
       "      <th>brand</th>\n",
       "      <th>model</th>\n",
       "      <th>year</th>\n",
       "    </tr>\n",
       "  </thead>\n",
       "  <tbody>\n",
       "    <tr>\n",
       "      <th>m1</th>\n",
       "      <td>Ford</td>\n",
       "      <td>Mustang</td>\n",
       "      <td>1964</td>\n",
       "    </tr>\n",
       "    <tr>\n",
       "      <th>m2</th>\n",
       "      <td>tata</td>\n",
       "      <td>nexon</td>\n",
       "      <td>2010</td>\n",
       "    </tr>\n",
       "    <tr>\n",
       "      <th>m3</th>\n",
       "      <td>mahindra</td>\n",
       "      <td>scorpioa</td>\n",
       "      <td>2009</td>\n",
       "    </tr>\n",
       "    <tr>\n",
       "      <th>3</th>\n",
       "      <td>shiva</td>\n",
       "      <td>f1</td>\n",
       "      <td>2023</td>\n",
       "    </tr>\n",
       "    <tr>\n",
       "      <th>4</th>\n",
       "      <td>shiva</td>\n",
       "      <td>f1</td>\n",
       "      <td>2023</td>\n",
       "    </tr>\n",
       "    <tr>\n",
       "      <th>5</th>\n",
       "      <td>shiva1</td>\n",
       "      <td>f1.1</td>\n",
       "      <td>2023</td>\n",
       "    </tr>\n",
       "    <tr>\n",
       "      <th>6</th>\n",
       "      <td>shiva2</td>\n",
       "      <td>f1.2</td>\n",
       "      <td>2023</td>\n",
       "    </tr>\n",
       "    <tr>\n",
       "      <th>7</th>\n",
       "      <td>shiva3</td>\n",
       "      <td>f1.3</td>\n",
       "      <td>2023</td>\n",
       "    </tr>\n",
       "    <tr>\n",
       "      <th>8</th>\n",
       "      <td>shiva</td>\n",
       "      <td>f1</td>\n",
       "      <td>2023</td>\n",
       "    </tr>\n",
       "  </tbody>\n",
       "</table>\n",
       "</div>"
      ],
      "text/plain": [
       "       brand     model  year\n",
       "m1      Ford   Mustang  1964\n",
       "m2      tata     nexon  2010\n",
       "m3  mahindra  scorpioa  2009\n",
       "3      shiva        f1  2023\n",
       "4      shiva        f1  2023\n",
       "5     shiva1      f1.1  2023\n",
       "6     shiva2      f1.2  2023\n",
       "7     shiva3      f1.3  2023\n",
       "8      shiva        f1  2023"
      ]
     },
     "execution_count": 19,
     "metadata": {},
     "output_type": "execute_result"
    }
   ],
   "source": [
    "df"
   ]
  },
  {
   "cell_type": "code",
   "execution_count": 20,
   "id": "b7f6292b",
   "metadata": {},
   "outputs": [],
   "source": [
    "df=df.drop(df.index[3])"
   ]
  },
  {
   "cell_type": "code",
   "execution_count": 21,
   "id": "34b749c4",
   "metadata": {},
   "outputs": [
    {
     "data": {
      "text/html": [
       "<div>\n",
       "<style scoped>\n",
       "    .dataframe tbody tr th:only-of-type {\n",
       "        vertical-align: middle;\n",
       "    }\n",
       "\n",
       "    .dataframe tbody tr th {\n",
       "        vertical-align: top;\n",
       "    }\n",
       "\n",
       "    .dataframe thead th {\n",
       "        text-align: right;\n",
       "    }\n",
       "</style>\n",
       "<table border=\"1\" class=\"dataframe\">\n",
       "  <thead>\n",
       "    <tr style=\"text-align: right;\">\n",
       "      <th></th>\n",
       "      <th>brand</th>\n",
       "      <th>model</th>\n",
       "      <th>year</th>\n",
       "    </tr>\n",
       "  </thead>\n",
       "  <tbody>\n",
       "    <tr>\n",
       "      <th>m1</th>\n",
       "      <td>Ford</td>\n",
       "      <td>Mustang</td>\n",
       "      <td>1964</td>\n",
       "    </tr>\n",
       "    <tr>\n",
       "      <th>m2</th>\n",
       "      <td>tata</td>\n",
       "      <td>nexon</td>\n",
       "      <td>2010</td>\n",
       "    </tr>\n",
       "    <tr>\n",
       "      <th>m3</th>\n",
       "      <td>mahindra</td>\n",
       "      <td>scorpioa</td>\n",
       "      <td>2009</td>\n",
       "    </tr>\n",
       "    <tr>\n",
       "      <th>4</th>\n",
       "      <td>shiva</td>\n",
       "      <td>f1</td>\n",
       "      <td>2023</td>\n",
       "    </tr>\n",
       "    <tr>\n",
       "      <th>5</th>\n",
       "      <td>shiva1</td>\n",
       "      <td>f1.1</td>\n",
       "      <td>2023</td>\n",
       "    </tr>\n",
       "    <tr>\n",
       "      <th>6</th>\n",
       "      <td>shiva2</td>\n",
       "      <td>f1.2</td>\n",
       "      <td>2023</td>\n",
       "    </tr>\n",
       "    <tr>\n",
       "      <th>7</th>\n",
       "      <td>shiva3</td>\n",
       "      <td>f1.3</td>\n",
       "      <td>2023</td>\n",
       "    </tr>\n",
       "    <tr>\n",
       "      <th>8</th>\n",
       "      <td>shiva</td>\n",
       "      <td>f1</td>\n",
       "      <td>2023</td>\n",
       "    </tr>\n",
       "  </tbody>\n",
       "</table>\n",
       "</div>"
      ],
      "text/plain": [
       "       brand     model  year\n",
       "m1      Ford   Mustang  1964\n",
       "m2      tata     nexon  2010\n",
       "m3  mahindra  scorpioa  2009\n",
       "4      shiva        f1  2023\n",
       "5     shiva1      f1.1  2023\n",
       "6     shiva2      f1.2  2023\n",
       "7     shiva3      f1.3  2023\n",
       "8      shiva        f1  2023"
      ]
     },
     "execution_count": 21,
     "metadata": {},
     "output_type": "execute_result"
    }
   ],
   "source": [
    "df"
   ]
  },
  {
   "cell_type": "code",
   "execution_count": 22,
   "id": "f10be7ac",
   "metadata": {},
   "outputs": [],
   "source": [
    "df=df.drop(df.index[2])"
   ]
  },
  {
   "cell_type": "code",
   "execution_count": 23,
   "id": "1f2f166a",
   "metadata": {},
   "outputs": [
    {
     "data": {
      "text/html": [
       "<div>\n",
       "<style scoped>\n",
       "    .dataframe tbody tr th:only-of-type {\n",
       "        vertical-align: middle;\n",
       "    }\n",
       "\n",
       "    .dataframe tbody tr th {\n",
       "        vertical-align: top;\n",
       "    }\n",
       "\n",
       "    .dataframe thead th {\n",
       "        text-align: right;\n",
       "    }\n",
       "</style>\n",
       "<table border=\"1\" class=\"dataframe\">\n",
       "  <thead>\n",
       "    <tr style=\"text-align: right;\">\n",
       "      <th></th>\n",
       "      <th>brand</th>\n",
       "      <th>model</th>\n",
       "      <th>year</th>\n",
       "    </tr>\n",
       "  </thead>\n",
       "  <tbody>\n",
       "    <tr>\n",
       "      <th>m1</th>\n",
       "      <td>Ford</td>\n",
       "      <td>Mustang</td>\n",
       "      <td>1964</td>\n",
       "    </tr>\n",
       "    <tr>\n",
       "      <th>m2</th>\n",
       "      <td>tata</td>\n",
       "      <td>nexon</td>\n",
       "      <td>2010</td>\n",
       "    </tr>\n",
       "    <tr>\n",
       "      <th>4</th>\n",
       "      <td>shiva</td>\n",
       "      <td>f1</td>\n",
       "      <td>2023</td>\n",
       "    </tr>\n",
       "    <tr>\n",
       "      <th>5</th>\n",
       "      <td>shiva1</td>\n",
       "      <td>f1.1</td>\n",
       "      <td>2023</td>\n",
       "    </tr>\n",
       "    <tr>\n",
       "      <th>6</th>\n",
       "      <td>shiva2</td>\n",
       "      <td>f1.2</td>\n",
       "      <td>2023</td>\n",
       "    </tr>\n",
       "    <tr>\n",
       "      <th>7</th>\n",
       "      <td>shiva3</td>\n",
       "      <td>f1.3</td>\n",
       "      <td>2023</td>\n",
       "    </tr>\n",
       "    <tr>\n",
       "      <th>8</th>\n",
       "      <td>shiva</td>\n",
       "      <td>f1</td>\n",
       "      <td>2023</td>\n",
       "    </tr>\n",
       "  </tbody>\n",
       "</table>\n",
       "</div>"
      ],
      "text/plain": [
       "     brand    model  year\n",
       "m1    Ford  Mustang  1964\n",
       "m2    tata    nexon  2010\n",
       "4    shiva       f1  2023\n",
       "5   shiva1     f1.1  2023\n",
       "6   shiva2     f1.2  2023\n",
       "7   shiva3     f1.3  2023\n",
       "8    shiva       f1  2023"
      ]
     },
     "execution_count": 23,
     "metadata": {},
     "output_type": "execute_result"
    }
   ],
   "source": [
    "df"
   ]
  },
  {
   "cell_type": "code",
   "execution_count": 24,
   "id": "ad61f34c",
   "metadata": {},
   "outputs": [
    {
     "data": {
      "text/plain": [
       "m1      Ford\n",
       "m2      tata\n",
       "4      shiva\n",
       "5     shiva1\n",
       "6     shiva2\n",
       "7     shiva3\n",
       "8      shiva\n",
       "Name: brand, dtype: object"
      ]
     },
     "execution_count": 24,
     "metadata": {},
     "output_type": "execute_result"
    }
   ],
   "source": [
    "df.brand"
   ]
  },
  {
   "cell_type": "code",
   "execution_count": 25,
   "id": "19246a33",
   "metadata": {},
   "outputs": [
    {
     "data": {
      "text/plain": [
       "brand       Ford\n",
       "model    Mustang\n",
       "year        1964\n",
       "Name: m1, dtype: object"
      ]
     },
     "execution_count": 25,
     "metadata": {},
     "output_type": "execute_result"
    }
   ],
   "source": [
    "df.loc['m1']"
   ]
  },
  {
   "cell_type": "code",
   "execution_count": 26,
   "id": "a1ea538d",
   "metadata": {},
   "outputs": [],
   "source": [
    "#numpy array\n"
   ]
  },
  {
   "cell_type": "code",
   "execution_count": 27,
   "id": "dc48ef34",
   "metadata": {},
   "outputs": [],
   "source": [
    "# pip install numpy"
   ]
  },
  {
   "cell_type": "code",
   "execution_count": 28,
   "id": "9467f182",
   "metadata": {},
   "outputs": [],
   "source": [
    "import numpy as np1\n",
    "array1 = np1.array([1,2,3,4])"
   ]
  },
  {
   "cell_type": "code",
   "execution_count": 29,
   "id": "3d33362f",
   "metadata": {},
   "outputs": [
    {
     "data": {
      "text/plain": [
       "array([1, 2, 3, 4])"
      ]
     },
     "execution_count": 29,
     "metadata": {},
     "output_type": "execute_result"
    }
   ],
   "source": [
    "array1"
   ]
  },
  {
   "cell_type": "code",
   "execution_count": 30,
   "id": "79f0b8ea",
   "metadata": {},
   "outputs": [],
   "source": [
    "array2 = np1.array([[1,2,3,4],\n",
    "                  [1,2,3,4],\n",
    "                  [1,2,3,4]])"
   ]
  },
  {
   "cell_type": "code",
   "execution_count": 31,
   "id": "37972e6e",
   "metadata": {},
   "outputs": [
    {
     "data": {
      "text/plain": [
       "array([[1, 2, 3, 4],\n",
       "       [1, 2, 3, 4],\n",
       "       [1, 2, 3, 4]])"
      ]
     },
     "execution_count": 31,
     "metadata": {},
     "output_type": "execute_result"
    }
   ],
   "source": [
    "array2"
   ]
  },
  {
   "cell_type": "code",
   "execution_count": 32,
   "id": "744516f4",
   "metadata": {},
   "outputs": [],
   "source": [
    "list1=[1,2,3,4]\n",
    "list2=[1,2,3,4]\n",
    "array3=np1.array([list1,list2])"
   ]
  },
  {
   "cell_type": "code",
   "execution_count": 33,
   "id": "49691c77",
   "metadata": {},
   "outputs": [
    {
     "data": {
      "text/plain": [
       "array([[1, 2, 3, 4],\n",
       "       [1, 2, 3, 4]])"
      ]
     },
     "execution_count": 33,
     "metadata": {},
     "output_type": "execute_result"
    }
   ],
   "source": [
    "array3"
   ]
  },
  {
   "cell_type": "code",
   "execution_count": 34,
   "id": "8f95b5cb",
   "metadata": {},
   "outputs": [
    {
     "name": "stdout",
     "output_type": "stream",
     "text": [
      "[1 2 1 2 1 2]\n"
     ]
    }
   ],
   "source": [
    "print(array2[array2<3])"
   ]
  },
  {
   "cell_type": "code",
   "execution_count": 35,
   "id": "acd01728",
   "metadata": {},
   "outputs": [],
   "source": [
    "# pip install scipy"
   ]
  },
  {
   "cell_type": "code",
   "execution_count": 36,
   "id": "23dbe633",
   "metadata": {},
   "outputs": [
    {
     "ename": "ModuleNotFoundError",
     "evalue": "No module named 'scipy'",
     "output_type": "error",
     "traceback": [
      "\u001b[1;31m---------------------------------------------------------------------------\u001b[0m",
      "\u001b[1;31mModuleNotFoundError\u001b[0m                       Traceback (most recent call last)",
      "Cell \u001b[1;32mIn[36], line 1\u001b[0m\n\u001b[1;32m----> 1\u001b[0m \u001b[38;5;28;01mfrom\u001b[39;00m \u001b[38;5;21;01mscipy\u001b[39;00m\u001b[38;5;21;01m.\u001b[39;00m\u001b[38;5;21;01mspecial\u001b[39;00m \u001b[38;5;28;01mimport\u001b[39;00m exp10\n\u001b[0;32m      2\u001b[0m \u001b[38;5;28;01mfrom\u001b[39;00m \u001b[38;5;21;01mscipy\u001b[39;00m\u001b[38;5;21;01m.\u001b[39;00m\u001b[38;5;21;01mspecial\u001b[39;00m \u001b[38;5;28;01mimport\u001b[39;00m cbrt\n\u001b[0;32m      3\u001b[0m \u001b[38;5;28;01mfrom\u001b[39;00m \u001b[38;5;21;01mscipy\u001b[39;00m\u001b[38;5;21;01m.\u001b[39;00m\u001b[38;5;21;01mspecial\u001b[39;00m \u001b[38;5;28;01mimport\u001b[39;00m perm\n",
      "\u001b[1;31mModuleNotFoundError\u001b[0m: No module named 'scipy'"
     ]
    }
   ],
   "source": [
    "from scipy.special import exp10\n",
    "from scipy.special import cbrt\n",
    "from scipy.special import perm\n",
    "from scipy.special import comb\n",
    "\n",
    "val=exp10(5)\n",
    "\n"
   ]
  },
  {
   "cell_type": "code",
   "execution_count": null,
   "id": "01ad2c24",
   "metadata": {},
   "outputs": [
    {
     "data": {
      "text/plain": [
       "100000.0"
      ]
     },
     "execution_count": 49,
     "metadata": {},
     "output_type": "execute_result"
    }
   ],
   "source": [
    "val"
   ]
  },
  {
   "cell_type": "code",
   "execution_count": null,
   "id": "0a79e33b",
   "metadata": {},
   "outputs": [],
   "source": [
    "num=cbrt(27)"
   ]
  },
  {
   "cell_type": "code",
   "execution_count": null,
   "id": "5b9414e9",
   "metadata": {},
   "outputs": [
    {
     "data": {
      "text/plain": [
       "3.0"
      ]
     },
     "execution_count": 51,
     "metadata": {},
     "output_type": "execute_result"
    }
   ],
   "source": [
    "num"
   ]
  },
  {
   "cell_type": "code",
   "execution_count": null,
   "id": "eb8d3de0",
   "metadata": {},
   "outputs": [],
   "source": [
    "num = perm(9,2)"
   ]
  },
  {
   "cell_type": "code",
   "execution_count": null,
   "id": "3989bdb3",
   "metadata": {},
   "outputs": [
    {
     "data": {
      "text/plain": [
       "72.0"
      ]
     },
     "execution_count": 53,
     "metadata": {},
     "output_type": "execute_result"
    }
   ],
   "source": [
    "num"
   ]
  },
  {
   "cell_type": "code",
   "execution_count": null,
   "id": "29ca3a47",
   "metadata": {},
   "outputs": [
    {
     "data": {
      "text/plain": [
       "36.0"
      ]
     },
     "execution_count": 55,
     "metadata": {},
     "output_type": "execute_result"
    }
   ],
   "source": [
    "num = comb(9,2)\n",
    "num"
   ]
  },
  {
   "cell_type": "code",
   "execution_count": null,
   "id": "d20097dd",
   "metadata": {},
   "outputs": [],
   "source": [
    "#scipy for linear algebra"
   ]
  },
  {
   "cell_type": "code",
   "execution_count": null,
   "id": "c3fb08d2",
   "metadata": {},
   "outputs": [
    {
     "ename": "SyntaxError",
     "evalue": "invalid syntax (236226995.py, line 1)",
     "output_type": "error",
     "traceback": [
      "\u001b[1;36m  Cell \u001b[1;32mIn[2], line 1\u001b[1;36m\u001b[0m\n\u001b[1;33m    rom scipy import linalg\u001b[0m\n\u001b[1;37m        ^\u001b[0m\n\u001b[1;31mSyntaxError\u001b[0m\u001b[1;31m:\u001b[0m invalid syntax\n"
     ]
    }
   ],
   "source": [
    "from scipy import linalg \n",
    "import numpy as np"
   ]
  },
  {
   "cell_type": "code",
   "execution_count": null,
   "id": "440bab31",
   "metadata": {},
   "outputs": [],
   "source": [
    "array2 = np.array([[5,1,3],\n",
    "                  [8,7,2],\n",
    "                  [9,2,3]])"
   ]
  },
  {
   "cell_type": "code",
   "execution_count": null,
   "id": "bbfc1d29",
   "metadata": {},
   "outputs": [],
   "source": [
    "det=linalg.det(array2)"
   ]
  },
  {
   "cell_type": "code",
   "execution_count": null,
   "id": "338f217f",
   "metadata": {},
   "outputs": [
    {
     "data": {
      "text/plain": [
       "-62.000000000000014"
      ]
     },
     "execution_count": 66,
     "metadata": {},
     "output_type": "execute_result"
    }
   ],
   "source": [
    "det"
   ]
  },
  {
   "cell_type": "code",
   "execution_count": null,
   "id": "cc2e7c56",
   "metadata": {},
   "outputs": [],
   "source": [
    "invv=linalg.inv(array2)"
   ]
  },
  {
   "cell_type": "code",
   "execution_count": null,
   "id": "a2a3b5ab",
   "metadata": {},
   "outputs": [
    {
     "data": {
      "text/plain": [
       "array([[-0.27419355, -0.0483871 ,  0.30645161],\n",
       "       [ 0.09677419,  0.19354839, -0.22580645],\n",
       "       [ 0.75806452,  0.01612903, -0.43548387]])"
      ]
     },
     "execution_count": 68,
     "metadata": {},
     "output_type": "execute_result"
    }
   ],
   "source": [
    "invv"
   ]
  }
 ],
 "metadata": {
  "kernelspec": {
   "display_name": "Python 3 (ipykernel)",
   "language": "python",
   "name": "python3"
  },
  "language_info": {
   "codemirror_mode": {
    "name": "ipython",
    "version": 3
   },
   "file_extension": ".py",
   "mimetype": "text/x-python",
   "name": "python",
   "nbconvert_exporter": "python",
   "pygments_lexer": "ipython3",
   "version": "3.11.4"
  }
 },
 "nbformat": 4,
 "nbformat_minor": 5
}
