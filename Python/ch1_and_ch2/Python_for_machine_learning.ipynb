{
 "cells": [
  {
   "cell_type": "code",
   "execution_count": 1,
   "metadata": {
    "colab": {
     "base_uri": "https://localhost:8080/"
    },
    "id": "uPxNJyMy8GQN",
    "outputId": "ea5e1eed-6f3d-4c08-8068-bde117c321e7"
   },
   "outputs": [],
   "source": [
    "# pip install pandas"
   ]
  },
  {
   "cell_type": "code",
   "execution_count": 2,
   "metadata": {
    "colab": {
     "base_uri": "https://localhost:8080/"
    },
    "id": "zrvIQ6mUII6N",
    "outputId": "852450be-6b53-46d8-f018-19d0c19a4609"
   },
   "outputs": [
    {
     "name": "stdout",
     "output_type": "stream",
     "text": [
      "1 2 3 4 5 6 7 12 8 "
     ]
    }
   ],
   "source": [
    "a=[1,2,3,4,5,6,7,12,8]\n",
    "for i in a:\n",
    "  print(i, end =\" \")"
   ]
  },
  {
   "cell_type": "code",
   "execution_count": null,
   "metadata": {
    "id": "K_PzgfreI9OM"
   },
   "outputs": [],
   "source": []
  },
  {
   "cell_type": "code",
   "execution_count": 3,
   "metadata": {
    "colab": {
     "base_uri": "https://localhost:8080/"
    },
    "id": "Bpb9v5W00Gcl",
    "outputId": "31fb123d-4d07-41fb-a684-2d30a186e0bf"
   },
   "outputs": [
    {
     "name": "stdout",
     "output_type": "stream",
     "text": [
      "{'name': ['shiva', 'anish', 'python'], 'marks': [10, 20, 30], 'internal': [20, 12, 20], 'external': [100, 23, 100]}\n",
      "     name  marks  internal  external\n",
      "0   shiva     10        20       100\n",
      "1   anish     20        12        23\n",
      "2  python     30        20       100\n"
     ]
    }
   ],
   "source": [
    "#pandas\n",
    "import pandas as pd\n",
    "dict = {\n",
    "    \"name\":['shiva','anish','python'],\n",
    "    'marks':[10,20,30],\n",
    "    'internal':[20,12,20],\n",
    "    'external':[100,23,100]\n",
    "    }\n",
    "print(dict)\n",
    "df=pd.DataFrame(dict)\n",
    "print(df)"
   ]
  },
  {
   "cell_type": "code",
   "execution_count": 4,
   "metadata": {
    "colab": {
     "base_uri": "https://localhost:8080/"
    },
    "id": "JdFRX8g40HWo",
    "outputId": "1e94b296-2ba4-4b03-88dc-e0202acab049"
   },
   "outputs": [
    {
     "name": "stdout",
     "output_type": "stream",
     "text": [
      "{'name': ['shiva', 'anish', 'python'], 'marks': [10, 20, 30], 'internal': [20, 12, 20], 'external': [100, 23, 100]}\n",
      "          name  marks  internal  external\n",
      "202211   shiva     10        20       100\n",
      "202212   anish     20        12        23\n",
      "202213  python     30        20       100\n"
     ]
    }
   ],
   "source": [
    "#pandas\n",
    "import pandas as pd\n",
    "dict = {\n",
    "    \"name\":['shiva','anish','python'],\n",
    "    'marks':[10,20,30],\n",
    "    'internal':[20,12,20],\n",
    "    'external':[100,23,100]\n",
    "    }\n",
    "print(dict)\n",
    "df=pd.DataFrame(dict)\n",
    "df.index=[202211,202212,202213]\n",
    "print(df)"
   ]
  },
  {
   "cell_type": "code",
   "execution_count": 5,
   "metadata": {
    "id": "hYqa4ld_0H8m"
   },
   "outputs": [],
   "source": [
    "df.to_csv('dict.csv')"
   ]
  },
  {
   "cell_type": "code",
   "execution_count": 6,
   "metadata": {
    "colab": {
     "base_uri": "https://localhost:8080/",
     "height": 1306
    },
    "id": "017SSsIu0IGj",
    "outputId": "4cee9c25-99f2-4033-f739-83b198c47cdc"
   },
   "outputs": [
    {
     "data": {
      "text/html": [
       "<div>\n",
       "<style scoped>\n",
       "    .dataframe tbody tr th:only-of-type {\n",
       "        vertical-align: middle;\n",
       "    }\n",
       "\n",
       "    .dataframe tbody tr th {\n",
       "        vertical-align: top;\n",
       "    }\n",
       "\n",
       "    .dataframe thead th {\n",
       "        text-align: right;\n",
       "    }\n",
       "</style>\n",
       "<table border=\"1\" class=\"dataframe\">\n",
       "  <thead>\n",
       "    <tr style=\"text-align: right;\">\n",
       "      <th></th>\n",
       "      <th>name</th>\n",
       "      <th>marks</th>\n",
       "      <th>internal</th>\n",
       "      <th>external</th>\n",
       "    </tr>\n",
       "  </thead>\n",
       "  <tbody>\n",
       "    <tr>\n",
       "      <th>202211</th>\n",
       "      <td>shiva</td>\n",
       "      <td>10</td>\n",
       "      <td>20</td>\n",
       "      <td>100</td>\n",
       "    </tr>\n",
       "    <tr>\n",
       "      <th>202212</th>\n",
       "      <td>anish</td>\n",
       "      <td>20</td>\n",
       "      <td>12</td>\n",
       "      <td>23</td>\n",
       "    </tr>\n",
       "    <tr>\n",
       "      <th>202213</th>\n",
       "      <td>python</td>\n",
       "      <td>30</td>\n",
       "      <td>20</td>\n",
       "      <td>100</td>\n",
       "    </tr>\n",
       "  </tbody>\n",
       "</table>\n",
       "</div>"
      ],
      "text/plain": [
       "          name  marks  internal  external\n",
       "202211   shiva     10        20       100\n",
       "202212   anish     20        12        23\n",
       "202213  python     30        20       100"
      ]
     },
     "execution_count": 6,
     "metadata": {},
     "output_type": "execute_result"
    }
   ],
   "source": [
    "df.head()"
   ]
  },
  {
   "cell_type": "code",
   "execution_count": 7,
   "metadata": {
    "colab": {
     "base_uri": "https://localhost:8080/",
     "height": 206
    },
    "id": "ZPIHeFpR0IKC",
    "outputId": "5901b073-dafb-4a57-d653-eec39f6850fa"
   },
   "outputs": [
    {
     "data": {
      "text/html": [
       "<div>\n",
       "<style scoped>\n",
       "    .dataframe tbody tr th:only-of-type {\n",
       "        vertical-align: middle;\n",
       "    }\n",
       "\n",
       "    .dataframe tbody tr th {\n",
       "        vertical-align: top;\n",
       "    }\n",
       "\n",
       "    .dataframe thead th {\n",
       "        text-align: right;\n",
       "    }\n",
       "</style>\n",
       "<table border=\"1\" class=\"dataframe\">\n",
       "  <thead>\n",
       "    <tr style=\"text-align: right;\">\n",
       "      <th></th>\n",
       "      <th>name</th>\n",
       "      <th>marks</th>\n",
       "      <th>internal</th>\n",
       "      <th>external</th>\n",
       "    </tr>\n",
       "  </thead>\n",
       "  <tbody>\n",
       "    <tr>\n",
       "      <th>202211</th>\n",
       "      <td>shiva</td>\n",
       "      <td>10</td>\n",
       "      <td>20</td>\n",
       "      <td>100</td>\n",
       "    </tr>\n",
       "    <tr>\n",
       "      <th>202212</th>\n",
       "      <td>anish</td>\n",
       "      <td>20</td>\n",
       "      <td>12</td>\n",
       "      <td>23</td>\n",
       "    </tr>\n",
       "    <tr>\n",
       "      <th>202213</th>\n",
       "      <td>python</td>\n",
       "      <td>30</td>\n",
       "      <td>20</td>\n",
       "      <td>100</td>\n",
       "    </tr>\n",
       "    <tr>\n",
       "      <th>3</th>\n",
       "      <td>Amy2</td>\n",
       "      <td>89</td>\n",
       "      <td>93</td>\n",
       "      <td>70</td>\n",
       "    </tr>\n",
       "  </tbody>\n",
       "</table>\n",
       "</div>"
      ],
      "text/plain": [
       "          name  marks  internal  external\n",
       "202211   shiva     10        20       100\n",
       "202212   anish     20        12        23\n",
       "202213  python     30        20       100\n",
       "3         Amy2     89        93        70"
      ]
     },
     "metadata": {},
     "output_type": "display_data"
    },
    {
     "data": {
      "text/html": [
       "<div>\n",
       "<style scoped>\n",
       "    .dataframe tbody tr th:only-of-type {\n",
       "        vertical-align: middle;\n",
       "    }\n",
       "\n",
       "    .dataframe tbody tr th {\n",
       "        vertical-align: top;\n",
       "    }\n",
       "\n",
       "    .dataframe thead th {\n",
       "        text-align: right;\n",
       "    }\n",
       "</style>\n",
       "<table border=\"1\" class=\"dataframe\">\n",
       "  <thead>\n",
       "    <tr style=\"text-align: right;\">\n",
       "      <th></th>\n",
       "      <th>name</th>\n",
       "      <th>marks</th>\n",
       "      <th>internal</th>\n",
       "      <th>external</th>\n",
       "    </tr>\n",
       "  </thead>\n",
       "  <tbody>\n",
       "    <tr>\n",
       "      <th>202211</th>\n",
       "      <td>shiva</td>\n",
       "      <td>10</td>\n",
       "      <td>20</td>\n",
       "      <td>100</td>\n",
       "    </tr>\n",
       "    <tr>\n",
       "      <th>202212</th>\n",
       "      <td>anish</td>\n",
       "      <td>20</td>\n",
       "      <td>12</td>\n",
       "      <td>23</td>\n",
       "    </tr>\n",
       "    <tr>\n",
       "      <th>202213</th>\n",
       "      <td>python</td>\n",
       "      <td>30</td>\n",
       "      <td>20</td>\n",
       "      <td>100</td>\n",
       "    </tr>\n",
       "    <tr>\n",
       "      <th>3</th>\n",
       "      <td>Amy2</td>\n",
       "      <td>89</td>\n",
       "      <td>93</td>\n",
       "      <td>70</td>\n",
       "    </tr>\n",
       "    <tr>\n",
       "      <th>4</th>\n",
       "      <td>Amy1</td>\n",
       "      <td>89</td>\n",
       "      <td>93</td>\n",
       "      <td>40</td>\n",
       "    </tr>\n",
       "  </tbody>\n",
       "</table>\n",
       "</div>"
      ],
      "text/plain": [
       "          name  marks  internal  external\n",
       "202211   shiva     10        20       100\n",
       "202212   anish     20        12        23\n",
       "202213  python     30        20       100\n",
       "3         Amy2     89        93        70\n",
       "4         Amy1     89        93        40"
      ]
     },
     "metadata": {},
     "output_type": "display_data"
    }
   ],
   "source": [
    "#Add a row in the DataFrame\n",
    "df.loc[len(df.index)] = ['Amy2', 89, 93,70]\n",
    "display(df)\n",
    "df.loc[len(df.index)] = ['Amy1', 89, 93,40]\n",
    "display(df)"
   ]
  },
  {
   "cell_type": "code",
   "execution_count": 8,
   "metadata": {
    "colab": {
     "base_uri": "https://localhost:8080/"
    },
    "id": "nDIglmn80IUg",
    "outputId": "84f1aa2f-e864-4996-c2d5-8fab610e574c"
   },
   "outputs": [
    {
     "name": "stdout",
     "output_type": "stream",
     "text": [
      "          name  marks  Age  internal  external\n",
      "202211   shiva     10   21        20       100\n",
      "202212   anish     20   23        12        23\n",
      "202213  python     30   24        20       100\n",
      "3         Amy2     89   21        93        70\n",
      "4         Amy1     89   25        93        40\n"
     ]
    }
   ],
   "source": [
    "# Using DataFrame.insert() to add a column\n",
    "#df.insert(location,'name of column',values,allow duplicates)\n",
    "\n",
    "df.insert(2, \"Age\", [21, 23, 24, 21,25], True)\n",
    "\n",
    "# Observe the result\n",
    "print(df)"
   ]
  },
  {
   "cell_type": "code",
   "execution_count": 9,
   "metadata": {
    "colab": {
     "base_uri": "https://localhost:8080/",
     "height": 489
    },
    "id": "-z5cUbzQ0IWv",
    "outputId": "b260700f-0fba-49f0-8bb9-fcc7006cb03c"
   },
   "outputs": [
    {
     "data": {
      "text/html": [
       "<div>\n",
       "<style scoped>\n",
       "    .dataframe tbody tr th:only-of-type {\n",
       "        vertical-align: middle;\n",
       "    }\n",
       "\n",
       "    .dataframe tbody tr th {\n",
       "        vertical-align: top;\n",
       "    }\n",
       "\n",
       "    .dataframe thead th {\n",
       "        text-align: right;\n",
       "    }\n",
       "</style>\n",
       "<table border=\"1\" class=\"dataframe\">\n",
       "  <thead>\n",
       "    <tr style=\"text-align: right;\">\n",
       "      <th></th>\n",
       "      <th>name</th>\n",
       "      <th>marks</th>\n",
       "      <th>Age</th>\n",
       "      <th>internal</th>\n",
       "      <th>external</th>\n",
       "    </tr>\n",
       "  </thead>\n",
       "  <tbody>\n",
       "    <tr>\n",
       "      <th>202211</th>\n",
       "      <td>shiva</td>\n",
       "      <td>10</td>\n",
       "      <td>21</td>\n",
       "      <td>20</td>\n",
       "      <td>100</td>\n",
       "    </tr>\n",
       "    <tr>\n",
       "      <th>202212</th>\n",
       "      <td>anish</td>\n",
       "      <td>20</td>\n",
       "      <td>23</td>\n",
       "      <td>12</td>\n",
       "      <td>23</td>\n",
       "    </tr>\n",
       "    <tr>\n",
       "      <th>202213</th>\n",
       "      <td>python</td>\n",
       "      <td>30</td>\n",
       "      <td>24</td>\n",
       "      <td>20</td>\n",
       "      <td>100</td>\n",
       "    </tr>\n",
       "    <tr>\n",
       "      <th>3</th>\n",
       "      <td>Amy2</td>\n",
       "      <td>89</td>\n",
       "      <td>21</td>\n",
       "      <td>93</td>\n",
       "      <td>70</td>\n",
       "    </tr>\n",
       "    <tr>\n",
       "      <th>4</th>\n",
       "      <td>Amy1</td>\n",
       "      <td>89</td>\n",
       "      <td>25</td>\n",
       "      <td>93</td>\n",
       "      <td>40</td>\n",
       "    </tr>\n",
       "    <tr>\n",
       "      <th>5</th>\n",
       "      <td>Amy2</td>\n",
       "      <td>89</td>\n",
       "      <td>93</td>\n",
       "      <td>70</td>\n",
       "      <td>40</td>\n",
       "    </tr>\n",
       "  </tbody>\n",
       "</table>\n",
       "</div>"
      ],
      "text/plain": [
       "          name  marks  Age  internal  external\n",
       "202211   shiva     10   21        20       100\n",
       "202212   anish     20   23        12        23\n",
       "202213  python     30   24        20       100\n",
       "3         Amy2     89   21        93        70\n",
       "4         Amy1     89   25        93        40\n",
       "5         Amy2     89   93        70        40"
      ]
     },
     "metadata": {},
     "output_type": "display_data"
    },
    {
     "data": {
      "text/html": [
       "<div>\n",
       "<style scoped>\n",
       "    .dataframe tbody tr th:only-of-type {\n",
       "        vertical-align: middle;\n",
       "    }\n",
       "\n",
       "    .dataframe tbody tr th {\n",
       "        vertical-align: top;\n",
       "    }\n",
       "\n",
       "    .dataframe thead th {\n",
       "        text-align: right;\n",
       "    }\n",
       "</style>\n",
       "<table border=\"1\" class=\"dataframe\">\n",
       "  <thead>\n",
       "    <tr style=\"text-align: right;\">\n",
       "      <th></th>\n",
       "      <th>name</th>\n",
       "      <th>marks</th>\n",
       "      <th>Age</th>\n",
       "      <th>internal</th>\n",
       "      <th>external</th>\n",
       "    </tr>\n",
       "  </thead>\n",
       "  <tbody>\n",
       "    <tr>\n",
       "      <th>202211</th>\n",
       "      <td>shiva</td>\n",
       "      <td>10</td>\n",
       "      <td>21</td>\n",
       "      <td>20</td>\n",
       "      <td>100</td>\n",
       "    </tr>\n",
       "    <tr>\n",
       "      <th>202212</th>\n",
       "      <td>anish</td>\n",
       "      <td>20</td>\n",
       "      <td>23</td>\n",
       "      <td>12</td>\n",
       "      <td>23</td>\n",
       "    </tr>\n",
       "    <tr>\n",
       "      <th>202213</th>\n",
       "      <td>python</td>\n",
       "      <td>30</td>\n",
       "      <td>24</td>\n",
       "      <td>20</td>\n",
       "      <td>100</td>\n",
       "    </tr>\n",
       "    <tr>\n",
       "      <th>3</th>\n",
       "      <td>Amy2</td>\n",
       "      <td>89</td>\n",
       "      <td>21</td>\n",
       "      <td>93</td>\n",
       "      <td>70</td>\n",
       "    </tr>\n",
       "    <tr>\n",
       "      <th>4</th>\n",
       "      <td>Amy1</td>\n",
       "      <td>89</td>\n",
       "      <td>25</td>\n",
       "      <td>93</td>\n",
       "      <td>40</td>\n",
       "    </tr>\n",
       "    <tr>\n",
       "      <th>5</th>\n",
       "      <td>Amy2</td>\n",
       "      <td>89</td>\n",
       "      <td>93</td>\n",
       "      <td>70</td>\n",
       "      <td>40</td>\n",
       "    </tr>\n",
       "    <tr>\n",
       "      <th>6</th>\n",
       "      <td>Amy1</td>\n",
       "      <td>89</td>\n",
       "      <td>93</td>\n",
       "      <td>40</td>\n",
       "      <td>53</td>\n",
       "    </tr>\n",
       "  </tbody>\n",
       "</table>\n",
       "</div>"
      ],
      "text/plain": [
       "          name  marks  Age  internal  external\n",
       "202211   shiva     10   21        20       100\n",
       "202212   anish     20   23        12        23\n",
       "202213  python     30   24        20       100\n",
       "3         Amy2     89   21        93        70\n",
       "4         Amy1     89   25        93        40\n",
       "5         Amy2     89   93        70        40\n",
       "6         Amy1     89   93        40        53"
      ]
     },
     "metadata": {},
     "output_type": "display_data"
    }
   ],
   "source": [
    "#Add a row in the DataFrame\n",
    "df.loc[len(df.index)] = ['Amy2', 89, 93,70,40]\n",
    "display(df)\n",
    "df.loc[len(df.index)] = ['Amy1', 89, 93,40,53]\n",
    "display(df)"
   ]
  },
  {
   "cell_type": "code",
   "execution_count": 10,
   "metadata": {
    "colab": {
     "base_uri": "https://localhost:8080/",
     "height": 269
    },
    "id": "f68b6XmK0IaI",
    "outputId": "e5a15fe2-2b99-4ae1-ddbc-6ef1fa166079"
   },
   "outputs": [
    {
     "data": {
      "text/html": [
       "<div>\n",
       "<style scoped>\n",
       "    .dataframe tbody tr th:only-of-type {\n",
       "        vertical-align: middle;\n",
       "    }\n",
       "\n",
       "    .dataframe tbody tr th {\n",
       "        vertical-align: top;\n",
       "    }\n",
       "\n",
       "    .dataframe thead th {\n",
       "        text-align: right;\n",
       "    }\n",
       "</style>\n",
       "<table border=\"1\" class=\"dataframe\">\n",
       "  <thead>\n",
       "    <tr style=\"text-align: right;\">\n",
       "      <th></th>\n",
       "      <th>name</th>\n",
       "      <th>marks</th>\n",
       "      <th>Age</th>\n",
       "      <th>internal</th>\n",
       "      <th>external</th>\n",
       "    </tr>\n",
       "  </thead>\n",
       "  <tbody>\n",
       "    <tr>\n",
       "      <th>202211</th>\n",
       "      <td>shiva</td>\n",
       "      <td>10</td>\n",
       "      <td>21</td>\n",
       "      <td>20</td>\n",
       "      <td>100</td>\n",
       "    </tr>\n",
       "    <tr>\n",
       "      <th>202212</th>\n",
       "      <td>anish</td>\n",
       "      <td>20</td>\n",
       "      <td>23</td>\n",
       "      <td>12</td>\n",
       "      <td>23</td>\n",
       "    </tr>\n",
       "    <tr>\n",
       "      <th>202213</th>\n",
       "      <td>python</td>\n",
       "      <td>30</td>\n",
       "      <td>24</td>\n",
       "      <td>20</td>\n",
       "      <td>100</td>\n",
       "    </tr>\n",
       "    <tr>\n",
       "      <th>3</th>\n",
       "      <td>Amy2</td>\n",
       "      <td>89</td>\n",
       "      <td>21</td>\n",
       "      <td>93</td>\n",
       "      <td>70</td>\n",
       "    </tr>\n",
       "    <tr>\n",
       "      <th>4</th>\n",
       "      <td>Amy1</td>\n",
       "      <td>89</td>\n",
       "      <td>25</td>\n",
       "      <td>93</td>\n",
       "      <td>40</td>\n",
       "    </tr>\n",
       "    <tr>\n",
       "      <th>5</th>\n",
       "      <td>Amy2</td>\n",
       "      <td>89</td>\n",
       "      <td>93</td>\n",
       "      <td>70</td>\n",
       "      <td>40</td>\n",
       "    </tr>\n",
       "    <tr>\n",
       "      <th>6</th>\n",
       "      <td>Amy1</td>\n",
       "      <td>89</td>\n",
       "      <td>93</td>\n",
       "      <td>40</td>\n",
       "      <td>53</td>\n",
       "    </tr>\n",
       "  </tbody>\n",
       "</table>\n",
       "</div>"
      ],
      "text/plain": [
       "          name  marks  Age  internal  external\n",
       "202211   shiva     10   21        20       100\n",
       "202212   anish     20   23        12        23\n",
       "202213  python     30   24        20       100\n",
       "3         Amy2     89   21        93        70\n",
       "4         Amy1     89   25        93        40\n",
       "5         Amy2     89   93        70        40\n",
       "6         Amy1     89   93        40        53"
      ]
     },
     "execution_count": 10,
     "metadata": {},
     "output_type": "execute_result"
    }
   ],
   "source": [
    "df"
   ]
  },
  {
   "cell_type": "code",
   "execution_count": 11,
   "metadata": {
    "colab": {
     "base_uri": "https://localhost:8080/",
     "height": 206
    },
    "id": "SxpIbCBo4npX",
    "outputId": "e5a74a16-63f4-444c-e90d-d8a18a881085"
   },
   "outputs": [
    {
     "data": {
      "text/html": [
       "<div>\n",
       "<style scoped>\n",
       "    .dataframe tbody tr th:only-of-type {\n",
       "        vertical-align: middle;\n",
       "    }\n",
       "\n",
       "    .dataframe tbody tr th {\n",
       "        vertical-align: top;\n",
       "    }\n",
       "\n",
       "    .dataframe thead th {\n",
       "        text-align: right;\n",
       "    }\n",
       "</style>\n",
       "<table border=\"1\" class=\"dataframe\">\n",
       "  <thead>\n",
       "    <tr style=\"text-align: right;\">\n",
       "      <th></th>\n",
       "      <th>name</th>\n",
       "      <th>marks</th>\n",
       "      <th>Age</th>\n",
       "      <th>internal</th>\n",
       "      <th>external</th>\n",
       "    </tr>\n",
       "  </thead>\n",
       "  <tbody>\n",
       "    <tr>\n",
       "      <th>202213</th>\n",
       "      <td>python</td>\n",
       "      <td>30</td>\n",
       "      <td>24</td>\n",
       "      <td>20</td>\n",
       "      <td>100</td>\n",
       "    </tr>\n",
       "    <tr>\n",
       "      <th>3</th>\n",
       "      <td>Amy2</td>\n",
       "      <td>89</td>\n",
       "      <td>21</td>\n",
       "      <td>93</td>\n",
       "      <td>70</td>\n",
       "    </tr>\n",
       "    <tr>\n",
       "      <th>4</th>\n",
       "      <td>Amy1</td>\n",
       "      <td>89</td>\n",
       "      <td>25</td>\n",
       "      <td>93</td>\n",
       "      <td>40</td>\n",
       "    </tr>\n",
       "    <tr>\n",
       "      <th>5</th>\n",
       "      <td>Amy2</td>\n",
       "      <td>89</td>\n",
       "      <td>93</td>\n",
       "      <td>70</td>\n",
       "      <td>40</td>\n",
       "    </tr>\n",
       "    <tr>\n",
       "      <th>6</th>\n",
       "      <td>Amy1</td>\n",
       "      <td>89</td>\n",
       "      <td>93</td>\n",
       "      <td>40</td>\n",
       "      <td>53</td>\n",
       "    </tr>\n",
       "  </tbody>\n",
       "</table>\n",
       "</div>"
      ],
      "text/plain": [
       "          name  marks  Age  internal  external\n",
       "202213  python     30   24        20       100\n",
       "3         Amy2     89   21        93        70\n",
       "4         Amy1     89   25        93        40\n",
       "5         Amy2     89   93        70        40\n",
       "6         Amy1     89   93        40        53"
      ]
     },
     "execution_count": 11,
     "metadata": {},
     "output_type": "execute_result"
    }
   ],
   "source": [
    "df.tail()"
   ]
  },
  {
   "cell_type": "code",
   "execution_count": 12,
   "metadata": {
    "id": "E0W7tEw84qUP"
   },
   "outputs": [],
   "source": [
    "df.index=['f1','f2','f3','f4','f5','f6','f7']"
   ]
  },
  {
   "cell_type": "code",
   "execution_count": 13,
   "metadata": {
    "colab": {
     "base_uri": "https://localhost:8080/"
    },
    "id": "y5tM1DQr5C_b",
    "outputId": "48e49ac6-0a46-4d32-9d53-85caf0adb46a"
   },
   "outputs": [
    {
     "name": "stdout",
     "output_type": "stream",
     "text": [
      "      name  marks  Age  internal  external\n",
      "f1   shiva     10   21        20       100\n",
      "f2   anish     20   23        12        23\n",
      "f3  python     30   24        20       100\n",
      "f4    Amy2     89   21        93        70\n",
      "f5    Amy1     89   25        93        40\n",
      "f6    Amy2     89   93        70        40\n",
      "f7    Amy1     89   93        40        53\n"
     ]
    }
   ],
   "source": [
    "print(df)"
   ]
  },
  {
   "cell_type": "code",
   "execution_count": 14,
   "metadata": {
    "id": "Vnyn_f6T5PDd"
   },
   "outputs": [
    {
     "data": {
      "text/html": [
       "<div>\n",
       "<style scoped>\n",
       "    .dataframe tbody tr th:only-of-type {\n",
       "        vertical-align: middle;\n",
       "    }\n",
       "\n",
       "    .dataframe tbody tr th {\n",
       "        vertical-align: top;\n",
       "    }\n",
       "\n",
       "    .dataframe thead th {\n",
       "        text-align: right;\n",
       "    }\n",
       "</style>\n",
       "<table border=\"1\" class=\"dataframe\">\n",
       "  <thead>\n",
       "    <tr style=\"text-align: right;\">\n",
       "      <th></th>\n",
       "      <th>marks</th>\n",
       "      <th>Age</th>\n",
       "      <th>internal</th>\n",
       "      <th>external</th>\n",
       "    </tr>\n",
       "  </thead>\n",
       "  <tbody>\n",
       "    <tr>\n",
       "      <th>f1</th>\n",
       "      <td>10</td>\n",
       "      <td>21</td>\n",
       "      <td>20</td>\n",
       "      <td>100</td>\n",
       "    </tr>\n",
       "    <tr>\n",
       "      <th>f2</th>\n",
       "      <td>20</td>\n",
       "      <td>23</td>\n",
       "      <td>12</td>\n",
       "      <td>23</td>\n",
       "    </tr>\n",
       "    <tr>\n",
       "      <th>f3</th>\n",
       "      <td>30</td>\n",
       "      <td>24</td>\n",
       "      <td>20</td>\n",
       "      <td>100</td>\n",
       "    </tr>\n",
       "    <tr>\n",
       "      <th>f4</th>\n",
       "      <td>89</td>\n",
       "      <td>21</td>\n",
       "      <td>93</td>\n",
       "      <td>70</td>\n",
       "    </tr>\n",
       "    <tr>\n",
       "      <th>f5</th>\n",
       "      <td>89</td>\n",
       "      <td>25</td>\n",
       "      <td>93</td>\n",
       "      <td>40</td>\n",
       "    </tr>\n",
       "    <tr>\n",
       "      <th>f6</th>\n",
       "      <td>89</td>\n",
       "      <td>93</td>\n",
       "      <td>70</td>\n",
       "      <td>40</td>\n",
       "    </tr>\n",
       "    <tr>\n",
       "      <th>f7</th>\n",
       "      <td>89</td>\n",
       "      <td>93</td>\n",
       "      <td>40</td>\n",
       "      <td>53</td>\n",
       "    </tr>\n",
       "  </tbody>\n",
       "</table>\n",
       "</div>"
      ],
      "text/plain": [
       "    marks  Age  internal  external\n",
       "f1     10   21        20       100\n",
       "f2     20   23        12        23\n",
       "f3     30   24        20       100\n",
       "f4     89   21        93        70\n",
       "f5     89   25        93        40\n",
       "f6     89   93        70        40\n",
       "f7     89   93        40        53"
      ]
     },
     "execution_count": 14,
     "metadata": {},
     "output_type": "execute_result"
    }
   ],
   "source": [
    "#Delete a column\n",
    "df=df.drop(columns=[\"name\"])\n",
    "df"
   ]
  },
  {
   "cell_type": "code",
   "execution_count": 15,
   "metadata": {
    "colab": {
     "base_uri": "https://localhost:8080/",
     "height": 237
    },
    "id": "f6WLpriA6lW5",
    "outputId": "e5835b52-8ab8-4075-bf6c-5e38d48c96d4"
   },
   "outputs": [
    {
     "data": {
      "text/html": [
       "<div>\n",
       "<style scoped>\n",
       "    .dataframe tbody tr th:only-of-type {\n",
       "        vertical-align: middle;\n",
       "    }\n",
       "\n",
       "    .dataframe tbody tr th {\n",
       "        vertical-align: top;\n",
       "    }\n",
       "\n",
       "    .dataframe thead th {\n",
       "        text-align: right;\n",
       "    }\n",
       "</style>\n",
       "<table border=\"1\" class=\"dataframe\">\n",
       "  <thead>\n",
       "    <tr style=\"text-align: right;\">\n",
       "      <th></th>\n",
       "      <th>marks</th>\n",
       "      <th>Age</th>\n",
       "      <th>internal</th>\n",
       "      <th>external</th>\n",
       "    </tr>\n",
       "  </thead>\n",
       "  <tbody>\n",
       "    <tr>\n",
       "      <th>f1</th>\n",
       "      <td>10</td>\n",
       "      <td>21</td>\n",
       "      <td>20</td>\n",
       "      <td>100</td>\n",
       "    </tr>\n",
       "    <tr>\n",
       "      <th>f2</th>\n",
       "      <td>20</td>\n",
       "      <td>23</td>\n",
       "      <td>12</td>\n",
       "      <td>23</td>\n",
       "    </tr>\n",
       "    <tr>\n",
       "      <th>f3</th>\n",
       "      <td>30</td>\n",
       "      <td>24</td>\n",
       "      <td>20</td>\n",
       "      <td>100</td>\n",
       "    </tr>\n",
       "    <tr>\n",
       "      <th>f5</th>\n",
       "      <td>89</td>\n",
       "      <td>25</td>\n",
       "      <td>93</td>\n",
       "      <td>40</td>\n",
       "    </tr>\n",
       "    <tr>\n",
       "      <th>f6</th>\n",
       "      <td>89</td>\n",
       "      <td>93</td>\n",
       "      <td>70</td>\n",
       "      <td>40</td>\n",
       "    </tr>\n",
       "    <tr>\n",
       "      <th>f7</th>\n",
       "      <td>89</td>\n",
       "      <td>93</td>\n",
       "      <td>40</td>\n",
       "      <td>53</td>\n",
       "    </tr>\n",
       "  </tbody>\n",
       "</table>\n",
       "</div>"
      ],
      "text/plain": [
       "    marks  Age  internal  external\n",
       "f1     10   21        20       100\n",
       "f2     20   23        12        23\n",
       "f3     30   24        20       100\n",
       "f5     89   25        93        40\n",
       "f6     89   93        70        40\n",
       "f7     89   93        40        53"
      ]
     },
     "execution_count": 15,
     "metadata": {},
     "output_type": "execute_result"
    }
   ],
   "source": [
    "#delete a row\n",
    "df=df.drop(df.index[3])\n",
    "df"
   ]
  },
  {
   "cell_type": "code",
   "execution_count": 16,
   "metadata": {
    "colab": {
     "base_uri": "https://localhost:8080/"
    },
    "id": "oA2d4dRM6B4f",
    "outputId": "75c29622-85f4-4bf1-f653-3c38c3c99c1c"
   },
   "outputs": [
    {
     "data": {
      "text/plain": [
       "f1    10\n",
       "f2    20\n",
       "f3    30\n",
       "f5    89\n",
       "f6    89\n",
       "f7    89\n",
       "Name: marks, dtype: int64"
      ]
     },
     "execution_count": 16,
     "metadata": {},
     "output_type": "execute_result"
    }
   ],
   "source": [
    "df.marks"
   ]
  },
  {
   "cell_type": "code",
   "execution_count": 17,
   "metadata": {
    "colab": {
     "base_uri": "https://localhost:8080/"
    },
    "id": "mbQqHu4T6UC2",
    "outputId": "fb732be4-a0c3-483f-f480-c1080105b738"
   },
   "outputs": [
    {
     "data": {
      "text/plain": [
       "f1    10\n",
       "f2    20\n",
       "f3    30\n",
       "f5    89\n",
       "f6    89\n",
       "f7    89\n",
       "Name: marks, dtype: int64"
      ]
     },
     "execution_count": 17,
     "metadata": {},
     "output_type": "execute_result"
    }
   ],
   "source": [
    "df['marks']"
   ]
  },
  {
   "cell_type": "code",
   "execution_count": 18,
   "metadata": {
    "colab": {
     "base_uri": "https://localhost:8080/"
    },
    "id": "p1xwZ5_o6ccg",
    "outputId": "34ec7b88-0bed-490c-85ec-9c9afc6ac895"
   },
   "outputs": [
    {
     "name": "stdout",
     "output_type": "stream",
     "text": [
      "marks        10\n",
      "Age          21\n",
      "internal     20\n",
      "external    100\n",
      "Name: f1, dtype: int64\n"
     ]
    }
   ],
   "source": [
    "#print a specific row as per index\n",
    "print(df.loc['f1'])"
   ]
  },
  {
   "cell_type": "code",
   "execution_count": 19,
   "metadata": {
    "id": "X-503dmI7DJ_"
   },
   "outputs": [],
   "source": [
    "#numpy\n",
    "import numpy as np"
   ]
  },
  {
   "cell_type": "code",
   "execution_count": 20,
   "metadata": {
    "colab": {
     "base_uri": "https://localhost:8080/"
    },
    "id": "BC-N9SIm7mwe",
    "outputId": "69a79007-8d4a-4029-d636-ca0302dd6607"
   },
   "outputs": [
    {
     "name": "stdout",
     "output_type": "stream",
     "text": [
      "[1 2 3]\n"
     ]
    }
   ],
   "source": [
    "arr=np.array([1,2,3])\n",
    "print(arr)"
   ]
  },
  {
   "cell_type": "code",
   "execution_count": 21,
   "metadata": {
    "colab": {
     "base_uri": "https://localhost:8080/"
    },
    "id": "nMA7fMLv9Qhj",
    "outputId": "7048615e-4d30-4d0c-a818-c71db307d47a"
   },
   "outputs": [
    {
     "name": "stdout",
     "output_type": "stream",
     "text": [
      "[1. 2. 3.]\n"
     ]
    }
   ],
   "source": [
    "arr=np.array([1,2,3],dtype=float)\n",
    "print(arr)"
   ]
  },
  {
   "cell_type": "code",
   "execution_count": 22,
   "metadata": {
    "id": "uW2OfOJQ9bBR"
   },
   "outputs": [],
   "source": [
    "#numpy N_dimensional array\n",
    "ar=np.array([[1,2,3,4],\n",
    "             [1,2,3,4],\n",
    "             [1,2,3,4],\n",
    "             [1,2,3,4]])"
   ]
  },
  {
   "cell_type": "code",
   "execution_count": 23,
   "metadata": {
    "colab": {
     "base_uri": "https://localhost:8080/"
    },
    "id": "CBZwWXcw9vaV",
    "outputId": "e79b75a2-8c33-41e2-95cd-7fccc852bfab"
   },
   "outputs": [
    {
     "name": "stdout",
     "output_type": "stream",
     "text": [
      "[[1 2 3 4]\n",
      " [1 2 3 4]\n",
      " [1 2 3 4]\n",
      " [1 2 3 4]]\n"
     ]
    }
   ],
   "source": [
    "print(ar)"
   ]
  },
  {
   "cell_type": "code",
   "execution_count": 24,
   "metadata": {
    "colab": {
     "base_uri": "https://localhost:8080/"
    },
    "id": "Y0i46Tta-Esm",
    "outputId": "8bae5a7f-b9dc-4eda-9251-fb7f480809e0"
   },
   "outputs": [
    {
     "name": "stdout",
     "output_type": "stream",
     "text": [
      "[[10 60 90 40 50]\n",
      " [10 20 30 40 50]]\n"
     ]
    }
   ],
   "source": [
    "import numpy as np\n",
    "fruit_cost=[10,60,90,40,50]\n",
    "vegetable_cost=[10,20,30,40,50]\n",
    "combine_np=np.array([fruit_cost,vegetable_cost])\n",
    "print(combine_np)"
   ]
  },
  {
   "cell_type": "code",
   "execution_count": 25,
   "metadata": {
    "colab": {
     "base_uri": "https://localhost:8080/"
    },
    "id": "CwQtKDd1-nlY",
    "outputId": "7bc763ff-b6b2-44ac-c49f-1248667c9f7d"
   },
   "outputs": [
    {
     "name": "stdout",
     "output_type": "stream",
     "text": [
      "[ 6  7  8  9 10]\n"
     ]
    }
   ],
   "source": [
    "#subsetting numpy array\n",
    "ar1=np.array([1,2,3,4,5,6,7,8,9,10])\n",
    "print(ar1[ar1>5])"
   ]
  },
  {
   "cell_type": "code",
   "execution_count": 26,
   "metadata": {
    "colab": {
     "base_uri": "https://localhost:8080/"
    },
    "id": "GTpKQkUAAKZs",
    "outputId": "399fefb9-6f38-4dfd-d95a-9a07d53009f7"
   },
   "outputs": [
    {
     "ename": "ModuleNotFoundError",
     "evalue": "No module named 'scipy'",
     "output_type": "error",
     "traceback": [
      "\u001b[1;31m---------------------------------------------------------------------------\u001b[0m",
      "\u001b[1;31mModuleNotFoundError\u001b[0m                       Traceback (most recent call last)",
      "Cell \u001b[1;32mIn[26], line 2\u001b[0m\n\u001b[0;32m      1\u001b[0m \u001b[38;5;66;03m#Scipy--Stands for Scientific Python\u001b[39;00m\n\u001b[1;32m----> 2\u001b[0m \u001b[38;5;28;01mfrom\u001b[39;00m \u001b[38;5;21;01mscipy\u001b[39;00m\u001b[38;5;21;01m.\u001b[39;00m\u001b[38;5;21;01mspecial\u001b[39;00m \u001b[38;5;28;01mimport\u001b[39;00m exp10\n\u001b[0;32m      3\u001b[0m val \u001b[38;5;241m=\u001b[39m exp10([\u001b[38;5;241m5\u001b[39m,\u001b[38;5;241m10\u001b[39m])\n\u001b[0;32m      4\u001b[0m \u001b[38;5;66;03m#Output : [1.e+01 1.e+10]\u001b[39;00m\n",
      "\u001b[1;31mModuleNotFoundError\u001b[0m: No module named 'scipy'"
     ]
    }
   ],
   "source": [
    "#Scipy--Stands for Scientific Python\n",
    "from scipy.special import exp10\n",
    "val = exp10([5,10])\n",
    "#Output : [1.e+01 1.e+10]\n",
    "print(val)"
   ]
  },
  {
   "cell_type": "code",
   "execution_count": null,
   "metadata": {
    "colab": {
     "base_uri": "https://localhost:8080/"
    },
    "id": "8NLUDJVkBJ9U",
    "outputId": "057b53d4-4813-45b7-a27f-35df90e5d77c"
   },
   "outputs": [],
   "source": [
    "from scipy.special import cbrt\n",
    "num = cbrt(27)\n",
    "#Output : 3.0\n",
    "print(num)"
   ]
  },
  {
   "cell_type": "code",
   "execution_count": null,
   "metadata": {
    "colab": {
     "base_uri": "https://localhost:8080/"
    },
    "id": "P25wIiEhBMK7",
    "outputId": "b0877711-998f-4ed9-c43b-b2262cf8f6ba"
   },
   "outputs": [],
   "source": [
    "from scipy.special import perm\n",
    "permutation = perm(4,2)\n",
    "#Output: 12.0\n",
    "print(permutation)"
   ]
  },
  {
   "cell_type": "code",
   "execution_count": null,
   "metadata": {
    "colab": {
     "base_uri": "https://localhost:8080/"
    },
    "id": "c94QqMkLBP3T",
    "outputId": "b5c4af51-be88-4488-afb1-4deadeb320f4"
   },
   "outputs": [],
   "source": [
    "from scipy.special import comb\n",
    "combination = comb(4,2)\n",
    "#Output: 6.0\n",
    "print(combination)"
   ]
  },
  {
   "cell_type": "code",
   "execution_count": null,
   "metadata": {
    "id": "xmFUp9ixBSVW"
   },
   "outputs": [],
   "source": [
    "#linear algebra\n",
    "from scipy import linalg\n",
    "import numpy as np\n",
    "#define square matrix\n",
    "arr = np.array([ [1,2], [3,4] ])\n",
    "#calculate the determinant\n",
    "determinant = linalg.det(arr)\n",
    "#Output: -2.0\n",
    "print(determinant)"
   ]
  },
  {
   "cell_type": "code",
   "execution_count": null,
   "metadata": {
    "id": "7bXaOHoLBVKy"
   },
   "outputs": [],
   "source": [
    "#Calculating the inverse of a 2-D matrix:\n",
    "from scipy import linalg\n",
    "import numpy as np\n",
    "#define square matrix\n",
    "arr = np.array([ [6,7], [4,5] ])\n",
    "#calculate the inverse\n",
    "inverse = linalg.inv(arr)\n",
    "#Output: [[ 2.5 -3.5]\n",
    "# [-2. 3. ]]\n",
    "print(inverse)"
   ]
  },
  {
   "cell_type": "code",
   "execution_count": null,
   "metadata": {
    "id": "zGKRPyuvBeEs"
   },
   "outputs": [],
   "source": [
    "#matplotlib"
   ]
  },
  {
   "cell_type": "code",
   "execution_count": null,
   "metadata": {
    "colab": {
     "base_uri": "https://localhost:8080/",
     "height": 430
    },
    "id": "iXicOW8CBeVD",
    "outputId": "a5e0d319-89d1-475e-f57d-4deff5a3513f"
   },
   "outputs": [],
   "source": [
    "from matplotlib import pyplot as plt\n",
    "#Creating the plot\n",
    "plt.plot([1,2,3],[1,2,3])\n",
    "#Printing the created plot\n",
    "plt.show()"
   ]
  },
  {
   "cell_type": "code",
   "execution_count": null,
   "metadata": {
    "colab": {
     "base_uri": "https://localhost:8080/",
     "height": 430
    },
    "id": "DH4FYp-lD8as",
    "outputId": "a671c359-c2ea-49d0-b749-4eb11b0638a7"
   },
   "outputs": [],
   "source": [
    "from matplotlib import pyplot as plt\n",
    "#Creating the plot\n",
    "plt.scatter([1,2,3],[1,2,3])\n",
    "#Printing the created plot\n",
    "plt.show()"
   ]
  },
  {
   "cell_type": "code",
   "execution_count": null,
   "metadata": {
    "colab": {
     "base_uri": "https://localhost:8080/",
     "height": 449
    },
    "id": "Le1jNzDRDNl5",
    "outputId": "379714f3-5189-4fd8-b909-3c98892717bd"
   },
   "outputs": [],
   "source": [
    "from matplotlib import pyplot as plt\n",
    "#Creating the plot\n",
    "plt.plot([1,2,3],[1,2,3],label='k')\n",
    "plt.plot([1,2,3],[4,5,6],label='i',color='r')\n",
    "plt.legend()\n",
    "plt.xlabel('item')\n",
    "plt.ylabel('kind')\n",
    "#Printing the created plot\n",
    "plt.show()"
   ]
  },
  {
   "cell_type": "code",
   "execution_count": null,
   "metadata": {
    "colab": {
     "base_uri": "https://localhost:8080/",
     "height": 472
    },
    "id": "sGO7QvfuBeX8",
    "outputId": "6a62cf15-bef4-487b-adf5-6e1b89e03308"
   },
   "outputs": [],
   "source": [
    "#Bar Chart\n",
    "from matplotlib import pyplot as plt\n",
    "plt.bar([1,2,3,4],[10,30,60,90])\n",
    "plt.xlabel('Season')\n",
    "plt.ylabel('Price')\n",
    "plt.title('Fruit Season')\n",
    "plt.show()"
   ]
  },
  {
   "cell_type": "code",
   "execution_count": null,
   "metadata": {
    "colab": {
     "base_uri": "https://localhost:8080/",
     "height": 472
    },
    "id": "A7BXSe4YCqbR",
    "outputId": "39b0a42a-bafa-4698-eb38-ffc91725f2f9"
   },
   "outputs": [],
   "source": [
    "from matplotlib import pyplot as plt\n",
    "plt.bar([1,2,3,4],[10,30,60,90],label=\"mango\",width=.5)\n",
    "plt.bar([1,2,3,4],[10,30,60,90],label=\"apple\",color='r',width=.2)\n",
    "plt.legend()\n",
    "plt.xlabel('Season')\n",
    "plt.ylabel('Price')\n",
    "plt.title('Fruit Season')\n",
    "plt.show()"
   ]
  },
  {
   "cell_type": "code",
   "execution_count": null,
   "metadata": {
    "colab": {
     "base_uri": "https://localhost:8080/",
     "height": 472
    },
    "id": "Zz0Ah0aeBeaN",
    "outputId": "0ffacac2-a417-4acf-ffd2-f54587cde29d"
   },
   "outputs": [],
   "source": [
    "from matplotlib import pyplot as plt\n",
    "price_season = [1,10,2,20,3,30,4,45,5,65,43,54,57,87,65,34,85,37,56,75,98,99,26,29,35,42,46,53,67,68]\n",
    "bins = [0,10,20,30,40,50,60,70,80,90,100]\n",
    "plt.hist(price_season, bins, histtype='bar', rwidth=0.7)\n",
    "plt.xlabel('price groups')\n",
    "plt.ylabel('price of fruits')\n",
    "plt.title('example histogram')\n",
    "plt.show()"
   ]
  },
  {
   "cell_type": "code",
   "execution_count": null,
   "metadata": {
    "id": "3ylPcnAkBec0"
   },
   "outputs": [],
   "source": [
    "import matplotlib.pyplot as plt\n",
    "x = [2,1,3,4,2,5,4,3,6,2]\n",
    "y = [6,5,6.5,3,7,8.5,9,3.5,4.3,8.1]\n",
    "x1=[8,2.5,7,9.5,11,10.2,13]\n",
    "y1=[3,2.4,3.6,5,4.4,6,5.3]\n",
    "plt.scatter(x,y, label='example 1',color='g')\n",
    "plt.scatter(x1,y1,label='example2',color='b')\n",
    "plt.xlabel('example1')\n",
    "plt.ylabel('example2')\n",
    "plt.title('Scatter Plot')\n",
    "plt.legend()\n",
    "plt.show()"
   ]
  },
  {
   "cell_type": "code",
   "execution_count": null,
   "metadata": {
    "colab": {
     "base_uri": "https://localhost:8080/",
     "height": 472
    },
    "id": "7DWlAW2UBefa",
    "outputId": "58f117cd-5339-4faa-f89b-e55d25cd3cfb"
   },
   "outputs": [],
   "source": [
    "import matplotlib.pyplot as plt\n",
    "x = [2,1,3,4,2,5,4,3,6,2]\n",
    "y = [6,5,6.5,3,7,8.5,9,3.5,4.3,8.1]\n",
    "plt.scatter(x,y)\n",
    "plt.xlabel('fruit')\n",
    "plt.ylabel('price')\n",
    "plt.title('price vs quanity')\n",
    "plt.show()"
   ]
  },
  {
   "cell_type": "code",
   "execution_count": null,
   "metadata": {
    "colab": {
     "base_uri": "https://localhost:8080/",
     "height": 472
    },
    "id": "kZ0cD4EtBehx",
    "outputId": "6241d264-4841-4fda-b21f-ba1cea54fdf6"
   },
   "outputs": [],
   "source": [
    "import matplotlib.pyplot as plt\n",
    "x = [2,1,3,4,2,5,4,3,6,2]\n",
    "y = [6,5,6.5,3,7,8.5,9,3.5,4.3,8.1]\n",
    "x1 = [2.2,1.3,3.4,4.5,1.2,2.5,2.4,3.7,6.5,1.2]\n",
    "y1 = [6,5,6.5,3,7,8.5,9,3.5,4.3,8.1]\n",
    "plt.scatter(x,y,label='apple')\n",
    "plt.scatter(x1,y1,label='banana',color='r')\n",
    "plt.xlabel('fruit')\n",
    "plt.ylabel('price')\n",
    "plt.legend()\n",
    "plt.title('price vs quanity')\n",
    "plt.show()"
   ]
  },
  {
   "cell_type": "code",
   "execution_count": null,
   "metadata": {
    "colab": {
     "base_uri": "https://localhost:8080/",
     "height": 428
    },
    "id": "LwAhP1JwBelN",
    "outputId": "3efd7366-d7db-4144-8a95-d3728ed55185"
   },
   "outputs": [],
   "source": [
    "import matplotlib.pyplot as plt\n",
    "slices = [6,3,4,12]\n",
    "breakast_options = ['Fruits','Cereal','Milk','poha']\n",
    "plt.pie(slices,labels=breakast_options,autopct='%1.1f%%')\n",
    "plt.title('Breakfast Preferences')\n",
    "plt.show()"
   ]
  },
  {
   "cell_type": "code",
   "execution_count": null,
   "metadata": {
    "colab": {
     "base_uri": "https://localhost:8080/",
     "height": 406
    },
    "id": "seyEy1rYI40w",
    "outputId": "cc7cea30-8e8f-4277-8f18-894cdbb5384b"
   },
   "outputs": [],
   "source": [
    "import matplotlib.pyplot as plt\n",
    "slices = [6,3,4,12]\n",
    "plt.pie(slices)\n",
    "plt.show()"
   ]
  },
  {
   "cell_type": "code",
   "execution_count": null,
   "metadata": {
    "colab": {
     "base_uri": "https://localhost:8080/",
     "height": 206
    },
    "id": "VVqSmHUxAAmU",
    "outputId": "fc9b1a30-ec71-43cd-8b7c-8a05fa79f99c"
   },
   "outputs": [],
   "source": [
    "#Seaborn\n",
    "import seaborn as sns\n",
    "import matplotlib.pyplot as plt\n",
    "import seaborn as sns\n",
    "# Load the \"tips\" dataset\n",
    "df = sns.load_dataset(\"tips\")\n",
    "df.head()\n"
   ]
  },
  {
   "cell_type": "code",
   "execution_count": null,
   "metadata": {
    "colab": {
     "base_uri": "https://localhost:8080/",
     "height": 304
    },
    "id": "GPjdZqq3Jp85",
    "outputId": "09a0f3d1-6fa4-48c0-f0db-9f3b927b4af4"
   },
   "outputs": [],
   "source": []
  },
  {
   "cell_type": "code",
   "execution_count": null,
   "metadata": {
    "colab": {
     "base_uri": "https://localhost:8080/",
     "height": 430
    },
    "id": "-Co2yP0nJaq4",
    "outputId": "fd47ee0d-aac4-49ca-bb13-ca08f7f601fe"
   },
   "outputs": [],
   "source": [
    "# Create violinplot using seaborn\n",
    "sns.violinplot(data=df)\n",
    "# Show the plot\n",
    "plt.show()"
   ]
  },
  {
   "cell_type": "code",
   "execution_count": null,
   "metadata": {
    "id": "vm6YCKubJq9K"
   },
   "outputs": [],
   "source": [
    "df=df.drop(columns=[\"time\"])\n"
   ]
  },
  {
   "cell_type": "code",
   "execution_count": null,
   "metadata": {
    "colab": {
     "base_uri": "https://localhost:8080/",
     "height": 206
    },
    "id": "W1zErrkCKEAA",
    "outputId": "87992a7e-96bb-4402-c30d-6868d6817ea2"
   },
   "outputs": [],
   "source": [
    "df.head()"
   ]
  },
  {
   "cell_type": "code",
   "execution_count": null,
   "metadata": {
    "colab": {
     "base_uri": "https://localhost:8080/",
     "height": 430
    },
    "id": "vJKCOP8TKLr4",
    "outputId": "445f8c9c-60c0-4fbd-8b55-74429b8c8da7"
   },
   "outputs": [],
   "source": [
    "# Create violinplot using seaborn\n",
    "sns.violinplot(data=df)\n",
    "# Show the plot\n",
    "plt.show()"
   ]
  },
  {
   "cell_type": "code",
   "execution_count": null,
   "metadata": {
    "colab": {
     "base_uri": "https://localhost:8080/",
     "height": 507
    },
    "id": "oHzVlNWOKOsY",
    "outputId": "12aeed89-f576-4987-9d1a-f31e6d9dff4d"
   },
   "outputs": [],
   "source": [
    "#scatter plot\n",
    "import matplotlib.pyplot as plt\n",
    "import seaborn as sns\n",
    "# Load the \"tips\" dataset\n",
    "df = sns.load_dataset(\"tips\")\n",
    "#Creating a scatter plot with hue(colour) to one of the variables\n",
    "sns.relplot(x=\"total_bill\", y=\"tip\", hue=\"day\", data=df);\n",
    "# Show the plot\n",
    "plt.show()"
   ]
  },
  {
   "cell_type": "code",
   "execution_count": null,
   "metadata": {
    "colab": {
     "base_uri": "https://localhost:8080/"
    },
    "id": "zJo3Kqk_Lh4c",
    "outputId": "a6d350ed-1eee-47c5-cb05-114ea032bdda"
   },
   "outputs": [],
   "source": [
    "from __future__ import print_function\n",
    "import torch\n",
    "#Construct a matrix using torch\n",
    "matrix = torch.empty(4,2)\n",
    "print(matrix)\n",
    "#Construct a random matrix using torch\n",
    "matrix_rand = torch.rand(4,2)\n",
    "print(matrix_rand)"
   ]
  }
 ],
 "metadata": {
  "colab": {
   "provenance": []
  },
  "kernelspec": {
   "display_name": "Python 3 (ipykernel)",
   "language": "python",
   "name": "python3"
  },
  "language_info": {
   "codemirror_mode": {
    "name": "ipython",
    "version": 3
   },
   "file_extension": ".py",
   "mimetype": "text/x-python",
   "name": "python",
   "nbconvert_exporter": "python",
   "pygments_lexer": "ipython3",
   "version": "3.11.4"
  }
 },
 "nbformat": 4,
 "nbformat_minor": 4
}
